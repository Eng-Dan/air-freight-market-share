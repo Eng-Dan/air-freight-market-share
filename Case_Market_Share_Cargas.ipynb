{
  "nbformat": 4,
  "nbformat_minor": 0,
  "metadata": {
    "colab": {
      "name": "Case Market Share Cargas",
      "provenance": [],
      "collapsed_sections": [],
      "toc_visible": true,
      "include_colab_link": true
    },
    "kernelspec": {
      "name": "python3",
      "display_name": "Python 3"
    },
    "language_info": {
      "name": "python"
    }
  },
  "cells": [
    {
      "cell_type": "markdown",
      "metadata": {
        "id": "view-in-github",
        "colab_type": "text"
      },
      "source": [
        "<a href=\"https://colab.research.google.com/github/Eng-Dan/air-freight-market-share/blob/master/Case_Market_Share_Cargas.ipynb\" target=\"_parent\"><img src=\"https://colab.research.google.com/assets/colab-badge.svg\" alt=\"Open In Colab\"/></a>"
      ]
    },
    {
      "cell_type": "markdown",
      "source": [
        "# Introdução"
      ],
      "metadata": {
        "id": "wBtKkC9-DVbb"
      }
    },
    {
      "cell_type": "markdown",
      "source": [
        "Este notebook aborda uma análise de Market Share de transporte de carga aéreo entre três empresas brasileiras com voos doméstico.\n",
        "\n",
        "O período considerado é de janeiro a outubro de 2021.\n",
        "\n",
        "O estudo está dividido em três partes:\n",
        "- Análise da qualidade dos dados disponíveis.\n",
        "- Market Share de cada empresa.\n",
        "- Estratégia de cada empresa."
      ],
      "metadata": {
        "id": "z-giMID3Dcxu"
      }
    },
    {
      "cell_type": "markdown",
      "source": [
        "# Link de fontes de dados públicos"
      ],
      "metadata": {
        "id": "l-jywGfG8KxF"
      }
    },
    {
      "cell_type": "markdown",
      "source": [
        "Os dados utilizados nesse estudo são derivados dos dados públicos disponibilizados pela ANAC.\n",
        "\n",
        "[DADOS ESTATÍSTICOS DO TRANSPORTE AÉREO](https://www.anac.gov.br/acesso-a-informacao/dados-abertos/areas-de-atuacao/voos-e-operacoes-aereas/dados-estatisticos-do-transporte-aereo)\n",
        "\n",
        "* [Metadados do conjunto de dados: Dados Estatísticos do Transporte Aéreo](https://www.anac.gov.br/acesso-a-informacao/dados-abertos/areas-de-atuacao/voos-e-operacoes-aereas/dados-estatisticos-do-transporte-aereo/48-dados-estatisticos-do-transporte-aereo)\n",
        "\n",
        "* [Voos e operações aéreas - Dados Estatísticos do Transporte Aéreo - Formato CSV](https://sistemas.anac.gov.br/dadosabertos/Voos%20e%20opera%C3%A7%C3%B5es%20a%C3%A9reas/Dados%20Estat%C3%ADsticos%20do%20Transporte%20A%C3%A9reo/)"
      ],
      "metadata": {
        "id": "3h7YZqTODo0h"
      }
    },
    {
      "cell_type": "markdown",
      "source": [
        "# Configurações e bibliotecas utilizadas"
      ],
      "metadata": {
        "id": "fGp-MXxWDLH8"
      }
    },
    {
      "cell_type": "code",
      "source": [
        "import pandas as pd\n",
        "import numpy as np\n",
        "import matplotlib.pyplot as plt\n",
        "import seaborn as sns\n",
        "import plotly.express as px"
      ],
      "metadata": {
        "id": "invFBl6z2oLp"
      },
      "execution_count": 1,
      "outputs": []
    },
    {
      "cell_type": "code",
      "source": [
        "from google.colab import drive\n",
        "drive.mount('/content/drive')"
      ],
      "metadata": {
        "colab": {
          "base_uri": "https://localhost:8080/"
        },
        "id": "A0SlJP7LCB7F",
        "outputId": "19099e6e-5bec-4e81-e5df-18026a3e2c6c"
      },
      "execution_count": 2,
      "outputs": [
        {
          "output_type": "stream",
          "name": "stdout",
          "text": [
            "Drive already mounted at /content/drive; to attempt to forcibly remount, call drive.mount(\"/content/drive\", force_remount=True).\n"
          ]
        }
      ]
    },
    {
      "cell_type": "markdown",
      "source": [
        "# Dicionário de dados das principais variáveis\n",
        "\n",
        "\n",
        "* `passageiros_pagos`: Refere-se aos passageiros que ocupam assentos comercializados ao público e que geram receita, com a compra de assentos, para a empresa de transporte aéreo. Incluem-se nesta definição as pessoas que viajam em virtude de ofertas promocionais, as que se valem dos programas de fidelização de clientes, as que se valem dos descontos concedidos pelas empresas, as que viajam com tarifas preferenciais, as pessoas que compram passagem no balcão ou através do site de empresa de transporte aéreo e as pessoas que compram passagem em agências de viagem.\n",
        "\n",
        "* `carga_paga_kg`: Refere-se à quantidade total, expressa em quilogramas, de todos os bens que tenham sido transportados na aeronave, exceto correio e bagagem, e tenham gerado receitas direta ou indireta para a empresa aérea.\n",
        "\n",
        "* `decolagens`: Refere-se ao número de decolagens que ocorreram entre os aeródromos de origem e destino da etapa."
      ],
      "metadata": {
        "id": "o4OrnIUY6KPN"
      }
    },
    {
      "cell_type": "markdown",
      "source": [
        "# Dataset e qualidade dos dados"
      ],
      "metadata": {
        "id": "kail_ZZmDyr0"
      }
    },
    {
      "cell_type": "markdown",
      "source": [
        "Caminho para o arquico \".csv\" que contém os dados para análise."
      ],
      "metadata": {
        "id": "1FqFl94LQrPN"
      }
    },
    {
      "cell_type": "code",
      "execution_count": 3,
      "metadata": {
        "id": "hau6HOpo2PG3"
      },
      "outputs": [],
      "source": [
        "arquivo_csv = '/content/drive/MyDrive/Colab Notebooks/Datasets/case_market_share.csv'"
      ]
    },
    {
      "cell_type": "markdown",
      "source": [
        "Carregamento dos dados do arquivo \".csv\" em um dataframe do Pandas. Dataframe nomeado como `df`."
      ],
      "metadata": {
        "id": "Rop09CBMI3Xf"
      }
    },
    {
      "cell_type": "code",
      "source": [
        "df = pd.read_csv(arquivo_csv, sep=';', encoding='windows-1252')"
      ],
      "metadata": {
        "id": "wV93VkFR20tY"
      },
      "execution_count": 4,
      "outputs": []
    },
    {
      "cell_type": "markdown",
      "source": [
        "Primeiramente vamos visualizar o conteúdo dos dados com base nos 10 primeiras registros."
      ],
      "metadata": {
        "id": "V1GtjnckA4FQ"
      }
    },
    {
      "cell_type": "code",
      "source": [
        "df.head(10)"
      ],
      "metadata": {
        "colab": {
          "base_uri": "https://localhost:8080/",
          "height": 479
        },
        "id": "8ceIxBUFAydj",
        "outputId": "29a952fb-095c-47e0-defa-fa6e35feaacf"
      },
      "execution_count": 5,
      "outputs": [
        {
          "output_type": "execute_result",
          "data": {
            "text/plain": [
              "  empresa   ano  mês origem aeroporto_origem destion aeroporto_destino  \\\n",
              "0       A  2021   10    BEL            BELÉM     BEL             BELÉM   \n",
              "1       A  2021   10    BEL            BELÉM     BEL             BELÉM   \n",
              "2       A  2021   10    BEL            BELÉM     MAB            MARABÁ   \n",
              "3       A  2021   10    BEL            BELÉM     MEU          ALMEIRIM   \n",
              "4       A  2021   10    BEL            BELÉM     BVS            BREVES   \n",
              "5       A  2021   10    BEL            BELÉM     GGF          ALMEIRIM   \n",
              "6       A  2021   10    BPG  BARRA DO GARÇAS     CGB     VÁRZEA GRANDE   \n",
              "7       A  2021   10    BPG  BARRA DO GARÇAS     GYN           GOIÂNIA   \n",
              "8       A  2021   10    BPG  BARRA DO GARÇAS     QDV           JUNDIAÍ   \n",
              "9       A  2021   10    CNF          CONFINS     CNF           CONFINS   \n",
              "\n",
              "    tipo_voo  passageiros_pagos  carga_paga_kg  decolagens  \n",
              "0  DOMÉSTICA                6.0           27.0         1.0  \n",
              "1  DOMÉSTICA                0.0            0.0         NaN  \n",
              "2  DOMÉSTICA                0.0            0.0         1.0  \n",
              "3  DOMÉSTICA              128.0         2237.0        23.0  \n",
              "4  DOMÉSTICA              171.0         2218.0        33.0  \n",
              "5  DOMÉSTICA                0.0            0.0         NaN  \n",
              "6  DOMÉSTICA              119.0         1573.0        21.0  \n",
              "7  DOMÉSTICA               16.0          115.0         3.0  \n",
              "8  DOMÉSTICA                0.0            0.0         1.0  \n",
              "9  DOMÉSTICA                0.0            0.0         1.0  "
            ],
            "text/html": [
              "\n",
              "  <div id=\"df-17a32839-9e2c-49a6-8721-599a55b8fed1\">\n",
              "    <div class=\"colab-df-container\">\n",
              "      <div>\n",
              "<style scoped>\n",
              "    .dataframe tbody tr th:only-of-type {\n",
              "        vertical-align: middle;\n",
              "    }\n",
              "\n",
              "    .dataframe tbody tr th {\n",
              "        vertical-align: top;\n",
              "    }\n",
              "\n",
              "    .dataframe thead th {\n",
              "        text-align: right;\n",
              "    }\n",
              "</style>\n",
              "<table border=\"1\" class=\"dataframe\">\n",
              "  <thead>\n",
              "    <tr style=\"text-align: right;\">\n",
              "      <th></th>\n",
              "      <th>empresa</th>\n",
              "      <th>ano</th>\n",
              "      <th>mês</th>\n",
              "      <th>origem</th>\n",
              "      <th>aeroporto_origem</th>\n",
              "      <th>destion</th>\n",
              "      <th>aeroporto_destino</th>\n",
              "      <th>tipo_voo</th>\n",
              "      <th>passageiros_pagos</th>\n",
              "      <th>carga_paga_kg</th>\n",
              "      <th>decolagens</th>\n",
              "    </tr>\n",
              "  </thead>\n",
              "  <tbody>\n",
              "    <tr>\n",
              "      <th>0</th>\n",
              "      <td>A</td>\n",
              "      <td>2021</td>\n",
              "      <td>10</td>\n",
              "      <td>BEL</td>\n",
              "      <td>BELÉM</td>\n",
              "      <td>BEL</td>\n",
              "      <td>BELÉM</td>\n",
              "      <td>DOMÉSTICA</td>\n",
              "      <td>6.0</td>\n",
              "      <td>27.0</td>\n",
              "      <td>1.0</td>\n",
              "    </tr>\n",
              "    <tr>\n",
              "      <th>1</th>\n",
              "      <td>A</td>\n",
              "      <td>2021</td>\n",
              "      <td>10</td>\n",
              "      <td>BEL</td>\n",
              "      <td>BELÉM</td>\n",
              "      <td>BEL</td>\n",
              "      <td>BELÉM</td>\n",
              "      <td>DOMÉSTICA</td>\n",
              "      <td>0.0</td>\n",
              "      <td>0.0</td>\n",
              "      <td>NaN</td>\n",
              "    </tr>\n",
              "    <tr>\n",
              "      <th>2</th>\n",
              "      <td>A</td>\n",
              "      <td>2021</td>\n",
              "      <td>10</td>\n",
              "      <td>BEL</td>\n",
              "      <td>BELÉM</td>\n",
              "      <td>MAB</td>\n",
              "      <td>MARABÁ</td>\n",
              "      <td>DOMÉSTICA</td>\n",
              "      <td>0.0</td>\n",
              "      <td>0.0</td>\n",
              "      <td>1.0</td>\n",
              "    </tr>\n",
              "    <tr>\n",
              "      <th>3</th>\n",
              "      <td>A</td>\n",
              "      <td>2021</td>\n",
              "      <td>10</td>\n",
              "      <td>BEL</td>\n",
              "      <td>BELÉM</td>\n",
              "      <td>MEU</td>\n",
              "      <td>ALMEIRIM</td>\n",
              "      <td>DOMÉSTICA</td>\n",
              "      <td>128.0</td>\n",
              "      <td>2237.0</td>\n",
              "      <td>23.0</td>\n",
              "    </tr>\n",
              "    <tr>\n",
              "      <th>4</th>\n",
              "      <td>A</td>\n",
              "      <td>2021</td>\n",
              "      <td>10</td>\n",
              "      <td>BEL</td>\n",
              "      <td>BELÉM</td>\n",
              "      <td>BVS</td>\n",
              "      <td>BREVES</td>\n",
              "      <td>DOMÉSTICA</td>\n",
              "      <td>171.0</td>\n",
              "      <td>2218.0</td>\n",
              "      <td>33.0</td>\n",
              "    </tr>\n",
              "    <tr>\n",
              "      <th>5</th>\n",
              "      <td>A</td>\n",
              "      <td>2021</td>\n",
              "      <td>10</td>\n",
              "      <td>BEL</td>\n",
              "      <td>BELÉM</td>\n",
              "      <td>GGF</td>\n",
              "      <td>ALMEIRIM</td>\n",
              "      <td>DOMÉSTICA</td>\n",
              "      <td>0.0</td>\n",
              "      <td>0.0</td>\n",
              "      <td>NaN</td>\n",
              "    </tr>\n",
              "    <tr>\n",
              "      <th>6</th>\n",
              "      <td>A</td>\n",
              "      <td>2021</td>\n",
              "      <td>10</td>\n",
              "      <td>BPG</td>\n",
              "      <td>BARRA DO GARÇAS</td>\n",
              "      <td>CGB</td>\n",
              "      <td>VÁRZEA GRANDE</td>\n",
              "      <td>DOMÉSTICA</td>\n",
              "      <td>119.0</td>\n",
              "      <td>1573.0</td>\n",
              "      <td>21.0</td>\n",
              "    </tr>\n",
              "    <tr>\n",
              "      <th>7</th>\n",
              "      <td>A</td>\n",
              "      <td>2021</td>\n",
              "      <td>10</td>\n",
              "      <td>BPG</td>\n",
              "      <td>BARRA DO GARÇAS</td>\n",
              "      <td>GYN</td>\n",
              "      <td>GOIÂNIA</td>\n",
              "      <td>DOMÉSTICA</td>\n",
              "      <td>16.0</td>\n",
              "      <td>115.0</td>\n",
              "      <td>3.0</td>\n",
              "    </tr>\n",
              "    <tr>\n",
              "      <th>8</th>\n",
              "      <td>A</td>\n",
              "      <td>2021</td>\n",
              "      <td>10</td>\n",
              "      <td>BPG</td>\n",
              "      <td>BARRA DO GARÇAS</td>\n",
              "      <td>QDV</td>\n",
              "      <td>JUNDIAÍ</td>\n",
              "      <td>DOMÉSTICA</td>\n",
              "      <td>0.0</td>\n",
              "      <td>0.0</td>\n",
              "      <td>1.0</td>\n",
              "    </tr>\n",
              "    <tr>\n",
              "      <th>9</th>\n",
              "      <td>A</td>\n",
              "      <td>2021</td>\n",
              "      <td>10</td>\n",
              "      <td>CNF</td>\n",
              "      <td>CONFINS</td>\n",
              "      <td>CNF</td>\n",
              "      <td>CONFINS</td>\n",
              "      <td>DOMÉSTICA</td>\n",
              "      <td>0.0</td>\n",
              "      <td>0.0</td>\n",
              "      <td>1.0</td>\n",
              "    </tr>\n",
              "  </tbody>\n",
              "</table>\n",
              "</div>\n",
              "      <button class=\"colab-df-convert\" onclick=\"convertToInteractive('df-17a32839-9e2c-49a6-8721-599a55b8fed1')\"\n",
              "              title=\"Convert this dataframe to an interactive table.\"\n",
              "              style=\"display:none;\">\n",
              "        \n",
              "  <svg xmlns=\"http://www.w3.org/2000/svg\" height=\"24px\"viewBox=\"0 0 24 24\"\n",
              "       width=\"24px\">\n",
              "    <path d=\"M0 0h24v24H0V0z\" fill=\"none\"/>\n",
              "    <path d=\"M18.56 5.44l.94 2.06.94-2.06 2.06-.94-2.06-.94-.94-2.06-.94 2.06-2.06.94zm-11 1L8.5 8.5l.94-2.06 2.06-.94-2.06-.94L8.5 2.5l-.94 2.06-2.06.94zm10 10l.94 2.06.94-2.06 2.06-.94-2.06-.94-.94-2.06-.94 2.06-2.06.94z\"/><path d=\"M17.41 7.96l-1.37-1.37c-.4-.4-.92-.59-1.43-.59-.52 0-1.04.2-1.43.59L10.3 9.45l-7.72 7.72c-.78.78-.78 2.05 0 2.83L4 21.41c.39.39.9.59 1.41.59.51 0 1.02-.2 1.41-.59l7.78-7.78 2.81-2.81c.8-.78.8-2.07 0-2.86zM5.41 20L4 18.59l7.72-7.72 1.47 1.35L5.41 20z\"/>\n",
              "  </svg>\n",
              "      </button>\n",
              "      \n",
              "  <style>\n",
              "    .colab-df-container {\n",
              "      display:flex;\n",
              "      flex-wrap:wrap;\n",
              "      gap: 12px;\n",
              "    }\n",
              "\n",
              "    .colab-df-convert {\n",
              "      background-color: #E8F0FE;\n",
              "      border: none;\n",
              "      border-radius: 50%;\n",
              "      cursor: pointer;\n",
              "      display: none;\n",
              "      fill: #1967D2;\n",
              "      height: 32px;\n",
              "      padding: 0 0 0 0;\n",
              "      width: 32px;\n",
              "    }\n",
              "\n",
              "    .colab-df-convert:hover {\n",
              "      background-color: #E2EBFA;\n",
              "      box-shadow: 0px 1px 2px rgba(60, 64, 67, 0.3), 0px 1px 3px 1px rgba(60, 64, 67, 0.15);\n",
              "      fill: #174EA6;\n",
              "    }\n",
              "\n",
              "    [theme=dark] .colab-df-convert {\n",
              "      background-color: #3B4455;\n",
              "      fill: #D2E3FC;\n",
              "    }\n",
              "\n",
              "    [theme=dark] .colab-df-convert:hover {\n",
              "      background-color: #434B5C;\n",
              "      box-shadow: 0px 1px 3px 1px rgba(0, 0, 0, 0.15);\n",
              "      filter: drop-shadow(0px 1px 2px rgba(0, 0, 0, 0.3));\n",
              "      fill: #FFFFFF;\n",
              "    }\n",
              "  </style>\n",
              "\n",
              "      <script>\n",
              "        const buttonEl =\n",
              "          document.querySelector('#df-17a32839-9e2c-49a6-8721-599a55b8fed1 button.colab-df-convert');\n",
              "        buttonEl.style.display =\n",
              "          google.colab.kernel.accessAllowed ? 'block' : 'none';\n",
              "\n",
              "        async function convertToInteractive(key) {\n",
              "          const element = document.querySelector('#df-17a32839-9e2c-49a6-8721-599a55b8fed1');\n",
              "          const dataTable =\n",
              "            await google.colab.kernel.invokeFunction('convertToInteractive',\n",
              "                                                     [key], {});\n",
              "          if (!dataTable) return;\n",
              "\n",
              "          const docLinkHtml = 'Like what you see? Visit the ' +\n",
              "            '<a target=\"_blank\" href=https://colab.research.google.com/notebooks/data_table.ipynb>data table notebook</a>'\n",
              "            + ' to learn more about interactive tables.';\n",
              "          element.innerHTML = '';\n",
              "          dataTable['output_type'] = 'display_data';\n",
              "          await google.colab.output.renderOutput(dataTable, element);\n",
              "          const docLink = document.createElement('div');\n",
              "          docLink.innerHTML = docLinkHtml;\n",
              "          element.appendChild(docLink);\n",
              "        }\n",
              "      </script>\n",
              "    </div>\n",
              "  </div>\n",
              "  "
            ]
          },
          "metadata": {},
          "execution_count": 5
        }
      ]
    },
    {
      "cell_type": "markdown",
      "source": [
        "Podemos observar alguns pontos a serem trabalhados no dataset:\n",
        "\n",
        "1. Para efeitos desse estudo, serão desconsideradas as linhas em que o número de passageiros pagos e carga paga for igual a 0, pois essa condição pode ser devido a *non revenue flights*.\n",
        "\n",
        "2. Existem registros em que o aeroporto de destino é o mesmo de origem:\n",
        "\n",
        "    Nesse caso, esse registros serão desconsiderados. \n",
        "\n",
        "2. Dados contêm valores ausentes:\n",
        "    \n",
        "    Podemos ver que na culuna `decolagens` há valores do tipo \"NaN\" (**N**ot **a** **N**umber) ou nulos (*null*). Dessa forma, segue necessário uma melhor avaliação da qualidade dos registros de cada linha em relação à valores ausentes em todas as colunas.\n",
        "\n"
      ],
      "metadata": {
        "id": "RpcIanXPGNcn"
      }
    },
    {
      "cell_type": "markdown",
      "source": [
        "## Tratamento de registros inválidos e valores ausentes"
      ],
      "metadata": {
        "id": "lnRK5IMdJ6Ra"
      }
    },
    {
      "cell_type": "markdown",
      "source": [
        "Método para remover registros em que `passageiros_pagos` e `carga_paga` são iguais a 0:"
      ],
      "metadata": {
        "id": "OmLyrwyBtt-3"
      }
    },
    {
      "cell_type": "code",
      "source": [
        "df = df[(df.passageiros_pagos > 0) | (df.carga_paga_kg > 0)]"
      ],
      "metadata": {
        "id": "X69az95VsOui"
      },
      "execution_count": 6,
      "outputs": []
    },
    {
      "cell_type": "markdown",
      "source": [
        "Método para remover registros em que `origem` e `destino` são iguais:"
      ],
      "metadata": {
        "id": "OZo-wLebuAR8"
      }
    },
    {
      "cell_type": "code",
      "source": [
        "df.drop(df[df.origem == df.destion].index, inplace=True)"
      ],
      "metadata": {
        "id": "Soc1d7xYJ_uB"
      },
      "execution_count": 7,
      "outputs": []
    },
    {
      "cell_type": "markdown",
      "source": [
        "Método para verificar quantidade de valores ausentes em cada coluna:"
      ],
      "metadata": {
        "id": "NYnGQbiALUhH"
      }
    },
    {
      "cell_type": "code",
      "source": [
        "df.info()"
      ],
      "metadata": {
        "colab": {
          "base_uri": "https://localhost:8080/"
        },
        "id": "7Qx9MqxjTuGL",
        "outputId": "98f77b51-35e1-4de1-9a44-a7ba7ec67ef1"
      },
      "execution_count": 8,
      "outputs": [
        {
          "output_type": "stream",
          "name": "stdout",
          "text": [
            "<class 'pandas.core.frame.DataFrame'>\n",
            "Int64Index: 10710 entries, 3 to 13267\n",
            "Data columns (total 11 columns):\n",
            " #   Column             Non-Null Count  Dtype  \n",
            "---  ------             --------------  -----  \n",
            " 0   empresa            10710 non-null  object \n",
            " 1   ano                10710 non-null  int64  \n",
            " 2   mês                10710 non-null  int64  \n",
            " 3   origem             10710 non-null  object \n",
            " 4   aeroporto_origem   10710 non-null  object \n",
            " 5   destion            10710 non-null  object \n",
            " 6   aeroporto_destino  10710 non-null  object \n",
            " 7   tipo_voo           10710 non-null  object \n",
            " 8   passageiros_pagos  10710 non-null  float64\n",
            " 9   carga_paga_kg      10710 non-null  float64\n",
            " 10  decolagens         10467 non-null  float64\n",
            "dtypes: float64(3), int64(2), object(6)\n",
            "memory usage: 1004.1+ KB\n"
          ]
        }
      ]
    },
    {
      "cell_type": "markdown",
      "source": [
        "Podemos confirmar que o dataset agora tem um total de 10710 registros, contudo a coluna `decolagens`é a única que possui valores ausentes.\n",
        "\n",
        "* O que há nesses registros em que existem valores ausentes?\n",
        "\n",
        "Vamos filtrar e visualizar essas linhas para ter uma ideia melhor do que pode ser."
      ],
      "metadata": {
        "id": "RhsSQGBiEtYp"
      }
    },
    {
      "cell_type": "code",
      "source": [
        "df[df.decolagens.isnull()]"
      ],
      "metadata": {
        "colab": {
          "base_uri": "https://localhost:8080/",
          "height": 488
        },
        "id": "Bmts26sXOjKK",
        "outputId": "ebef8c5c-153c-45b0-ac5e-3adb503f5913"
      },
      "execution_count": 9,
      "outputs": [
        {
          "output_type": "execute_result",
          "data": {
            "text/plain": [
              "      empresa   ano  mês origem aeroporto_origem destion aeroporto_destino  \\\n",
              "92          A  2021    1    BEL            BELÉM     GYN           GOIÂNIA   \n",
              "100         A  2021    1    BEL            BELÉM     POA      PORTO ALEGRE   \n",
              "103         A  2021    1    BEL            BELÉM     PVH       PORTO VELHO   \n",
              "172         A  2021    1    CNF          CONFINS     PMW            PALMAS   \n",
              "177         A  2021    1    CNF          CONFINS     SDU    RIO DE JANEIRO   \n",
              "...       ...   ...  ...    ...              ...     ...               ...   \n",
              "13043       C  2021   10    FOR        FORTALEZA     MCP            MACAPÁ   \n",
              "13044       C  2021   10    FOR        FORTALEZA     PVH       PORTO VELHO   \n",
              "13151       C  2021   10    MCP           MACAPÁ     FOR         FORTALEZA   \n",
              "13168       C  2021   10    PVH      PORTO VELHO     FOR         FORTALEZA   \n",
              "13231       C  2021   10    CGH        SÃO PAULO     UNA               UNA   \n",
              "\n",
              "        tipo_voo  passageiros_pagos  carga_paga_kg  decolagens  \n",
              "92     DOMÉSTICA               20.0            0.0         NaN  \n",
              "100    DOMÉSTICA              125.0            0.0         NaN  \n",
              "103    DOMÉSTICA              449.0            0.0         NaN  \n",
              "172    DOMÉSTICA              287.0            0.0         NaN  \n",
              "177    DOMÉSTICA              225.0            0.0         NaN  \n",
              "...          ...                ...            ...         ...  \n",
              "13043  DOMÉSTICA               18.0          142.0         NaN  \n",
              "13044  DOMÉSTICA               18.0          103.0         NaN  \n",
              "13151  DOMÉSTICA               14.0            0.0         NaN  \n",
              "13168  DOMÉSTICA               27.0            0.0         NaN  \n",
              "13231  DOMÉSTICA              121.0            0.0         NaN  \n",
              "\n",
              "[243 rows x 11 columns]"
            ],
            "text/html": [
              "\n",
              "  <div id=\"df-051a53e9-939a-40b1-ad62-3568e64309eb\">\n",
              "    <div class=\"colab-df-container\">\n",
              "      <div>\n",
              "<style scoped>\n",
              "    .dataframe tbody tr th:only-of-type {\n",
              "        vertical-align: middle;\n",
              "    }\n",
              "\n",
              "    .dataframe tbody tr th {\n",
              "        vertical-align: top;\n",
              "    }\n",
              "\n",
              "    .dataframe thead th {\n",
              "        text-align: right;\n",
              "    }\n",
              "</style>\n",
              "<table border=\"1\" class=\"dataframe\">\n",
              "  <thead>\n",
              "    <tr style=\"text-align: right;\">\n",
              "      <th></th>\n",
              "      <th>empresa</th>\n",
              "      <th>ano</th>\n",
              "      <th>mês</th>\n",
              "      <th>origem</th>\n",
              "      <th>aeroporto_origem</th>\n",
              "      <th>destion</th>\n",
              "      <th>aeroporto_destino</th>\n",
              "      <th>tipo_voo</th>\n",
              "      <th>passageiros_pagos</th>\n",
              "      <th>carga_paga_kg</th>\n",
              "      <th>decolagens</th>\n",
              "    </tr>\n",
              "  </thead>\n",
              "  <tbody>\n",
              "    <tr>\n",
              "      <th>92</th>\n",
              "      <td>A</td>\n",
              "      <td>2021</td>\n",
              "      <td>1</td>\n",
              "      <td>BEL</td>\n",
              "      <td>BELÉM</td>\n",
              "      <td>GYN</td>\n",
              "      <td>GOIÂNIA</td>\n",
              "      <td>DOMÉSTICA</td>\n",
              "      <td>20.0</td>\n",
              "      <td>0.0</td>\n",
              "      <td>NaN</td>\n",
              "    </tr>\n",
              "    <tr>\n",
              "      <th>100</th>\n",
              "      <td>A</td>\n",
              "      <td>2021</td>\n",
              "      <td>1</td>\n",
              "      <td>BEL</td>\n",
              "      <td>BELÉM</td>\n",
              "      <td>POA</td>\n",
              "      <td>PORTO ALEGRE</td>\n",
              "      <td>DOMÉSTICA</td>\n",
              "      <td>125.0</td>\n",
              "      <td>0.0</td>\n",
              "      <td>NaN</td>\n",
              "    </tr>\n",
              "    <tr>\n",
              "      <th>103</th>\n",
              "      <td>A</td>\n",
              "      <td>2021</td>\n",
              "      <td>1</td>\n",
              "      <td>BEL</td>\n",
              "      <td>BELÉM</td>\n",
              "      <td>PVH</td>\n",
              "      <td>PORTO VELHO</td>\n",
              "      <td>DOMÉSTICA</td>\n",
              "      <td>449.0</td>\n",
              "      <td>0.0</td>\n",
              "      <td>NaN</td>\n",
              "    </tr>\n",
              "    <tr>\n",
              "      <th>172</th>\n",
              "      <td>A</td>\n",
              "      <td>2021</td>\n",
              "      <td>1</td>\n",
              "      <td>CNF</td>\n",
              "      <td>CONFINS</td>\n",
              "      <td>PMW</td>\n",
              "      <td>PALMAS</td>\n",
              "      <td>DOMÉSTICA</td>\n",
              "      <td>287.0</td>\n",
              "      <td>0.0</td>\n",
              "      <td>NaN</td>\n",
              "    </tr>\n",
              "    <tr>\n",
              "      <th>177</th>\n",
              "      <td>A</td>\n",
              "      <td>2021</td>\n",
              "      <td>1</td>\n",
              "      <td>CNF</td>\n",
              "      <td>CONFINS</td>\n",
              "      <td>SDU</td>\n",
              "      <td>RIO DE JANEIRO</td>\n",
              "      <td>DOMÉSTICA</td>\n",
              "      <td>225.0</td>\n",
              "      <td>0.0</td>\n",
              "      <td>NaN</td>\n",
              "    </tr>\n",
              "    <tr>\n",
              "      <th>...</th>\n",
              "      <td>...</td>\n",
              "      <td>...</td>\n",
              "      <td>...</td>\n",
              "      <td>...</td>\n",
              "      <td>...</td>\n",
              "      <td>...</td>\n",
              "      <td>...</td>\n",
              "      <td>...</td>\n",
              "      <td>...</td>\n",
              "      <td>...</td>\n",
              "      <td>...</td>\n",
              "    </tr>\n",
              "    <tr>\n",
              "      <th>13043</th>\n",
              "      <td>C</td>\n",
              "      <td>2021</td>\n",
              "      <td>10</td>\n",
              "      <td>FOR</td>\n",
              "      <td>FORTALEZA</td>\n",
              "      <td>MCP</td>\n",
              "      <td>MACAPÁ</td>\n",
              "      <td>DOMÉSTICA</td>\n",
              "      <td>18.0</td>\n",
              "      <td>142.0</td>\n",
              "      <td>NaN</td>\n",
              "    </tr>\n",
              "    <tr>\n",
              "      <th>13044</th>\n",
              "      <td>C</td>\n",
              "      <td>2021</td>\n",
              "      <td>10</td>\n",
              "      <td>FOR</td>\n",
              "      <td>FORTALEZA</td>\n",
              "      <td>PVH</td>\n",
              "      <td>PORTO VELHO</td>\n",
              "      <td>DOMÉSTICA</td>\n",
              "      <td>18.0</td>\n",
              "      <td>103.0</td>\n",
              "      <td>NaN</td>\n",
              "    </tr>\n",
              "    <tr>\n",
              "      <th>13151</th>\n",
              "      <td>C</td>\n",
              "      <td>2021</td>\n",
              "      <td>10</td>\n",
              "      <td>MCP</td>\n",
              "      <td>MACAPÁ</td>\n",
              "      <td>FOR</td>\n",
              "      <td>FORTALEZA</td>\n",
              "      <td>DOMÉSTICA</td>\n",
              "      <td>14.0</td>\n",
              "      <td>0.0</td>\n",
              "      <td>NaN</td>\n",
              "    </tr>\n",
              "    <tr>\n",
              "      <th>13168</th>\n",
              "      <td>C</td>\n",
              "      <td>2021</td>\n",
              "      <td>10</td>\n",
              "      <td>PVH</td>\n",
              "      <td>PORTO VELHO</td>\n",
              "      <td>FOR</td>\n",
              "      <td>FORTALEZA</td>\n",
              "      <td>DOMÉSTICA</td>\n",
              "      <td>27.0</td>\n",
              "      <td>0.0</td>\n",
              "      <td>NaN</td>\n",
              "    </tr>\n",
              "    <tr>\n",
              "      <th>13231</th>\n",
              "      <td>C</td>\n",
              "      <td>2021</td>\n",
              "      <td>10</td>\n",
              "      <td>CGH</td>\n",
              "      <td>SÃO PAULO</td>\n",
              "      <td>UNA</td>\n",
              "      <td>UNA</td>\n",
              "      <td>DOMÉSTICA</td>\n",
              "      <td>121.0</td>\n",
              "      <td>0.0</td>\n",
              "      <td>NaN</td>\n",
              "    </tr>\n",
              "  </tbody>\n",
              "</table>\n",
              "<p>243 rows × 11 columns</p>\n",
              "</div>\n",
              "      <button class=\"colab-df-convert\" onclick=\"convertToInteractive('df-051a53e9-939a-40b1-ad62-3568e64309eb')\"\n",
              "              title=\"Convert this dataframe to an interactive table.\"\n",
              "              style=\"display:none;\">\n",
              "        \n",
              "  <svg xmlns=\"http://www.w3.org/2000/svg\" height=\"24px\"viewBox=\"0 0 24 24\"\n",
              "       width=\"24px\">\n",
              "    <path d=\"M0 0h24v24H0V0z\" fill=\"none\"/>\n",
              "    <path d=\"M18.56 5.44l.94 2.06.94-2.06 2.06-.94-2.06-.94-.94-2.06-.94 2.06-2.06.94zm-11 1L8.5 8.5l.94-2.06 2.06-.94-2.06-.94L8.5 2.5l-.94 2.06-2.06.94zm10 10l.94 2.06.94-2.06 2.06-.94-2.06-.94-.94-2.06-.94 2.06-2.06.94z\"/><path d=\"M17.41 7.96l-1.37-1.37c-.4-.4-.92-.59-1.43-.59-.52 0-1.04.2-1.43.59L10.3 9.45l-7.72 7.72c-.78.78-.78 2.05 0 2.83L4 21.41c.39.39.9.59 1.41.59.51 0 1.02-.2 1.41-.59l7.78-7.78 2.81-2.81c.8-.78.8-2.07 0-2.86zM5.41 20L4 18.59l7.72-7.72 1.47 1.35L5.41 20z\"/>\n",
              "  </svg>\n",
              "      </button>\n",
              "      \n",
              "  <style>\n",
              "    .colab-df-container {\n",
              "      display:flex;\n",
              "      flex-wrap:wrap;\n",
              "      gap: 12px;\n",
              "    }\n",
              "\n",
              "    .colab-df-convert {\n",
              "      background-color: #E8F0FE;\n",
              "      border: none;\n",
              "      border-radius: 50%;\n",
              "      cursor: pointer;\n",
              "      display: none;\n",
              "      fill: #1967D2;\n",
              "      height: 32px;\n",
              "      padding: 0 0 0 0;\n",
              "      width: 32px;\n",
              "    }\n",
              "\n",
              "    .colab-df-convert:hover {\n",
              "      background-color: #E2EBFA;\n",
              "      box-shadow: 0px 1px 2px rgba(60, 64, 67, 0.3), 0px 1px 3px 1px rgba(60, 64, 67, 0.15);\n",
              "      fill: #174EA6;\n",
              "    }\n",
              "\n",
              "    [theme=dark] .colab-df-convert {\n",
              "      background-color: #3B4455;\n",
              "      fill: #D2E3FC;\n",
              "    }\n",
              "\n",
              "    [theme=dark] .colab-df-convert:hover {\n",
              "      background-color: #434B5C;\n",
              "      box-shadow: 0px 1px 3px 1px rgba(0, 0, 0, 0.15);\n",
              "      filter: drop-shadow(0px 1px 2px rgba(0, 0, 0, 0.3));\n",
              "      fill: #FFFFFF;\n",
              "    }\n",
              "  </style>\n",
              "\n",
              "      <script>\n",
              "        const buttonEl =\n",
              "          document.querySelector('#df-051a53e9-939a-40b1-ad62-3568e64309eb button.colab-df-convert');\n",
              "        buttonEl.style.display =\n",
              "          google.colab.kernel.accessAllowed ? 'block' : 'none';\n",
              "\n",
              "        async function convertToInteractive(key) {\n",
              "          const element = document.querySelector('#df-051a53e9-939a-40b1-ad62-3568e64309eb');\n",
              "          const dataTable =\n",
              "            await google.colab.kernel.invokeFunction('convertToInteractive',\n",
              "                                                     [key], {});\n",
              "          if (!dataTable) return;\n",
              "\n",
              "          const docLinkHtml = 'Like what you see? Visit the ' +\n",
              "            '<a target=\"_blank\" href=https://colab.research.google.com/notebooks/data_table.ipynb>data table notebook</a>'\n",
              "            + ' to learn more about interactive tables.';\n",
              "          element.innerHTML = '';\n",
              "          dataTable['output_type'] = 'display_data';\n",
              "          await google.colab.output.renderOutput(dataTable, element);\n",
              "          const docLink = document.createElement('div');\n",
              "          docLink.innerHTML = docLinkHtml;\n",
              "          element.appendChild(docLink);\n",
              "        }\n",
              "      </script>\n",
              "    </div>\n",
              "  </div>\n",
              "  "
            ]
          },
          "metadata": {},
          "execution_count": 9
        }
      ]
    },
    {
      "cell_type": "markdown",
      "source": [
        "A principio, não foi possível estabelecer uma correlação de causa para valores ausentes entre as colunas `passageiros_pagos`, `carga_paga_kg` e `decolagens`."
      ],
      "metadata": {
        "id": "uERclhxcbD1b"
      }
    },
    {
      "cell_type": "markdown",
      "source": [
        "Método para descartar os registros que contém valores ausentes:"
      ],
      "metadata": {
        "id": "YBq4LNqBcDrg"
      }
    },
    {
      "cell_type": "code",
      "source": [
        "df = df.dropna()"
      ],
      "metadata": {
        "id": "Oy1COtVCdu9I"
      },
      "execution_count": 10,
      "outputs": []
    },
    {
      "cell_type": "code",
      "source": [
        "df.head()"
      ],
      "metadata": {
        "colab": {
          "base_uri": "https://localhost:8080/",
          "height": 305
        },
        "id": "IOWtWQ34r7kD",
        "outputId": "ce402d52-7504-4855-a671-c496183e03b3"
      },
      "execution_count": 11,
      "outputs": [
        {
          "output_type": "execute_result",
          "data": {
            "text/plain": [
              "   empresa   ano  mês origem aeroporto_origem destion aeroporto_destino  \\\n",
              "3        A  2021   10    BEL            BELÉM     MEU          ALMEIRIM   \n",
              "4        A  2021   10    BEL            BELÉM     BVS            BREVES   \n",
              "6        A  2021   10    BPG  BARRA DO GARÇAS     CGB     VÁRZEA GRANDE   \n",
              "7        A  2021   10    BPG  BARRA DO GARÇAS     GYN           GOIÂNIA   \n",
              "11       A  2021   10    CNF          CONFINS     QDV           JUNDIAÍ   \n",
              "\n",
              "     tipo_voo  passageiros_pagos  carga_paga_kg  decolagens  \n",
              "3   DOMÉSTICA              128.0         2237.0        23.0  \n",
              "4   DOMÉSTICA              171.0         2218.0        33.0  \n",
              "6   DOMÉSTICA              119.0         1573.0        21.0  \n",
              "7   DOMÉSTICA               16.0          115.0         3.0  \n",
              "11  DOMÉSTICA                0.0         1376.0        14.0  "
            ],
            "text/html": [
              "\n",
              "  <div id=\"df-96275c90-19c5-49ab-8844-86eb34765a12\">\n",
              "    <div class=\"colab-df-container\">\n",
              "      <div>\n",
              "<style scoped>\n",
              "    .dataframe tbody tr th:only-of-type {\n",
              "        vertical-align: middle;\n",
              "    }\n",
              "\n",
              "    .dataframe tbody tr th {\n",
              "        vertical-align: top;\n",
              "    }\n",
              "\n",
              "    .dataframe thead th {\n",
              "        text-align: right;\n",
              "    }\n",
              "</style>\n",
              "<table border=\"1\" class=\"dataframe\">\n",
              "  <thead>\n",
              "    <tr style=\"text-align: right;\">\n",
              "      <th></th>\n",
              "      <th>empresa</th>\n",
              "      <th>ano</th>\n",
              "      <th>mês</th>\n",
              "      <th>origem</th>\n",
              "      <th>aeroporto_origem</th>\n",
              "      <th>destion</th>\n",
              "      <th>aeroporto_destino</th>\n",
              "      <th>tipo_voo</th>\n",
              "      <th>passageiros_pagos</th>\n",
              "      <th>carga_paga_kg</th>\n",
              "      <th>decolagens</th>\n",
              "    </tr>\n",
              "  </thead>\n",
              "  <tbody>\n",
              "    <tr>\n",
              "      <th>3</th>\n",
              "      <td>A</td>\n",
              "      <td>2021</td>\n",
              "      <td>10</td>\n",
              "      <td>BEL</td>\n",
              "      <td>BELÉM</td>\n",
              "      <td>MEU</td>\n",
              "      <td>ALMEIRIM</td>\n",
              "      <td>DOMÉSTICA</td>\n",
              "      <td>128.0</td>\n",
              "      <td>2237.0</td>\n",
              "      <td>23.0</td>\n",
              "    </tr>\n",
              "    <tr>\n",
              "      <th>4</th>\n",
              "      <td>A</td>\n",
              "      <td>2021</td>\n",
              "      <td>10</td>\n",
              "      <td>BEL</td>\n",
              "      <td>BELÉM</td>\n",
              "      <td>BVS</td>\n",
              "      <td>BREVES</td>\n",
              "      <td>DOMÉSTICA</td>\n",
              "      <td>171.0</td>\n",
              "      <td>2218.0</td>\n",
              "      <td>33.0</td>\n",
              "    </tr>\n",
              "    <tr>\n",
              "      <th>6</th>\n",
              "      <td>A</td>\n",
              "      <td>2021</td>\n",
              "      <td>10</td>\n",
              "      <td>BPG</td>\n",
              "      <td>BARRA DO GARÇAS</td>\n",
              "      <td>CGB</td>\n",
              "      <td>VÁRZEA GRANDE</td>\n",
              "      <td>DOMÉSTICA</td>\n",
              "      <td>119.0</td>\n",
              "      <td>1573.0</td>\n",
              "      <td>21.0</td>\n",
              "    </tr>\n",
              "    <tr>\n",
              "      <th>7</th>\n",
              "      <td>A</td>\n",
              "      <td>2021</td>\n",
              "      <td>10</td>\n",
              "      <td>BPG</td>\n",
              "      <td>BARRA DO GARÇAS</td>\n",
              "      <td>GYN</td>\n",
              "      <td>GOIÂNIA</td>\n",
              "      <td>DOMÉSTICA</td>\n",
              "      <td>16.0</td>\n",
              "      <td>115.0</td>\n",
              "      <td>3.0</td>\n",
              "    </tr>\n",
              "    <tr>\n",
              "      <th>11</th>\n",
              "      <td>A</td>\n",
              "      <td>2021</td>\n",
              "      <td>10</td>\n",
              "      <td>CNF</td>\n",
              "      <td>CONFINS</td>\n",
              "      <td>QDV</td>\n",
              "      <td>JUNDIAÍ</td>\n",
              "      <td>DOMÉSTICA</td>\n",
              "      <td>0.0</td>\n",
              "      <td>1376.0</td>\n",
              "      <td>14.0</td>\n",
              "    </tr>\n",
              "  </tbody>\n",
              "</table>\n",
              "</div>\n",
              "      <button class=\"colab-df-convert\" onclick=\"convertToInteractive('df-96275c90-19c5-49ab-8844-86eb34765a12')\"\n",
              "              title=\"Convert this dataframe to an interactive table.\"\n",
              "              style=\"display:none;\">\n",
              "        \n",
              "  <svg xmlns=\"http://www.w3.org/2000/svg\" height=\"24px\"viewBox=\"0 0 24 24\"\n",
              "       width=\"24px\">\n",
              "    <path d=\"M0 0h24v24H0V0z\" fill=\"none\"/>\n",
              "    <path d=\"M18.56 5.44l.94 2.06.94-2.06 2.06-.94-2.06-.94-.94-2.06-.94 2.06-2.06.94zm-11 1L8.5 8.5l.94-2.06 2.06-.94-2.06-.94L8.5 2.5l-.94 2.06-2.06.94zm10 10l.94 2.06.94-2.06 2.06-.94-2.06-.94-.94-2.06-.94 2.06-2.06.94z\"/><path d=\"M17.41 7.96l-1.37-1.37c-.4-.4-.92-.59-1.43-.59-.52 0-1.04.2-1.43.59L10.3 9.45l-7.72 7.72c-.78.78-.78 2.05 0 2.83L4 21.41c.39.39.9.59 1.41.59.51 0 1.02-.2 1.41-.59l7.78-7.78 2.81-2.81c.8-.78.8-2.07 0-2.86zM5.41 20L4 18.59l7.72-7.72 1.47 1.35L5.41 20z\"/>\n",
              "  </svg>\n",
              "      </button>\n",
              "      \n",
              "  <style>\n",
              "    .colab-df-container {\n",
              "      display:flex;\n",
              "      flex-wrap:wrap;\n",
              "      gap: 12px;\n",
              "    }\n",
              "\n",
              "    .colab-df-convert {\n",
              "      background-color: #E8F0FE;\n",
              "      border: none;\n",
              "      border-radius: 50%;\n",
              "      cursor: pointer;\n",
              "      display: none;\n",
              "      fill: #1967D2;\n",
              "      height: 32px;\n",
              "      padding: 0 0 0 0;\n",
              "      width: 32px;\n",
              "    }\n",
              "\n",
              "    .colab-df-convert:hover {\n",
              "      background-color: #E2EBFA;\n",
              "      box-shadow: 0px 1px 2px rgba(60, 64, 67, 0.3), 0px 1px 3px 1px rgba(60, 64, 67, 0.15);\n",
              "      fill: #174EA6;\n",
              "    }\n",
              "\n",
              "    [theme=dark] .colab-df-convert {\n",
              "      background-color: #3B4455;\n",
              "      fill: #D2E3FC;\n",
              "    }\n",
              "\n",
              "    [theme=dark] .colab-df-convert:hover {\n",
              "      background-color: #434B5C;\n",
              "      box-shadow: 0px 1px 3px 1px rgba(0, 0, 0, 0.15);\n",
              "      filter: drop-shadow(0px 1px 2px rgba(0, 0, 0, 0.3));\n",
              "      fill: #FFFFFF;\n",
              "    }\n",
              "  </style>\n",
              "\n",
              "      <script>\n",
              "        const buttonEl =\n",
              "          document.querySelector('#df-96275c90-19c5-49ab-8844-86eb34765a12 button.colab-df-convert');\n",
              "        buttonEl.style.display =\n",
              "          google.colab.kernel.accessAllowed ? 'block' : 'none';\n",
              "\n",
              "        async function convertToInteractive(key) {\n",
              "          const element = document.querySelector('#df-96275c90-19c5-49ab-8844-86eb34765a12');\n",
              "          const dataTable =\n",
              "            await google.colab.kernel.invokeFunction('convertToInteractive',\n",
              "                                                     [key], {});\n",
              "          if (!dataTable) return;\n",
              "\n",
              "          const docLinkHtml = 'Like what you see? Visit the ' +\n",
              "            '<a target=\"_blank\" href=https://colab.research.google.com/notebooks/data_table.ipynb>data table notebook</a>'\n",
              "            + ' to learn more about interactive tables.';\n",
              "          element.innerHTML = '';\n",
              "          dataTable['output_type'] = 'display_data';\n",
              "          await google.colab.output.renderOutput(dataTable, element);\n",
              "          const docLink = document.createElement('div');\n",
              "          docLink.innerHTML = docLinkHtml;\n",
              "          element.appendChild(docLink);\n",
              "        }\n",
              "      </script>\n",
              "    </div>\n",
              "  </div>\n",
              "  "
            ]
          },
          "metadata": {},
          "execution_count": 11
        }
      ]
    },
    {
      "cell_type": "markdown",
      "source": [
        "# Adição de colunas auxiliares "
      ],
      "metadata": {
        "id": "CDR2e3ATHcYI"
      }
    },
    {
      "cell_type": "markdown",
      "source": [
        "Antes de prosseguir com as análises, precisamos de atributos que nos permita analisar as rotas voadas e valores médios na operação. As seguintes colunas serão adicionadas:\n",
        "\n",
        "Coluna `rota`:\n",
        "Exemplos:\n",
        "* Voo de GRU a MAO: rota = GRUMAO --> representa 1 rota\n",
        "* Voo de MAO a GRU: rota = MAOGRU --> representa 1 rota\n",
        "\n",
        "Coluna `carga_por_decolagem`:\n",
        "$$\n",
        "carga\\_por\\_decolagem = \\frac{carga\\_paga\\_kg}{decolagens}\n",
        "$$\n",
        "\n",
        "Coluna `pax_por_decolagem`:\n",
        "$$\n",
        "pax\\_por\\_decolagem = \\frac{passageiros\\_pagos}{decolagens}\n",
        "$$\n",
        "\n"
      ],
      "metadata": {
        "id": "SPVl3mZtXSkw"
      }
    },
    {
      "cell_type": "code",
      "source": [
        "# Adiciona a coluna \"rota\"\n",
        "df['rota'] = df.origem + df.destion"
      ],
      "metadata": {
        "id": "SGWkRhpl8BqS",
        "colab": {
          "base_uri": "https://localhost:8080/"
        },
        "outputId": "c3fc7489-b385-4999-c2e7-1d5c70da5722"
      },
      "execution_count": 12,
      "outputs": [
        {
          "output_type": "stream",
          "name": "stderr",
          "text": [
            "/usr/local/lib/python3.7/dist-packages/ipykernel_launcher.py:2: SettingWithCopyWarning: \n",
            "A value is trying to be set on a copy of a slice from a DataFrame.\n",
            "Try using .loc[row_indexer,col_indexer] = value instead\n",
            "\n",
            "See the caveats in the documentation: https://pandas.pydata.org/pandas-docs/stable/user_guide/indexing.html#returning-a-view-versus-a-copy\n",
            "  \n"
          ]
        }
      ]
    },
    {
      "cell_type": "code",
      "source": [
        "# Adiciona a coluna \"carga_por_decolagem\"\n",
        "df['carga_por_decolagem'] = df.carga_paga_kg / df.decolagens"
      ],
      "metadata": {
        "id": "H0MbFwp_bzyw",
        "colab": {
          "base_uri": "https://localhost:8080/"
        },
        "outputId": "6c1efbcd-a61d-4c96-e06b-f4cc952286b7"
      },
      "execution_count": 13,
      "outputs": [
        {
          "output_type": "stream",
          "name": "stderr",
          "text": [
            "/usr/local/lib/python3.7/dist-packages/ipykernel_launcher.py:2: SettingWithCopyWarning: \n",
            "A value is trying to be set on a copy of a slice from a DataFrame.\n",
            "Try using .loc[row_indexer,col_indexer] = value instead\n",
            "\n",
            "See the caveats in the documentation: https://pandas.pydata.org/pandas-docs/stable/user_guide/indexing.html#returning-a-view-versus-a-copy\n",
            "  \n"
          ]
        }
      ]
    },
    {
      "cell_type": "code",
      "source": [
        "# Adiciona a coluna \"pax_por_decolagem\"\n",
        "df['pax_por_decolagem'] = df.passageiros_pagos / df.decolagens"
      ],
      "metadata": {
        "id": "ONpc1yFHc5cD",
        "colab": {
          "base_uri": "https://localhost:8080/"
        },
        "outputId": "13cff17c-87fc-4adb-a878-cb3ac4db3522"
      },
      "execution_count": 14,
      "outputs": [
        {
          "output_type": "stream",
          "name": "stderr",
          "text": [
            "/usr/local/lib/python3.7/dist-packages/ipykernel_launcher.py:2: SettingWithCopyWarning: \n",
            "A value is trying to be set on a copy of a slice from a DataFrame.\n",
            "Try using .loc[row_indexer,col_indexer] = value instead\n",
            "\n",
            "See the caveats in the documentation: https://pandas.pydata.org/pandas-docs/stable/user_guide/indexing.html#returning-a-view-versus-a-copy\n",
            "  \n"
          ]
        }
      ]
    },
    {
      "cell_type": "markdown",
      "source": [
        "# Análise - Parte 1"
      ],
      "metadata": {
        "id": "1vq575R1_SKh"
      }
    },
    {
      "cell_type": "markdown",
      "source": [
        "## Questões direcionadoras da análise"
      ],
      "metadata": {
        "id": "wH1L7I1ZJIHN"
      }
    },
    {
      "cell_type": "markdown",
      "source": [
        "1. Qual é o market share de carga paga acumulado período em cada empresa?"
      ],
      "metadata": {
        "id": "HO6SyqZe_F1G"
      }
    },
    {
      "cell_type": "markdown",
      "source": [
        "## Market Share"
      ],
      "metadata": {
        "id": "mXeYf8K8m5CK"
      }
    },
    {
      "cell_type": "markdown",
      "source": [
        "A tabela a seguir, resume os dados de market share acumulados no periodo."
      ],
      "metadata": {
        "id": "YliyPUtpX5e2"
      }
    },
    {
      "cell_type": "code",
      "source": [
        "market_share = df[['empresa', 'passageiros_pagos', 'carga_paga_kg', 'decolagens']]\\\n",
        "                .groupby(by=['empresa'])\\\n",
        "                .sum()\\\n",
        "                .sort_values(by=['empresa'], ascending=True)\\\n",
        "\n",
        "market_share['percentual_pax'] = market_share.passageiros_pagos / market_share.passageiros_pagos.sum() * 100\n",
        "market_share['percentual_carga'] = market_share.carga_paga_kg / market_share.carga_paga_kg.sum() * 100\n",
        "market_share['percentual_decolagens'] = market_share.decolagens / market_share.decolagens.sum() * 100\n",
        "market_share"
      ],
      "metadata": {
        "colab": {
          "base_uri": "https://localhost:8080/",
          "height": 219
        },
        "id": "6hJQtLJcQoiL",
        "outputId": "6ffbfcef-9bff-4442-c421-96341230d6b0"
      },
      "execution_count": 15,
      "outputs": [
        {
          "output_type": "execute_result",
          "data": {
            "text/plain": [
              "         passageiros_pagos  carga_paga_kg  decolagens  percentual_pax  \\\n",
              "empresa                                                                 \n",
              "A               17957627.0    113763076.0    186827.0       38.105851   \n",
              "B               14297679.0     31035704.0    101555.0       30.339489   \n",
              "C               14870336.0    105562737.0    108658.0       31.554660   \n",
              "\n",
              "         percentual_carga  percentual_decolagens  \n",
              "empresa                                           \n",
              "A               45.439522              47.054957  \n",
              "B               12.396356              25.578027  \n",
              "C               42.164123              27.367016  "
            ],
            "text/html": [
              "\n",
              "  <div id=\"df-fe9741eb-94a1-410b-8675-e20362226401\">\n",
              "    <div class=\"colab-df-container\">\n",
              "      <div>\n",
              "<style scoped>\n",
              "    .dataframe tbody tr th:only-of-type {\n",
              "        vertical-align: middle;\n",
              "    }\n",
              "\n",
              "    .dataframe tbody tr th {\n",
              "        vertical-align: top;\n",
              "    }\n",
              "\n",
              "    .dataframe thead th {\n",
              "        text-align: right;\n",
              "    }\n",
              "</style>\n",
              "<table border=\"1\" class=\"dataframe\">\n",
              "  <thead>\n",
              "    <tr style=\"text-align: right;\">\n",
              "      <th></th>\n",
              "      <th>passageiros_pagos</th>\n",
              "      <th>carga_paga_kg</th>\n",
              "      <th>decolagens</th>\n",
              "      <th>percentual_pax</th>\n",
              "      <th>percentual_carga</th>\n",
              "      <th>percentual_decolagens</th>\n",
              "    </tr>\n",
              "    <tr>\n",
              "      <th>empresa</th>\n",
              "      <th></th>\n",
              "      <th></th>\n",
              "      <th></th>\n",
              "      <th></th>\n",
              "      <th></th>\n",
              "      <th></th>\n",
              "    </tr>\n",
              "  </thead>\n",
              "  <tbody>\n",
              "    <tr>\n",
              "      <th>A</th>\n",
              "      <td>17957627.0</td>\n",
              "      <td>113763076.0</td>\n",
              "      <td>186827.0</td>\n",
              "      <td>38.105851</td>\n",
              "      <td>45.439522</td>\n",
              "      <td>47.054957</td>\n",
              "    </tr>\n",
              "    <tr>\n",
              "      <th>B</th>\n",
              "      <td>14297679.0</td>\n",
              "      <td>31035704.0</td>\n",
              "      <td>101555.0</td>\n",
              "      <td>30.339489</td>\n",
              "      <td>12.396356</td>\n",
              "      <td>25.578027</td>\n",
              "    </tr>\n",
              "    <tr>\n",
              "      <th>C</th>\n",
              "      <td>14870336.0</td>\n",
              "      <td>105562737.0</td>\n",
              "      <td>108658.0</td>\n",
              "      <td>31.554660</td>\n",
              "      <td>42.164123</td>\n",
              "      <td>27.367016</td>\n",
              "    </tr>\n",
              "  </tbody>\n",
              "</table>\n",
              "</div>\n",
              "      <button class=\"colab-df-convert\" onclick=\"convertToInteractive('df-fe9741eb-94a1-410b-8675-e20362226401')\"\n",
              "              title=\"Convert this dataframe to an interactive table.\"\n",
              "              style=\"display:none;\">\n",
              "        \n",
              "  <svg xmlns=\"http://www.w3.org/2000/svg\" height=\"24px\"viewBox=\"0 0 24 24\"\n",
              "       width=\"24px\">\n",
              "    <path d=\"M0 0h24v24H0V0z\" fill=\"none\"/>\n",
              "    <path d=\"M18.56 5.44l.94 2.06.94-2.06 2.06-.94-2.06-.94-.94-2.06-.94 2.06-2.06.94zm-11 1L8.5 8.5l.94-2.06 2.06-.94-2.06-.94L8.5 2.5l-.94 2.06-2.06.94zm10 10l.94 2.06.94-2.06 2.06-.94-2.06-.94-.94-2.06-.94 2.06-2.06.94z\"/><path d=\"M17.41 7.96l-1.37-1.37c-.4-.4-.92-.59-1.43-.59-.52 0-1.04.2-1.43.59L10.3 9.45l-7.72 7.72c-.78.78-.78 2.05 0 2.83L4 21.41c.39.39.9.59 1.41.59.51 0 1.02-.2 1.41-.59l7.78-7.78 2.81-2.81c.8-.78.8-2.07 0-2.86zM5.41 20L4 18.59l7.72-7.72 1.47 1.35L5.41 20z\"/>\n",
              "  </svg>\n",
              "      </button>\n",
              "      \n",
              "  <style>\n",
              "    .colab-df-container {\n",
              "      display:flex;\n",
              "      flex-wrap:wrap;\n",
              "      gap: 12px;\n",
              "    }\n",
              "\n",
              "    .colab-df-convert {\n",
              "      background-color: #E8F0FE;\n",
              "      border: none;\n",
              "      border-radius: 50%;\n",
              "      cursor: pointer;\n",
              "      display: none;\n",
              "      fill: #1967D2;\n",
              "      height: 32px;\n",
              "      padding: 0 0 0 0;\n",
              "      width: 32px;\n",
              "    }\n",
              "\n",
              "    .colab-df-convert:hover {\n",
              "      background-color: #E2EBFA;\n",
              "      box-shadow: 0px 1px 2px rgba(60, 64, 67, 0.3), 0px 1px 3px 1px rgba(60, 64, 67, 0.15);\n",
              "      fill: #174EA6;\n",
              "    }\n",
              "\n",
              "    [theme=dark] .colab-df-convert {\n",
              "      background-color: #3B4455;\n",
              "      fill: #D2E3FC;\n",
              "    }\n",
              "\n",
              "    [theme=dark] .colab-df-convert:hover {\n",
              "      background-color: #434B5C;\n",
              "      box-shadow: 0px 1px 3px 1px rgba(0, 0, 0, 0.15);\n",
              "      filter: drop-shadow(0px 1px 2px rgba(0, 0, 0, 0.3));\n",
              "      fill: #FFFFFF;\n",
              "    }\n",
              "  </style>\n",
              "\n",
              "      <script>\n",
              "        const buttonEl =\n",
              "          document.querySelector('#df-fe9741eb-94a1-410b-8675-e20362226401 button.colab-df-convert');\n",
              "        buttonEl.style.display =\n",
              "          google.colab.kernel.accessAllowed ? 'block' : 'none';\n",
              "\n",
              "        async function convertToInteractive(key) {\n",
              "          const element = document.querySelector('#df-fe9741eb-94a1-410b-8675-e20362226401');\n",
              "          const dataTable =\n",
              "            await google.colab.kernel.invokeFunction('convertToInteractive',\n",
              "                                                     [key], {});\n",
              "          if (!dataTable) return;\n",
              "\n",
              "          const docLinkHtml = 'Like what you see? Visit the ' +\n",
              "            '<a target=\"_blank\" href=https://colab.research.google.com/notebooks/data_table.ipynb>data table notebook</a>'\n",
              "            + ' to learn more about interactive tables.';\n",
              "          element.innerHTML = '';\n",
              "          dataTable['output_type'] = 'display_data';\n",
              "          await google.colab.output.renderOutput(dataTable, element);\n",
              "          const docLink = document.createElement('div');\n",
              "          docLink.innerHTML = docLinkHtml;\n",
              "          element.appendChild(docLink);\n",
              "        }\n",
              "      </script>\n",
              "    </div>\n",
              "  </div>\n",
              "  "
            ]
          },
          "metadata": {},
          "execution_count": 15
        }
      ]
    },
    {
      "cell_type": "code",
      "source": [
        "# Market share Cargas\n",
        "labels = 'Empresa A', 'Empresa B', 'Empresa C'\n",
        "sizes = [round(market_share.percentual_carga[0], 0),\n",
        "         round(market_share.percentual_carga[1], 0),\n",
        "         round(market_share.percentual_carga[2], 0)]\n",
        "explode = (0, 0.1, 0)\n",
        "\n",
        "fig1, ax1 = plt.subplots()\n",
        "ax1.pie(sizes, explode=explode, labels=labels, autopct='%1.1f%%',\n",
        "        shadow=True, startangle=90)\n",
        "ax1.axis('equal')\n",
        "plt.title('Market Share: Cargas')\n",
        "plt.show()"
      ],
      "metadata": {
        "colab": {
          "base_uri": "https://localhost:8080/",
          "height": 268
        },
        "id": "lDPHtvoZfYFC",
        "outputId": "cfbe1ad1-7692-4957-c82e-1881b2c5b3bc"
      },
      "execution_count": 16,
      "outputs": [
        {
          "output_type": "display_data",
          "data": {
            "text/plain": [
              "<Figure size 432x288 with 1 Axes>"
            ],
            "image/png": "[encoded data removed]"
          },
          "metadata": {}
        }
      ]
    },
    {
      "cell_type": "code",
      "source": [
        "# Market share Passageiros\n",
        "labels = 'Empresa A', 'Empresa B', 'Empresa C'\n",
        "sizes = [round(market_share.percentual_pax[0], 0),\n",
        "         round(market_share.percentual_pax[1], 0),\n",
        "         round(market_share.percentual_pax[2], 0)]\n",
        "explode = (0, 0.1, 0)\n",
        "\n",
        "fig1, ax1 = plt.subplots()\n",
        "ax1.pie(sizes, explode=explode, labels=labels, autopct='%1.1f%%',\n",
        "        shadow=True, startangle=90)\n",
        "ax1.axis('equal')\n",
        "plt.title('Market Share: Passageiros')\n",
        "plt.show()"
      ],
      "metadata": {
        "colab": {
          "base_uri": "https://localhost:8080/",
          "height": 266
        },
        "id": "ObQd6DpChokn",
        "outputId": "bc870991-a5e3-4ea0-e1c1-db7e038c555d"
      },
      "execution_count": 17,
      "outputs": [
        {
          "output_type": "display_data",
          "data": {
            "text/plain": [
              "<Figure size 432x288 with 1 Axes>"
            ],
            "image/png": "[encoded data removed]"
          },
          "metadata": {}
        }
      ]
    },
    {
      "cell_type": "code",
      "source": [
        "# Market share Decolagens\n",
        "labels = 'Empresa A', 'Empresa B', 'Empresa C'\n",
        "sizes = [round(market_share.percentual_decolagens[0], 0),\n",
        "         round(market_share.percentual_decolagens[1], 0),\n",
        "         round(market_share.percentual_decolagens[2], 0)]\n",
        "explode = (0, 0.1, 0)\n",
        "\n",
        "fig1, ax1 = plt.subplots()\n",
        "ax1.pie(sizes, explode=explode, labels=labels, autopct='%1.1f%%',\n",
        "        shadow=True, startangle=90)\n",
        "ax1.axis('equal')\n",
        "plt.title('Market Share: Decolagens')\n",
        "plt.show()"
      ],
      "metadata": {
        "colab": {
          "base_uri": "https://localhost:8080/",
          "height": 264
        },
        "id": "b49xNOl9h5sR",
        "outputId": "f29bffd7-9742-4ca7-c8cb-1764b482f9ad"
      },
      "execution_count": 18,
      "outputs": [
        {
          "output_type": "display_data",
          "data": {
            "text/plain": [
              "<Figure size 432x288 with 1 Axes>"
            ],
            "image/png": "[encoded data removed]"
          },
          "metadata": {}
        }
      ]
    },
    {
      "cell_type": "markdown",
      "source": [
        "Com base nos dados e gráficos acima, podemos verificar que a empresa **B** teve o menor market share nas operações de cargas no período de janeiro a outubro de 2021."
      ],
      "metadata": {
        "id": "xwCj9N2Ndr2Y"
      }
    },
    {
      "cell_type": "markdown",
      "source": [
        "# Análise - Parte 2"
      ],
      "metadata": {
        "id": "kwVW8gqioIV8"
      }
    },
    {
      "cell_type": "markdown",
      "source": [
        "## Questões direcionadores da análise"
      ],
      "metadata": {
        "id": "pBadguYGI_05"
      }
    },
    {
      "cell_type": "markdown",
      "source": [
        "1. Como foi a evolução do total de carga transportada por mês por cada empresa?\n",
        "\n",
        "2. Quais foram as rotas operadas por cada empresa?\n",
        "\n",
        "2. Quais são as rotas com maior fluxo de carga paga?\n",
        "\n",
        "2. Qual é a média de carga paga transportada por voo? E como é a distribuição estatística da operação por mês?"
      ],
      "metadata": {
        "id": "tWXAntq5to7Y"
      }
    },
    {
      "cell_type": "markdown",
      "source": [
        "## Série histórica"
      ],
      "metadata": {
        "id": "mgBs4hRr2os9"
      }
    },
    {
      "cell_type": "markdown",
      "source": [
        "Query para definição de dataframes para análise da série histórica de cada empresa."
      ],
      "metadata": {
        "id": "p3JY9XyTjDW_"
      }
    },
    {
      "cell_type": "code",
      "source": [
        "serie_hist_a = df[df.empresa == 'A'].groupby(by='mês').sum().sort_values('mês').reset_index()\n",
        "serie_hist_b = df[df.empresa == 'B'].groupby(by='mês').sum().sort_values('mês').reset_index()\n",
        "serie_hist_c = df[df.empresa == 'C'].groupby(by='mês').sum().sort_values('mês').reset_index()"
      ],
      "metadata": {
        "id": "dec9PMq8U9QK"
      },
      "execution_count": 19,
      "outputs": []
    },
    {
      "cell_type": "markdown",
      "source": [
        "Gráficos das séries históricas de `carga_paga_kg`, `decolagens` e `passageiros_pagos`:"
      ],
      "metadata": {
        "id": "iaxX_Ce8jIQY"
      }
    },
    {
      "cell_type": "code",
      "source": [
        "plt.plot(serie_hist_a['mês'], serie_hist_a['carga_paga_kg'], marker='.', label='A')\n",
        "plt.plot(serie_hist_b['mês'], serie_hist_b['carga_paga_kg'], marker='.', label='B')\n",
        "plt.plot(serie_hist_c['mês'], serie_hist_c['carga_paga_kg'], marker='.', label='C')\n",
        "plt.xlabel('Mês')\n",
        "plt.ylabel('Carga paga [x10^7]')\n",
        "plt.title('Acumulado: Cargas')\n",
        "plt.legend()\n",
        "plt.show()"
      ],
      "metadata": {
        "colab": {
          "base_uri": "https://localhost:8080/",
          "height": 295
        },
        "id": "fIU0qV37tHlp",
        "outputId": "445045b5-e2a4-403e-a7d6-f6b1edb382f8"
      },
      "execution_count": 20,
      "outputs": [
        {
          "output_type": "display_data",
          "data": {
            "text/plain": [
              "<Figure size 432x288 with 1 Axes>"
            ],
            "image/png": "[encoded data removed]"
          },
          "metadata": {
            "needs_background": "light"
          }
        }
      ]
    },
    {
      "cell_type": "code",
      "source": [
        "plt.plot(serie_hist_a['mês'], serie_hist_a['decolagens'], marker='.', label='A')\n",
        "plt.plot(serie_hist_b['mês'], serie_hist_b['decolagens'], marker='.', label='B')\n",
        "plt.plot(serie_hist_c['mês'], serie_hist_c['decolagens'], marker='.', label='C')\n",
        "plt.xlabel('Mês')\n",
        "plt.ylabel('Decolagens')\n",
        "plt.title('Acumulado: Decolagens')\n",
        "plt.legend()\n",
        "plt.show()"
      ],
      "metadata": {
        "colab": {
          "base_uri": "https://localhost:8080/",
          "height": 295
        },
        "id": "s1rjygQu3tii",
        "outputId": "89d04eb7-1f78-413b-df91-8d16149ec2d0"
      },
      "execution_count": 21,
      "outputs": [
        {
          "output_type": "display_data",
          "data": {
            "text/plain": [
              "<Figure size 432x288 with 1 Axes>"
            ],
            "image/png": "[encoded data removed]"
          },
          "metadata": {
            "needs_background": "light"
          }
        }
      ]
    },
    {
      "cell_type": "code",
      "source": [
        "plt.plot(serie_hist_a['mês'], serie_hist_a['passageiros_pagos'], marker='.', label='A')\n",
        "plt.plot(serie_hist_b['mês'], serie_hist_b['passageiros_pagos'], marker='.', label='B')\n",
        "plt.plot(serie_hist_c['mês'], serie_hist_c['passageiros_pagos'], marker='.', label='C')\n",
        "plt.xlabel('Mês')\n",
        "plt.ylabel('PAX pagos [milhões]')\n",
        "plt.title('Acumulado: Passageiros')\n",
        "plt.legend()\n",
        "plt.show()"
      ],
      "metadata": {
        "colab": {
          "base_uri": "https://localhost:8080/",
          "height": 295
        },
        "id": "urEkSRF94Sqq",
        "outputId": "6484c8fd-16c4-46e2-f6fc-2f418f4c6643"
      },
      "execution_count": 22,
      "outputs": [
        {
          "output_type": "display_data",
          "data": {
            "text/plain": [
              "<Figure size 432x288 with 1 Axes>"
            ],
            "image/png": "[encoded data removed]"
          },
          "metadata": {
            "needs_background": "light"
          }
        }
      ]
    },
    {
      "cell_type": "markdown",
      "source": [
        "Pontos importante que podem ser observados:\n",
        "\n",
        "* Embora a frequência e operação de passageiros pagos foi decrescente de janeiro a abril, a operação de carga se manteve crescente.\n",
        "\n",
        "* Em abril de 2021, todas as empresas tiveram um recuo na sua operação doméstica de cargas como na de passageiros. Isso pode ser explicado pelo aumento de casos de Covid-19 com pico em meados de março de 2021.\n",
        "\n",
        "* Após abril, a operação de passageiros e carga ganha força novamente e se manteve em tendencia crescente.\n",
        "\n",
        "* Com relação a empresa **B**, podemos ver que sua operação de cargas foi muito menor em comparação com as demais empresas."
      ],
      "metadata": {
        "id": "G9wYOaH1JfKw"
      }
    },
    {
      "cell_type": "markdown",
      "source": [
        "## Rotas voadas"
      ],
      "metadata": {
        "id": "M9bLQXcQA5sn"
      }
    },
    {
      "cell_type": "markdown",
      "source": [
        "Query para identicar as rotas operadas por cada uma das três empresas."
      ],
      "metadata": {
        "id": "T0NfT7Z0TTSs"
      }
    },
    {
      "cell_type": "code",
      "source": [
        "# Rotas únicas\n",
        "rotas_a = df[df.empresa == 'A'].rota.unique()\n",
        "rotas_b = df[df.empresa == 'B'].rota.unique()\n",
        "rotas_c = df[df.empresa == 'C'].rota.unique()\n",
        "\n",
        "# Número de rotas únicas\n",
        "num_rotas_a = rotas_a.size\n",
        "num_rotas_b = rotas_b.size\n",
        "num_rotas_c = rotas_c.size"
      ],
      "metadata": {
        "id": "GWq1a-QxMoU2"
      },
      "execution_count": 23,
      "outputs": []
    },
    {
      "cell_type": "markdown",
      "source": [
        "Quantidade de rotas:"
      ],
      "metadata": {
        "id": "AKDHX57zTe1n"
      }
    },
    {
      "cell_type": "code",
      "source": [
        "print('Empresa A: ' + str(num_rotas_a) + ' rotas')\n",
        "print('Empresa B: ' + str(num_rotas_b) + ' rotas')\n",
        "print('Empresa C: ' + str(num_rotas_c) + ' rotas')"
      ],
      "metadata": {
        "id": "_euBe00JTlJv",
        "colab": {
          "base_uri": "https://localhost:8080/"
        },
        "outputId": "71e1bf57-488b-46a9-d669-856f34640804"
      },
      "execution_count": 24,
      "outputs": [
        {
          "output_type": "stream",
          "name": "stdout",
          "text": [
            "Empresa A: 783 rotas\n",
            "Empresa B: 381 rotas\n",
            "Empresa C: 297 rotas\n"
          ]
        }
      ]
    },
    {
      "cell_type": "markdown",
      "source": [
        "Verificando as rotas voadas, podemos começar a inferir que a baixa participação no mercado de cargas da empresa **B** pode ser devido ao número de rotas operadas quando comparado com as demais empresas."
      ],
      "metadata": {
        "id": "gZLNopFOL_vy"
      }
    },
    {
      "cell_type": "markdown",
      "source": [
        "## Fluxo ou taxa percentual de carga paga por rota"
      ],
      "metadata": {
        "id": "gqG5_Kc_8oou"
      }
    },
    {
      "cell_type": "markdown",
      "source": [
        "Analisar o fluxo de carga transportada por rota permite identificar a estratégia das empresas com relação aos aeroportos em que os voos transportam mais cargas.\n",
        "\n",
        "O fluxo ou taxa percentual de carga paga em uma rota será calculado da seguinte forma:\n",
        "\n",
        "$$\n",
        "fluxo\\_carga\\_percentual_{rota} = \\frac{\\sum carga\\_paga_{rota}}{\\sum carga\\_paga_{todas\\ rotas}}\n",
        "$$\n",
        "\n",
        "\n",
        "A query a seguir consolida os dados para avaliação do fluxo de carga paga:"
      ],
      "metadata": {
        "id": "x3ruJO8Nfx5y"
      }
    },
    {
      "cell_type": "code",
      "source": [
        "# Queries\n",
        "fluxo_carga_a = df[df.empresa == 'A'].groupby(by='rota').sum().sort_values('carga_paga_kg', ascending=False).reset_index()\n",
        "fluxo_carga_b = df[df.empresa == 'B'].groupby(by='rota').sum().sort_values('carga_paga_kg', ascending=False).reset_index()\n",
        "fluxo_carga_c = df[df.empresa == 'C'].groupby(by='rota').sum().sort_values('carga_paga_kg', ascending=False).reset_index()\n",
        "\n",
        "# Adição das colunas de fluxo_carga_percentual\n",
        "fluxo_carga_a['fluxo_carga_percentual'] = round(fluxo_carga_a.carga_paga_kg / fluxo_carga_a.carga_paga_kg.sum() * 100, 1)\n",
        "fluxo_carga_b['fluxo_carga_percentual'] = round(fluxo_carga_b.carga_paga_kg / fluxo_carga_b.carga_paga_kg.sum() * 100, 1)\n",
        "fluxo_carga_c['fluxo_carga_percentual'] = round(fluxo_carga_c.carga_paga_kg / fluxo_carga_c.carga_paga_kg.sum() * 100, 1)"
      ],
      "metadata": {
        "id": "iU56Ldaw71_w"
      },
      "execution_count": 25,
      "outputs": []
    },
    {
      "cell_type": "markdown",
      "source": [
        "Visualizando a tabela preliminar da query para a empresa A:\n",
        "\n"
      ],
      "metadata": {
        "id": "yOMzmIYRT1_P"
      }
    },
    {
      "cell_type": "code",
      "source": [
        "fluxo_carga_a.head()"
      ],
      "metadata": {
        "colab": {
          "base_uri": "https://localhost:8080/",
          "height": 270
        },
        "id": "NeUiSwhL523H",
        "outputId": "a04dbcba-cfbe-4234-8473-c6425ac3b705"
      },
      "execution_count": 26,
      "outputs": [
        {
          "output_type": "execute_result",
          "data": {
            "text/plain": [
              "     rota    ano  mês  passageiros_pagos  carga_paga_kg  decolagens  \\\n",
              "0  MAOVCP  40420  110           166285.0     16211778.0      1279.0   \n",
              "1  VCPMAO  40420  110           150758.0     14434231.0      1106.0   \n",
              "2  VCPREC  36378   99           236349.0      8345222.0      1275.0   \n",
              "3  VCPBEL  38399  101            96093.0      3058698.0       730.0   \n",
              "4  RECVCP  40420  110           246021.0      2641721.0      1239.0   \n",
              "\n",
              "   carga_por_decolagem  pax_por_decolagem  fluxo_carga_percentual  \n",
              "0        206325.627653        1898.035132                    14.3  \n",
              "1        197379.650775        1764.216835                    12.7  \n",
              "2         96076.698416        2516.242075                     7.3  \n",
              "3         98120.962472        1448.588364                     2.7  \n",
              "4         28179.802923        2946.798843                     2.3  "
            ],
            "text/html": [
              "\n",
              "  <div id=\"df-20f95816-4345-42c8-8e6c-2482c9c37ef2\">\n",
              "    <div class=\"colab-df-container\">\n",
              "      <div>\n",
              "<style scoped>\n",
              "    .dataframe tbody tr th:only-of-type {\n",
              "        vertical-align: middle;\n",
              "    }\n",
              "\n",
              "    .dataframe tbody tr th {\n",
              "        vertical-align: top;\n",
              "    }\n",
              "\n",
              "    .dataframe thead th {\n",
              "        text-align: right;\n",
              "    }\n",
              "</style>\n",
              "<table border=\"1\" class=\"dataframe\">\n",
              "  <thead>\n",
              "    <tr style=\"text-align: right;\">\n",
              "      <th></th>\n",
              "      <th>rota</th>\n",
              "      <th>ano</th>\n",
              "      <th>mês</th>\n",
              "      <th>passageiros_pagos</th>\n",
              "      <th>carga_paga_kg</th>\n",
              "      <th>decolagens</th>\n",
              "      <th>carga_por_decolagem</th>\n",
              "      <th>pax_por_decolagem</th>\n",
              "      <th>fluxo_carga_percentual</th>\n",
              "    </tr>\n",
              "  </thead>\n",
              "  <tbody>\n",
              "    <tr>\n",
              "      <th>0</th>\n",
              "      <td>MAOVCP</td>\n",
              "      <td>40420</td>\n",
              "      <td>110</td>\n",
              "      <td>166285.0</td>\n",
              "      <td>16211778.0</td>\n",
              "      <td>1279.0</td>\n",
              "      <td>206325.627653</td>\n",
              "      <td>1898.035132</td>\n",
              "      <td>14.3</td>\n",
              "    </tr>\n",
              "    <tr>\n",
              "      <th>1</th>\n",
              "      <td>VCPMAO</td>\n",
              "      <td>40420</td>\n",
              "      <td>110</td>\n",
              "      <td>150758.0</td>\n",
              "      <td>14434231.0</td>\n",
              "      <td>1106.0</td>\n",
              "      <td>197379.650775</td>\n",
              "      <td>1764.216835</td>\n",
              "      <td>12.7</td>\n",
              "    </tr>\n",
              "    <tr>\n",
              "      <th>2</th>\n",
              "      <td>VCPREC</td>\n",
              "      <td>36378</td>\n",
              "      <td>99</td>\n",
              "      <td>236349.0</td>\n",
              "      <td>8345222.0</td>\n",
              "      <td>1275.0</td>\n",
              "      <td>96076.698416</td>\n",
              "      <td>2516.242075</td>\n",
              "      <td>7.3</td>\n",
              "    </tr>\n",
              "    <tr>\n",
              "      <th>3</th>\n",
              "      <td>VCPBEL</td>\n",
              "      <td>38399</td>\n",
              "      <td>101</td>\n",
              "      <td>96093.0</td>\n",
              "      <td>3058698.0</td>\n",
              "      <td>730.0</td>\n",
              "      <td>98120.962472</td>\n",
              "      <td>1448.588364</td>\n",
              "      <td>2.7</td>\n",
              "    </tr>\n",
              "    <tr>\n",
              "      <th>4</th>\n",
              "      <td>RECVCP</td>\n",
              "      <td>40420</td>\n",
              "      <td>110</td>\n",
              "      <td>246021.0</td>\n",
              "      <td>2641721.0</td>\n",
              "      <td>1239.0</td>\n",
              "      <td>28179.802923</td>\n",
              "      <td>2946.798843</td>\n",
              "      <td>2.3</td>\n",
              "    </tr>\n",
              "  </tbody>\n",
              "</table>\n",
              "</div>\n",
              "      <button class=\"colab-df-convert\" onclick=\"convertToInteractive('df-20f95816-4345-42c8-8e6c-2482c9c37ef2')\"\n",
              "              title=\"Convert this dataframe to an interactive table.\"\n",
              "              style=\"display:none;\">\n",
              "        \n",
              "  <svg xmlns=\"http://www.w3.org/2000/svg\" height=\"24px\"viewBox=\"0 0 24 24\"\n",
              "       width=\"24px\">\n",
              "    <path d=\"M0 0h24v24H0V0z\" fill=\"none\"/>\n",
              "    <path d=\"M18.56 5.44l.94 2.06.94-2.06 2.06-.94-2.06-.94-.94-2.06-.94 2.06-2.06.94zm-11 1L8.5 8.5l.94-2.06 2.06-.94-2.06-.94L8.5 2.5l-.94 2.06-2.06.94zm10 10l.94 2.06.94-2.06 2.06-.94-2.06-.94-.94-2.06-.94 2.06-2.06.94z\"/><path d=\"M17.41 7.96l-1.37-1.37c-.4-.4-.92-.59-1.43-.59-.52 0-1.04.2-1.43.59L10.3 9.45l-7.72 7.72c-.78.78-.78 2.05 0 2.83L4 21.41c.39.39.9.59 1.41.59.51 0 1.02-.2 1.41-.59l7.78-7.78 2.81-2.81c.8-.78.8-2.07 0-2.86zM5.41 20L4 18.59l7.72-7.72 1.47 1.35L5.41 20z\"/>\n",
              "  </svg>\n",
              "      </button>\n",
              "      \n",
              "  <style>\n",
              "    .colab-df-container {\n",
              "      display:flex;\n",
              "      flex-wrap:wrap;\n",
              "      gap: 12px;\n",
              "    }\n",
              "\n",
              "    .colab-df-convert {\n",
              "      background-color: #E8F0FE;\n",
              "      border: none;\n",
              "      border-radius: 50%;\n",
              "      cursor: pointer;\n",
              "      display: none;\n",
              "      fill: #1967D2;\n",
              "      height: 32px;\n",
              "      padding: 0 0 0 0;\n",
              "      width: 32px;\n",
              "    }\n",
              "\n",
              "    .colab-df-convert:hover {\n",
              "      background-color: #E2EBFA;\n",
              "      box-shadow: 0px 1px 2px rgba(60, 64, 67, 0.3), 0px 1px 3px 1px rgba(60, 64, 67, 0.15);\n",
              "      fill: #174EA6;\n",
              "    }\n",
              "\n",
              "    [theme=dark] .colab-df-convert {\n",
              "      background-color: #3B4455;\n",
              "      fill: #D2E3FC;\n",
              "    }\n",
              "\n",
              "    [theme=dark] .colab-df-convert:hover {\n",
              "      background-color: #434B5C;\n",
              "      box-shadow: 0px 1px 3px 1px rgba(0, 0, 0, 0.15);\n",
              "      filter: drop-shadow(0px 1px 2px rgba(0, 0, 0, 0.3));\n",
              "      fill: #FFFFFF;\n",
              "    }\n",
              "  </style>\n",
              "\n",
              "      <script>\n",
              "        const buttonEl =\n",
              "          document.querySelector('#df-20f95816-4345-42c8-8e6c-2482c9c37ef2 button.colab-df-convert');\n",
              "        buttonEl.style.display =\n",
              "          google.colab.kernel.accessAllowed ? 'block' : 'none';\n",
              "\n",
              "        async function convertToInteractive(key) {\n",
              "          const element = document.querySelector('#df-20f95816-4345-42c8-8e6c-2482c9c37ef2');\n",
              "          const dataTable =\n",
              "            await google.colab.kernel.invokeFunction('convertToInteractive',\n",
              "                                                     [key], {});\n",
              "          if (!dataTable) return;\n",
              "\n",
              "          const docLinkHtml = 'Like what you see? Visit the ' +\n",
              "            '<a target=\"_blank\" href=https://colab.research.google.com/notebooks/data_table.ipynb>data table notebook</a>'\n",
              "            + ' to learn more about interactive tables.';\n",
              "          element.innerHTML = '';\n",
              "          dataTable['output_type'] = 'display_data';\n",
              "          await google.colab.output.renderOutput(dataTable, element);\n",
              "          const docLink = document.createElement('div');\n",
              "          docLink.innerHTML = docLinkHtml;\n",
              "          element.appendChild(docLink);\n",
              "        }\n",
              "      </script>\n",
              "    </div>\n",
              "  </div>\n",
              "  "
            ]
          },
          "metadata": {},
          "execution_count": 26
        }
      ]
    },
    {
      "cell_type": "markdown",
      "source": [
        "Para considerar apenas as rotas em que houve carga paga transportada:"
      ],
      "metadata": {
        "id": "sAL1uMMfgLXP"
      }
    },
    {
      "cell_type": "code",
      "source": [
        "fluxo_carga_a = fluxo_carga_a[fluxo_carga_a.carga_paga_kg > 0]"
      ],
      "metadata": {
        "id": "VY2GAf4OCwz0"
      },
      "execution_count": 27,
      "outputs": []
    },
    {
      "cell_type": "code",
      "source": [
        "fluxo_carga_b = fluxo_carga_b[fluxo_carga_b.carga_paga_kg > 0]"
      ],
      "metadata": {
        "id": "k2avvQ0GVfSV"
      },
      "execution_count": 28,
      "outputs": []
    },
    {
      "cell_type": "code",
      "source": [
        "fluxo_carga_c = fluxo_carga_c[fluxo_carga_c.carga_paga_kg > 0]"
      ],
      "metadata": {
        "id": "1qxDEBjRVnG4"
      },
      "execution_count": 29,
      "outputs": []
    },
    {
      "cell_type": "markdown",
      "source": [
        "Agora podemos avaliar as 10 rotas com maior fluxo de carga paga na operação de cada empresa e ter uma ideia de como foi a estratégia adotada."
      ],
      "metadata": {
        "id": "xFeeDvmUYdQ4"
      }
    },
    {
      "cell_type": "code",
      "source": [
        "# Empresa A\n",
        "fluxo_carga_a[['rota', 'passageiros_pagos', 'carga_paga_kg', 'decolagens', 'fluxo_carga_percentual']].head(10)                                                                                                         \n"
      ],
      "metadata": {
        "colab": {
          "base_uri": "https://localhost:8080/",
          "height": 363
        },
        "id": "qyssSUVlIiAZ",
        "outputId": "a58f7f57-56be-45e6-b630-e595ebbcadf5"
      },
      "execution_count": 30,
      "outputs": [
        {
          "output_type": "execute_result",
          "data": {
            "text/plain": [
              "     rota  passageiros_pagos  carga_paga_kg  decolagens  \\\n",
              "0  MAOVCP           166285.0     16211778.0      1279.0   \n",
              "1  VCPMAO           150758.0     14434231.0      1106.0   \n",
              "2  VCPREC           236349.0      8345222.0      1275.0   \n",
              "3  VCPBEL            96093.0      3058698.0       730.0   \n",
              "4  RECVCP           246021.0      2641721.0      1239.0   \n",
              "5  POAVCP           262697.0      2530391.0      2198.0   \n",
              "6  VIXVCP           122115.0      2242683.0      1475.0   \n",
              "7  BELMAO            54233.0      2142069.0       507.0   \n",
              "8  VCPVIX           118512.0      2114304.0      1482.0   \n",
              "9  GRUREC           205388.0      2042882.0      1403.0   \n",
              "\n",
              "   fluxo_carga_percentual  \n",
              "0                    14.3  \n",
              "1                    12.7  \n",
              "2                     7.3  \n",
              "3                     2.7  \n",
              "4                     2.3  \n",
              "5                     2.2  \n",
              "6                     2.0  \n",
              "7                     1.9  \n",
              "8                     1.9  \n",
              "9                     1.8  "
            ],
            "text/html": [
              "\n",
              "  <div id=\"df-21e2608d-2f77-4e5f-8c82-2d26ddd1a621\">\n",
              "    <div class=\"colab-df-container\">\n",
              "      <div>\n",
              "<style scoped>\n",
              "    .dataframe tbody tr th:only-of-type {\n",
              "        vertical-align: middle;\n",
              "    }\n",
              "\n",
              "    .dataframe tbody tr th {\n",
              "        vertical-align: top;\n",
              "    }\n",
              "\n",
              "    .dataframe thead th {\n",
              "        text-align: right;\n",
              "    }\n",
              "</style>\n",
              "<table border=\"1\" class=\"dataframe\">\n",
              "  <thead>\n",
              "    <tr style=\"text-align: right;\">\n",
              "      <th></th>\n",
              "      <th>rota</th>\n",
              "      <th>passageiros_pagos</th>\n",
              "      <th>carga_paga_kg</th>\n",
              "      <th>decolagens</th>\n",
              "      <th>fluxo_carga_percentual</th>\n",
              "    </tr>\n",
              "  </thead>\n",
              "  <tbody>\n",
              "    <tr>\n",
              "      <th>0</th>\n",
              "      <td>MAOVCP</td>\n",
              "      <td>166285.0</td>\n",
              "      <td>16211778.0</td>\n",
              "      <td>1279.0</td>\n",
              "      <td>14.3</td>\n",
              "    </tr>\n",
              "    <tr>\n",
              "      <th>1</th>\n",
              "      <td>VCPMAO</td>\n",
              "      <td>150758.0</td>\n",
              "      <td>14434231.0</td>\n",
              "      <td>1106.0</td>\n",
              "      <td>12.7</td>\n",
              "    </tr>\n",
              "    <tr>\n",
              "      <th>2</th>\n",
              "      <td>VCPREC</td>\n",
              "      <td>236349.0</td>\n",
              "      <td>8345222.0</td>\n",
              "      <td>1275.0</td>\n",
              "      <td>7.3</td>\n",
              "    </tr>\n",
              "    <tr>\n",
              "      <th>3</th>\n",
              "      <td>VCPBEL</td>\n",
              "      <td>96093.0</td>\n",
              "      <td>3058698.0</td>\n",
              "      <td>730.0</td>\n",
              "      <td>2.7</td>\n",
              "    </tr>\n",
              "    <tr>\n",
              "      <th>4</th>\n",
              "      <td>RECVCP</td>\n",
              "      <td>246021.0</td>\n",
              "      <td>2641721.0</td>\n",
              "      <td>1239.0</td>\n",
              "      <td>2.3</td>\n",
              "    </tr>\n",
              "    <tr>\n",
              "      <th>5</th>\n",
              "      <td>POAVCP</td>\n",
              "      <td>262697.0</td>\n",
              "      <td>2530391.0</td>\n",
              "      <td>2198.0</td>\n",
              "      <td>2.2</td>\n",
              "    </tr>\n",
              "    <tr>\n",
              "      <th>6</th>\n",
              "      <td>VIXVCP</td>\n",
              "      <td>122115.0</td>\n",
              "      <td>2242683.0</td>\n",
              "      <td>1475.0</td>\n",
              "      <td>2.0</td>\n",
              "    </tr>\n",
              "    <tr>\n",
              "      <th>7</th>\n",
              "      <td>BELMAO</td>\n",
              "      <td>54233.0</td>\n",
              "      <td>2142069.0</td>\n",
              "      <td>507.0</td>\n",
              "      <td>1.9</td>\n",
              "    </tr>\n",
              "    <tr>\n",
              "      <th>8</th>\n",
              "      <td>VCPVIX</td>\n",
              "      <td>118512.0</td>\n",
              "      <td>2114304.0</td>\n",
              "      <td>1482.0</td>\n",
              "      <td>1.9</td>\n",
              "    </tr>\n",
              "    <tr>\n",
              "      <th>9</th>\n",
              "      <td>GRUREC</td>\n",
              "      <td>205388.0</td>\n",
              "      <td>2042882.0</td>\n",
              "      <td>1403.0</td>\n",
              "      <td>1.8</td>\n",
              "    </tr>\n",
              "  </tbody>\n",
              "</table>\n",
              "</div>\n",
              "      <button class=\"colab-df-convert\" onclick=\"convertToInteractive('df-21e2608d-2f77-4e5f-8c82-2d26ddd1a621')\"\n",
              "              title=\"Convert this dataframe to an interactive table.\"\n",
              "              style=\"display:none;\">\n",
              "        \n",
              "  <svg xmlns=\"http://www.w3.org/2000/svg\" height=\"24px\"viewBox=\"0 0 24 24\"\n",
              "       width=\"24px\">\n",
              "    <path d=\"M0 0h24v24H0V0z\" fill=\"none\"/>\n",
              "    <path d=\"M18.56 5.44l.94 2.06.94-2.06 2.06-.94-2.06-.94-.94-2.06-.94 2.06-2.06.94zm-11 1L8.5 8.5l.94-2.06 2.06-.94-2.06-.94L8.5 2.5l-.94 2.06-2.06.94zm10 10l.94 2.06.94-2.06 2.06-.94-2.06-.94-.94-2.06-.94 2.06-2.06.94z\"/><path d=\"M17.41 7.96l-1.37-1.37c-.4-.4-.92-.59-1.43-.59-.52 0-1.04.2-1.43.59L10.3 9.45l-7.72 7.72c-.78.78-.78 2.05 0 2.83L4 21.41c.39.39.9.59 1.41.59.51 0 1.02-.2 1.41-.59l7.78-7.78 2.81-2.81c.8-.78.8-2.07 0-2.86zM5.41 20L4 18.59l7.72-7.72 1.47 1.35L5.41 20z\"/>\n",
              "  </svg>\n",
              "      </button>\n",
              "      \n",
              "  <style>\n",
              "    .colab-df-container {\n",
              "      display:flex;\n",
              "      flex-wrap:wrap;\n",
              "      gap: 12px;\n",
              "    }\n",
              "\n",
              "    .colab-df-convert {\n",
              "      background-color: #E8F0FE;\n",
              "      border: none;\n",
              "      border-radius: 50%;\n",
              "      cursor: pointer;\n",
              "      display: none;\n",
              "      fill: #1967D2;\n",
              "      height: 32px;\n",
              "      padding: 0 0 0 0;\n",
              "      width: 32px;\n",
              "    }\n",
              "\n",
              "    .colab-df-convert:hover {\n",
              "      background-color: #E2EBFA;\n",
              "      box-shadow: 0px 1px 2px rgba(60, 64, 67, 0.3), 0px 1px 3px 1px rgba(60, 64, 67, 0.15);\n",
              "      fill: #174EA6;\n",
              "    }\n",
              "\n",
              "    [theme=dark] .colab-df-convert {\n",
              "      background-color: #3B4455;\n",
              "      fill: #D2E3FC;\n",
              "    }\n",
              "\n",
              "    [theme=dark] .colab-df-convert:hover {\n",
              "      background-color: #434B5C;\n",
              "      box-shadow: 0px 1px 3px 1px rgba(0, 0, 0, 0.15);\n",
              "      filter: drop-shadow(0px 1px 2px rgba(0, 0, 0, 0.3));\n",
              "      fill: #FFFFFF;\n",
              "    }\n",
              "  </style>\n",
              "\n",
              "      <script>\n",
              "        const buttonEl =\n",
              "          document.querySelector('#df-21e2608d-2f77-4e5f-8c82-2d26ddd1a621 button.colab-df-convert');\n",
              "        buttonEl.style.display =\n",
              "          google.colab.kernel.accessAllowed ? 'block' : 'none';\n",
              "\n",
              "        async function convertToInteractive(key) {\n",
              "          const element = document.querySelector('#df-21e2608d-2f77-4e5f-8c82-2d26ddd1a621');\n",
              "          const dataTable =\n",
              "            await google.colab.kernel.invokeFunction('convertToInteractive',\n",
              "                                                     [key], {});\n",
              "          if (!dataTable) return;\n",
              "\n",
              "          const docLinkHtml = 'Like what you see? Visit the ' +\n",
              "            '<a target=\"_blank\" href=https://colab.research.google.com/notebooks/data_table.ipynb>data table notebook</a>'\n",
              "            + ' to learn more about interactive tables.';\n",
              "          element.innerHTML = '';\n",
              "          dataTable['output_type'] = 'display_data';\n",
              "          await google.colab.output.renderOutput(dataTable, element);\n",
              "          const docLink = document.createElement('div');\n",
              "          docLink.innerHTML = docLinkHtml;\n",
              "          element.appendChild(docLink);\n",
              "        }\n",
              "      </script>\n",
              "    </div>\n",
              "  </div>\n",
              "  "
            ]
          },
          "metadata": {},
          "execution_count": 30
        }
      ]
    },
    {
      "cell_type": "code",
      "source": [
        "# Empresa B\n",
        "fluxo_carga_b[['rota', 'passageiros_pagos', 'carga_paga_kg', 'decolagens', 'fluxo_carga_percentual']].head(10)"
      ],
      "metadata": {
        "id": "bHYo5DdbDVEU",
        "outputId": "52733c48-3850-4644-fc40-008fe97b095a",
        "colab": {
          "base_uri": "https://localhost:8080/",
          "height": 363
        }
      },
      "execution_count": 31,
      "outputs": [
        {
          "output_type": "execute_result",
          "data": {
            "text/plain": [
              "     rota  passageiros_pagos  carga_paga_kg  decolagens  \\\n",
              "0  GRUBSB           163972.0      1082828.0      1189.0   \n",
              "1  CGHBSB           139755.0       928132.0      1088.0   \n",
              "2  GRUREC           166898.0       760252.0      1030.0   \n",
              "3  GRUFOR           153410.0       729613.0       977.0   \n",
              "4  GRUSSA           160543.0       715733.0      1076.0   \n",
              "5  BSBGRU           167116.0       510837.0      1183.0   \n",
              "6  BSBMAO            50952.0       500154.0       352.0   \n",
              "7  FORGRU           158904.0       469914.0       974.0   \n",
              "8  RECGRU           174106.0       450201.0      1033.0   \n",
              "9  FORMAO            52483.0       429344.0       348.0   \n",
              "\n",
              "   fluxo_carga_percentual  \n",
              "0                     3.5  \n",
              "1                     3.0  \n",
              "2                     2.4  \n",
              "3                     2.4  \n",
              "4                     2.3  \n",
              "5                     1.6  \n",
              "6                     1.6  \n",
              "7                     1.5  \n",
              "8                     1.5  \n",
              "9                     1.4  "
            ],
            "text/html": [
              "\n",
              "  <div id=\"df-00904e4b-19f6-4776-9c3c-0a51c992b885\">\n",
              "    <div class=\"colab-df-container\">\n",
              "      <div>\n",
              "<style scoped>\n",
              "    .dataframe tbody tr th:only-of-type {\n",
              "        vertical-align: middle;\n",
              "    }\n",
              "\n",
              "    .dataframe tbody tr th {\n",
              "        vertical-align: top;\n",
              "    }\n",
              "\n",
              "    .dataframe thead th {\n",
              "        text-align: right;\n",
              "    }\n",
              "</style>\n",
              "<table border=\"1\" class=\"dataframe\">\n",
              "  <thead>\n",
              "    <tr style=\"text-align: right;\">\n",
              "      <th></th>\n",
              "      <th>rota</th>\n",
              "      <th>passageiros_pagos</th>\n",
              "      <th>carga_paga_kg</th>\n",
              "      <th>decolagens</th>\n",
              "      <th>fluxo_carga_percentual</th>\n",
              "    </tr>\n",
              "  </thead>\n",
              "  <tbody>\n",
              "    <tr>\n",
              "      <th>0</th>\n",
              "      <td>GRUBSB</td>\n",
              "      <td>163972.0</td>\n",
              "      <td>1082828.0</td>\n",
              "      <td>1189.0</td>\n",
              "      <td>3.5</td>\n",
              "    </tr>\n",
              "    <tr>\n",
              "      <th>1</th>\n",
              "      <td>CGHBSB</td>\n",
              "      <td>139755.0</td>\n",
              "      <td>928132.0</td>\n",
              "      <td>1088.0</td>\n",
              "      <td>3.0</td>\n",
              "    </tr>\n",
              "    <tr>\n",
              "      <th>2</th>\n",
              "      <td>GRUREC</td>\n",
              "      <td>166898.0</td>\n",
              "      <td>760252.0</td>\n",
              "      <td>1030.0</td>\n",
              "      <td>2.4</td>\n",
              "    </tr>\n",
              "    <tr>\n",
              "      <th>3</th>\n",
              "      <td>GRUFOR</td>\n",
              "      <td>153410.0</td>\n",
              "      <td>729613.0</td>\n",
              "      <td>977.0</td>\n",
              "      <td>2.4</td>\n",
              "    </tr>\n",
              "    <tr>\n",
              "      <th>4</th>\n",
              "      <td>GRUSSA</td>\n",
              "      <td>160543.0</td>\n",
              "      <td>715733.0</td>\n",
              "      <td>1076.0</td>\n",
              "      <td>2.3</td>\n",
              "    </tr>\n",
              "    <tr>\n",
              "      <th>5</th>\n",
              "      <td>BSBGRU</td>\n",
              "      <td>167116.0</td>\n",
              "      <td>510837.0</td>\n",
              "      <td>1183.0</td>\n",
              "      <td>1.6</td>\n",
              "    </tr>\n",
              "    <tr>\n",
              "      <th>6</th>\n",
              "      <td>BSBMAO</td>\n",
              "      <td>50952.0</td>\n",
              "      <td>500154.0</td>\n",
              "      <td>352.0</td>\n",
              "      <td>1.6</td>\n",
              "    </tr>\n",
              "    <tr>\n",
              "      <th>7</th>\n",
              "      <td>FORGRU</td>\n",
              "      <td>158904.0</td>\n",
              "      <td>469914.0</td>\n",
              "      <td>974.0</td>\n",
              "      <td>1.5</td>\n",
              "    </tr>\n",
              "    <tr>\n",
              "      <th>8</th>\n",
              "      <td>RECGRU</td>\n",
              "      <td>174106.0</td>\n",
              "      <td>450201.0</td>\n",
              "      <td>1033.0</td>\n",
              "      <td>1.5</td>\n",
              "    </tr>\n",
              "    <tr>\n",
              "      <th>9</th>\n",
              "      <td>FORMAO</td>\n",
              "      <td>52483.0</td>\n",
              "      <td>429344.0</td>\n",
              "      <td>348.0</td>\n",
              "      <td>1.4</td>\n",
              "    </tr>\n",
              "  </tbody>\n",
              "</table>\n",
              "</div>\n",
              "      <button class=\"colab-df-convert\" onclick=\"convertToInteractive('df-00904e4b-19f6-4776-9c3c-0a51c992b885')\"\n",
              "              title=\"Convert this dataframe to an interactive table.\"\n",
              "              style=\"display:none;\">\n",
              "        \n",
              "  <svg xmlns=\"http://www.w3.org/2000/svg\" height=\"24px\"viewBox=\"0 0 24 24\"\n",
              "       width=\"24px\">\n",
              "    <path d=\"M0 0h24v24H0V0z\" fill=\"none\"/>\n",
              "    <path d=\"M18.56 5.44l.94 2.06.94-2.06 2.06-.94-2.06-.94-.94-2.06-.94 2.06-2.06.94zm-11 1L8.5 8.5l.94-2.06 2.06-.94-2.06-.94L8.5 2.5l-.94 2.06-2.06.94zm10 10l.94 2.06.94-2.06 2.06-.94-2.06-.94-.94-2.06-.94 2.06-2.06.94z\"/><path d=\"M17.41 7.96l-1.37-1.37c-.4-.4-.92-.59-1.43-.59-.52 0-1.04.2-1.43.59L10.3 9.45l-7.72 7.72c-.78.78-.78 2.05 0 2.83L4 21.41c.39.39.9.59 1.41.59.51 0 1.02-.2 1.41-.59l7.78-7.78 2.81-2.81c.8-.78.8-2.07 0-2.86zM5.41 20L4 18.59l7.72-7.72 1.47 1.35L5.41 20z\"/>\n",
              "  </svg>\n",
              "      </button>\n",
              "      \n",
              "  <style>\n",
              "    .colab-df-container {\n",
              "      display:flex;\n",
              "      flex-wrap:wrap;\n",
              "      gap: 12px;\n",
              "    }\n",
              "\n",
              "    .colab-df-convert {\n",
              "      background-color: #E8F0FE;\n",
              "      border: none;\n",
              "      border-radius: 50%;\n",
              "      cursor: pointer;\n",
              "      display: none;\n",
              "      fill: #1967D2;\n",
              "      height: 32px;\n",
              "      padding: 0 0 0 0;\n",
              "      width: 32px;\n",
              "    }\n",
              "\n",
              "    .colab-df-convert:hover {\n",
              "      background-color: #E2EBFA;\n",
              "      box-shadow: 0px 1px 2px rgba(60, 64, 67, 0.3), 0px 1px 3px 1px rgba(60, 64, 67, 0.15);\n",
              "      fill: #174EA6;\n",
              "    }\n",
              "\n",
              "    [theme=dark] .colab-df-convert {\n",
              "      background-color: #3B4455;\n",
              "      fill: #D2E3FC;\n",
              "    }\n",
              "\n",
              "    [theme=dark] .colab-df-convert:hover {\n",
              "      background-color: #434B5C;\n",
              "      box-shadow: 0px 1px 3px 1px rgba(0, 0, 0, 0.15);\n",
              "      filter: drop-shadow(0px 1px 2px rgba(0, 0, 0, 0.3));\n",
              "      fill: #FFFFFF;\n",
              "    }\n",
              "  </style>\n",
              "\n",
              "      <script>\n",
              "        const buttonEl =\n",
              "          document.querySelector('#df-00904e4b-19f6-4776-9c3c-0a51c992b885 button.colab-df-convert');\n",
              "        buttonEl.style.display =\n",
              "          google.colab.kernel.accessAllowed ? 'block' : 'none';\n",
              "\n",
              "        async function convertToInteractive(key) {\n",
              "          const element = document.querySelector('#df-00904e4b-19f6-4776-9c3c-0a51c992b885');\n",
              "          const dataTable =\n",
              "            await google.colab.kernel.invokeFunction('convertToInteractive',\n",
              "                                                     [key], {});\n",
              "          if (!dataTable) return;\n",
              "\n",
              "          const docLinkHtml = 'Like what you see? Visit the ' +\n",
              "            '<a target=\"_blank\" href=https://colab.research.google.com/notebooks/data_table.ipynb>data table notebook</a>'\n",
              "            + ' to learn more about interactive tables.';\n",
              "          element.innerHTML = '';\n",
              "          dataTable['output_type'] = 'display_data';\n",
              "          await google.colab.output.renderOutput(dataTable, element);\n",
              "          const docLink = document.createElement('div');\n",
              "          docLink.innerHTML = docLinkHtml;\n",
              "          element.appendChild(docLink);\n",
              "        }\n",
              "      </script>\n",
              "    </div>\n",
              "  </div>\n",
              "  "
            ]
          },
          "metadata": {},
          "execution_count": 31
        }
      ]
    },
    {
      "cell_type": "code",
      "source": [
        "# Empresa C\n",
        "fluxo_carga_c[['rota', 'passageiros_pagos', 'carga_paga_kg', 'decolagens', 'fluxo_carga_percentual']].head(10)"
      ],
      "metadata": {
        "colab": {
          "base_uri": "https://localhost:8080/",
          "height": 363
        },
        "id": "tqgK0a4hqFPi",
        "outputId": "c894a993-d5b8-47f5-828d-730218cdcff8"
      },
      "execution_count": 32,
      "outputs": [
        {
          "output_type": "execute_result",
          "data": {
            "text/plain": [
              "     rota  passageiros_pagos  carga_paga_kg  decolagens  \\\n",
              "0  GRUMAO           133602.0     17256094.0      1168.0   \n",
              "1  MAOGRU           140302.0     16280701.0      1130.0   \n",
              "2  FORGRU           225953.0      3614836.0      1392.0   \n",
              "3  RECGRU           211268.0      2937169.0      1239.0   \n",
              "4  GRUSSA           223973.0      2477669.0      1464.0   \n",
              "5  GRUREC           206398.0      2451814.0      1236.0   \n",
              "6  GRUFOR           222341.0      2366190.0      1393.0   \n",
              "7  VCPMAO                0.0      1943914.0        48.0   \n",
              "8  GRUBSB           195689.0      1895946.0      1415.0   \n",
              "9  SSAGRU           229701.0      1658147.0      1444.0   \n",
              "\n",
              "   fluxo_carga_percentual  \n",
              "0                    16.3  \n",
              "1                    15.4  \n",
              "2                     3.4  \n",
              "3                     2.8  \n",
              "4                     2.3  \n",
              "5                     2.3  \n",
              "6                     2.2  \n",
              "7                     1.8  \n",
              "8                     1.8  \n",
              "9                     1.6  "
            ],
            "text/html": [
              "\n",
              "  <div id=\"df-61ab15c2-b583-4818-9fa3-f7076bdebd5e\">\n",
              "    <div class=\"colab-df-container\">\n",
              "      <div>\n",
              "<style scoped>\n",
              "    .dataframe tbody tr th:only-of-type {\n",
              "        vertical-align: middle;\n",
              "    }\n",
              "\n",
              "    .dataframe tbody tr th {\n",
              "        vertical-align: top;\n",
              "    }\n",
              "\n",
              "    .dataframe thead th {\n",
              "        text-align: right;\n",
              "    }\n",
              "</style>\n",
              "<table border=\"1\" class=\"dataframe\">\n",
              "  <thead>\n",
              "    <tr style=\"text-align: right;\">\n",
              "      <th></th>\n",
              "      <th>rota</th>\n",
              "      <th>passageiros_pagos</th>\n",
              "      <th>carga_paga_kg</th>\n",
              "      <th>decolagens</th>\n",
              "      <th>fluxo_carga_percentual</th>\n",
              "    </tr>\n",
              "  </thead>\n",
              "  <tbody>\n",
              "    <tr>\n",
              "      <th>0</th>\n",
              "      <td>GRUMAO</td>\n",
              "      <td>133602.0</td>\n",
              "      <td>17256094.0</td>\n",
              "      <td>1168.0</td>\n",
              "      <td>16.3</td>\n",
              "    </tr>\n",
              "    <tr>\n",
              "      <th>1</th>\n",
              "      <td>MAOGRU</td>\n",
              "      <td>140302.0</td>\n",
              "      <td>16280701.0</td>\n",
              "      <td>1130.0</td>\n",
              "      <td>15.4</td>\n",
              "    </tr>\n",
              "    <tr>\n",
              "      <th>2</th>\n",
              "      <td>FORGRU</td>\n",
              "      <td>225953.0</td>\n",
              "      <td>3614836.0</td>\n",
              "      <td>1392.0</td>\n",
              "      <td>3.4</td>\n",
              "    </tr>\n",
              "    <tr>\n",
              "      <th>3</th>\n",
              "      <td>RECGRU</td>\n",
              "      <td>211268.0</td>\n",
              "      <td>2937169.0</td>\n",
              "      <td>1239.0</td>\n",
              "      <td>2.8</td>\n",
              "    </tr>\n",
              "    <tr>\n",
              "      <th>4</th>\n",
              "      <td>GRUSSA</td>\n",
              "      <td>223973.0</td>\n",
              "      <td>2477669.0</td>\n",
              "      <td>1464.0</td>\n",
              "      <td>2.3</td>\n",
              "    </tr>\n",
              "    <tr>\n",
              "      <th>5</th>\n",
              "      <td>GRUREC</td>\n",
              "      <td>206398.0</td>\n",
              "      <td>2451814.0</td>\n",
              "      <td>1236.0</td>\n",
              "      <td>2.3</td>\n",
              "    </tr>\n",
              "    <tr>\n",
              "      <th>6</th>\n",
              "      <td>GRUFOR</td>\n",
              "      <td>222341.0</td>\n",
              "      <td>2366190.0</td>\n",
              "      <td>1393.0</td>\n",
              "      <td>2.2</td>\n",
              "    </tr>\n",
              "    <tr>\n",
              "      <th>7</th>\n",
              "      <td>VCPMAO</td>\n",
              "      <td>0.0</td>\n",
              "      <td>1943914.0</td>\n",
              "      <td>48.0</td>\n",
              "      <td>1.8</td>\n",
              "    </tr>\n",
              "    <tr>\n",
              "      <th>8</th>\n",
              "      <td>GRUBSB</td>\n",
              "      <td>195689.0</td>\n",
              "      <td>1895946.0</td>\n",
              "      <td>1415.0</td>\n",
              "      <td>1.8</td>\n",
              "    </tr>\n",
              "    <tr>\n",
              "      <th>9</th>\n",
              "      <td>SSAGRU</td>\n",
              "      <td>229701.0</td>\n",
              "      <td>1658147.0</td>\n",
              "      <td>1444.0</td>\n",
              "      <td>1.6</td>\n",
              "    </tr>\n",
              "  </tbody>\n",
              "</table>\n",
              "</div>\n",
              "      <button class=\"colab-df-convert\" onclick=\"convertToInteractive('df-61ab15c2-b583-4818-9fa3-f7076bdebd5e')\"\n",
              "              title=\"Convert this dataframe to an interactive table.\"\n",
              "              style=\"display:none;\">\n",
              "        \n",
              "  <svg xmlns=\"http://www.w3.org/2000/svg\" height=\"24px\"viewBox=\"0 0 24 24\"\n",
              "       width=\"24px\">\n",
              "    <path d=\"M0 0h24v24H0V0z\" fill=\"none\"/>\n",
              "    <path d=\"M18.56 5.44l.94 2.06.94-2.06 2.06-.94-2.06-.94-.94-2.06-.94 2.06-2.06.94zm-11 1L8.5 8.5l.94-2.06 2.06-.94-2.06-.94L8.5 2.5l-.94 2.06-2.06.94zm10 10l.94 2.06.94-2.06 2.06-.94-2.06-.94-.94-2.06-.94 2.06-2.06.94z\"/><path d=\"M17.41 7.96l-1.37-1.37c-.4-.4-.92-.59-1.43-.59-.52 0-1.04.2-1.43.59L10.3 9.45l-7.72 7.72c-.78.78-.78 2.05 0 2.83L4 21.41c.39.39.9.59 1.41.59.51 0 1.02-.2 1.41-.59l7.78-7.78 2.81-2.81c.8-.78.8-2.07 0-2.86zM5.41 20L4 18.59l7.72-7.72 1.47 1.35L5.41 20z\"/>\n",
              "  </svg>\n",
              "      </button>\n",
              "      \n",
              "  <style>\n",
              "    .colab-df-container {\n",
              "      display:flex;\n",
              "      flex-wrap:wrap;\n",
              "      gap: 12px;\n",
              "    }\n",
              "\n",
              "    .colab-df-convert {\n",
              "      background-color: #E8F0FE;\n",
              "      border: none;\n",
              "      border-radius: 50%;\n",
              "      cursor: pointer;\n",
              "      display: none;\n",
              "      fill: #1967D2;\n",
              "      height: 32px;\n",
              "      padding: 0 0 0 0;\n",
              "      width: 32px;\n",
              "    }\n",
              "\n",
              "    .colab-df-convert:hover {\n",
              "      background-color: #E2EBFA;\n",
              "      box-shadow: 0px 1px 2px rgba(60, 64, 67, 0.3), 0px 1px 3px 1px rgba(60, 64, 67, 0.15);\n",
              "      fill: #174EA6;\n",
              "    }\n",
              "\n",
              "    [theme=dark] .colab-df-convert {\n",
              "      background-color: #3B4455;\n",
              "      fill: #D2E3FC;\n",
              "    }\n",
              "\n",
              "    [theme=dark] .colab-df-convert:hover {\n",
              "      background-color: #434B5C;\n",
              "      box-shadow: 0px 1px 3px 1px rgba(0, 0, 0, 0.15);\n",
              "      filter: drop-shadow(0px 1px 2px rgba(0, 0, 0, 0.3));\n",
              "      fill: #FFFFFF;\n",
              "    }\n",
              "  </style>\n",
              "\n",
              "      <script>\n",
              "        const buttonEl =\n",
              "          document.querySelector('#df-61ab15c2-b583-4818-9fa3-f7076bdebd5e button.colab-df-convert');\n",
              "        buttonEl.style.display =\n",
              "          google.colab.kernel.accessAllowed ? 'block' : 'none';\n",
              "\n",
              "        async function convertToInteractive(key) {\n",
              "          const element = document.querySelector('#df-61ab15c2-b583-4818-9fa3-f7076bdebd5e');\n",
              "          const dataTable =\n",
              "            await google.colab.kernel.invokeFunction('convertToInteractive',\n",
              "                                                     [key], {});\n",
              "          if (!dataTable) return;\n",
              "\n",
              "          const docLinkHtml = 'Like what you see? Visit the ' +\n",
              "            '<a target=\"_blank\" href=https://colab.research.google.com/notebooks/data_table.ipynb>data table notebook</a>'\n",
              "            + ' to learn more about interactive tables.';\n",
              "          element.innerHTML = '';\n",
              "          dataTable['output_type'] = 'display_data';\n",
              "          await google.colab.output.renderOutput(dataTable, element);\n",
              "          const docLink = document.createElement('div');\n",
              "          docLink.innerHTML = docLinkHtml;\n",
              "          element.appendChild(docLink);\n",
              "        }\n",
              "      </script>\n",
              "    </div>\n",
              "  </div>\n",
              "  "
            ]
          },
          "metadata": {},
          "execution_count": 32
        }
      ]
    },
    {
      "cell_type": "markdown",
      "source": [
        "Podemos observar que na operação da **empresa A**, as rotas **MAO-VCP** e **VCP-MAO** representam 27% do seu fluxo total de carga paga sendo as demais rotas menos do que 8%.\n",
        "\n",
        "A **empresa C** também opera de forma similar, com as rotas **GRU-MAO** e **MAO-GRU** representando 31,7% do seu fluxo total de carga paga e as demais rotas representando menos do que 4%.\n",
        "\n",
        "Com base nesse dado, podemos verificar que essa duas empresas tem uma estratégia de cargas entre os maiores aeroportos hub do Brasil para entrada e saída de cargas, que são GRU, VCP e MAO.\n",
        "\n",
        "Já a **empresa B** apresenta um fluxo mais homogêneo, com valor máximo de 3,5% na rota GRU-BSB."
      ],
      "metadata": {
        "id": "eINnYcpMgm2h"
      }
    },
    {
      "cell_type": "markdown",
      "source": [
        "## Distribuição estatística mensal"
      ],
      "metadata": {
        "id": "wvbOPaa_Og2V"
      }
    },
    {
      "cell_type": "markdown",
      "source": [
        "Essa parte da análise permite entender como está o aproveitamento de transporte de carga por voo. Para isso, vamos definir os dados para análise da distribuição estatística de carga paga transportada por voo em cada mês pelas seguintes queries:"
      ],
      "metadata": {
        "id": "Y_HCjnS59600"
      }
    },
    {
      "cell_type": "code",
      "source": [
        "# Empresa A\n",
        "carga_por_decolagem_a = []\n",
        "for i in range(1, 11):\n",
        "    series = df[(df['mês'] == i) & (df.carga_paga_kg > 0) & (df['empresa'] == 'A')].carga_por_decolagem\n",
        "    carga_por_decolagem_a.append(series)\n",
        "\n",
        "# Empresa B\n",
        "carga_por_decolagem_b = []\n",
        "for i in range(1, 11):\n",
        "    series = df[(df['mês'] == i) & (df.carga_paga_kg > 0) & (df['empresa'] == 'B')].carga_por_decolagem\n",
        "    carga_por_decolagem_b.append(series)\n",
        "\n",
        "# Empresa C\n",
        "carga_por_decolagem_c = []\n",
        "for i in range(1, 11):\n",
        "    series = df[(df['mês'] == i) & (df.carga_paga_kg > 0) & (df['empresa'] == 'C')].carga_por_decolagem\n",
        "    carga_por_decolagem_c.append(series)"
      ],
      "metadata": {
        "id": "ZoD2JZ6ykxnk"
      },
      "execution_count": 33,
      "outputs": []
    },
    {
      "cell_type": "markdown",
      "source": [
        "Consolidando os valores de médias:"
      ],
      "metadata": {
        "id": "9DBkF72ZKiqg"
      }
    },
    {
      "cell_type": "code",
      "source": [
        "carga_media_a = []\n",
        "carga_media_b = []\n",
        "carga_media_c = []\n",
        "\n",
        "for mes in range(10):\n",
        "    carga_media_a.append(round(carga_por_decolagem_a[mes].mean(), 1))\n",
        "\n",
        "for mes in range(10):\n",
        "    carga_media_b.append(round(carga_por_decolagem_b[mes].mean(), 1))\n",
        "\n",
        "for mes in range(10):\n",
        "    carga_media_c.append(round(carga_por_decolagem_c[mes].mean(), 1))"
      ],
      "metadata": {
        "id": "djz8dBHgXbHK"
      },
      "execution_count": 34,
      "outputs": []
    },
    {
      "cell_type": "code",
      "source": [
        "medias_carga_df = pd.DataFrame({'mes': range(1, 11),\n",
        "                                'kg_por_voo_a': pd.Series(carga_media_a),\n",
        "                                'kg_por_voo_b': pd.Series(carga_media_b),\n",
        "                                'kg_por_voo_c': pd.Series(carga_media_c),})"
      ],
      "metadata": {
        "id": "-dcANbV_lpk4"
      },
      "execution_count": 35,
      "outputs": []
    },
    {
      "cell_type": "markdown",
      "source": [
        "Agora temos o resultado que buscamos. Médias mensais de carga transportada por voo de cada empresa."
      ],
      "metadata": {
        "id": "r4Q7xV5VKU_O"
      }
    },
    {
      "cell_type": "code",
      "source": [
        "medias_carga_df"
      ],
      "metadata": {
        "colab": {
          "base_uri": "https://localhost:8080/",
          "height": 363
        },
        "id": "kOdP8WZMmpOI",
        "outputId": "626535a5-6b81-4e42-c21c-626dddc097d8"
      },
      "execution_count": 36,
      "outputs": [
        {
          "output_type": "execute_result",
          "data": {
            "text/plain": [
              "   mes  kg_por_voo_a  kg_por_voo_b  kg_por_voo_c\n",
              "0    1         518.7         200.9        1732.2\n",
              "1    2         498.6         323.2        1544.7\n",
              "2    3         606.5         447.4        2158.8\n",
              "3    4         733.0         474.4        2651.3\n",
              "4    5         830.6         386.3        1854.3\n",
              "5    6         535.6         343.7        2304.9\n",
              "6    7         474.0         262.7        1673.1\n",
              "7    8         525.3         310.5        1500.5\n",
              "8    9         432.5         310.8         980.2\n",
              "9   10         518.9         323.5        1651.7"
            ],
            "text/html": [
              "\n",
              "  <div id=\"df-c2f0225a-f059-4be3-bd77-9730fcbe8eed\">\n",
              "    <div class=\"colab-df-container\">\n",
              "      <div>\n",
              "<style scoped>\n",
              "    .dataframe tbody tr th:only-of-type {\n",
              "        vertical-align: middle;\n",
              "    }\n",
              "\n",
              "    .dataframe tbody tr th {\n",
              "        vertical-align: top;\n",
              "    }\n",
              "\n",
              "    .dataframe thead th {\n",
              "        text-align: right;\n",
              "    }\n",
              "</style>\n",
              "<table border=\"1\" class=\"dataframe\">\n",
              "  <thead>\n",
              "    <tr style=\"text-align: right;\">\n",
              "      <th></th>\n",
              "      <th>mes</th>\n",
              "      <th>kg_por_voo_a</th>\n",
              "      <th>kg_por_voo_b</th>\n",
              "      <th>kg_por_voo_c</th>\n",
              "    </tr>\n",
              "  </thead>\n",
              "  <tbody>\n",
              "    <tr>\n",
              "      <th>0</th>\n",
              "      <td>1</td>\n",
              "      <td>518.7</td>\n",
              "      <td>200.9</td>\n",
              "      <td>1732.2</td>\n",
              "    </tr>\n",
              "    <tr>\n",
              "      <th>1</th>\n",
              "      <td>2</td>\n",
              "      <td>498.6</td>\n",
              "      <td>323.2</td>\n",
              "      <td>1544.7</td>\n",
              "    </tr>\n",
              "    <tr>\n",
              "      <th>2</th>\n",
              "      <td>3</td>\n",
              "      <td>606.5</td>\n",
              "      <td>447.4</td>\n",
              "      <td>2158.8</td>\n",
              "    </tr>\n",
              "    <tr>\n",
              "      <th>3</th>\n",
              "      <td>4</td>\n",
              "      <td>733.0</td>\n",
              "      <td>474.4</td>\n",
              "      <td>2651.3</td>\n",
              "    </tr>\n",
              "    <tr>\n",
              "      <th>4</th>\n",
              "      <td>5</td>\n",
              "      <td>830.6</td>\n",
              "      <td>386.3</td>\n",
              "      <td>1854.3</td>\n",
              "    </tr>\n",
              "    <tr>\n",
              "      <th>5</th>\n",
              "      <td>6</td>\n",
              "      <td>535.6</td>\n",
              "      <td>343.7</td>\n",
              "      <td>2304.9</td>\n",
              "    </tr>\n",
              "    <tr>\n",
              "      <th>6</th>\n",
              "      <td>7</td>\n",
              "      <td>474.0</td>\n",
              "      <td>262.7</td>\n",
              "      <td>1673.1</td>\n",
              "    </tr>\n",
              "    <tr>\n",
              "      <th>7</th>\n",
              "      <td>8</td>\n",
              "      <td>525.3</td>\n",
              "      <td>310.5</td>\n",
              "      <td>1500.5</td>\n",
              "    </tr>\n",
              "    <tr>\n",
              "      <th>8</th>\n",
              "      <td>9</td>\n",
              "      <td>432.5</td>\n",
              "      <td>310.8</td>\n",
              "      <td>980.2</td>\n",
              "    </tr>\n",
              "    <tr>\n",
              "      <th>9</th>\n",
              "      <td>10</td>\n",
              "      <td>518.9</td>\n",
              "      <td>323.5</td>\n",
              "      <td>1651.7</td>\n",
              "    </tr>\n",
              "  </tbody>\n",
              "</table>\n",
              "</div>\n",
              "      <button class=\"colab-df-convert\" onclick=\"convertToInteractive('df-c2f0225a-f059-4be3-bd77-9730fcbe8eed')\"\n",
              "              title=\"Convert this dataframe to an interactive table.\"\n",
              "              style=\"display:none;\">\n",
              "        \n",
              "  <svg xmlns=\"http://www.w3.org/2000/svg\" height=\"24px\"viewBox=\"0 0 24 24\"\n",
              "       width=\"24px\">\n",
              "    <path d=\"M0 0h24v24H0V0z\" fill=\"none\"/>\n",
              "    <path d=\"M18.56 5.44l.94 2.06.94-2.06 2.06-.94-2.06-.94-.94-2.06-.94 2.06-2.06.94zm-11 1L8.5 8.5l.94-2.06 2.06-.94-2.06-.94L8.5 2.5l-.94 2.06-2.06.94zm10 10l.94 2.06.94-2.06 2.06-.94-2.06-.94-.94-2.06-.94 2.06-2.06.94z\"/><path d=\"M17.41 7.96l-1.37-1.37c-.4-.4-.92-.59-1.43-.59-.52 0-1.04.2-1.43.59L10.3 9.45l-7.72 7.72c-.78.78-.78 2.05 0 2.83L4 21.41c.39.39.9.59 1.41.59.51 0 1.02-.2 1.41-.59l7.78-7.78 2.81-2.81c.8-.78.8-2.07 0-2.86zM5.41 20L4 18.59l7.72-7.72 1.47 1.35L5.41 20z\"/>\n",
              "  </svg>\n",
              "      </button>\n",
              "      \n",
              "  <style>\n",
              "    .colab-df-container {\n",
              "      display:flex;\n",
              "      flex-wrap:wrap;\n",
              "      gap: 12px;\n",
              "    }\n",
              "\n",
              "    .colab-df-convert {\n",
              "      background-color: #E8F0FE;\n",
              "      border: none;\n",
              "      border-radius: 50%;\n",
              "      cursor: pointer;\n",
              "      display: none;\n",
              "      fill: #1967D2;\n",
              "      height: 32px;\n",
              "      padding: 0 0 0 0;\n",
              "      width: 32px;\n",
              "    }\n",
              "\n",
              "    .colab-df-convert:hover {\n",
              "      background-color: #E2EBFA;\n",
              "      box-shadow: 0px 1px 2px rgba(60, 64, 67, 0.3), 0px 1px 3px 1px rgba(60, 64, 67, 0.15);\n",
              "      fill: #174EA6;\n",
              "    }\n",
              "\n",
              "    [theme=dark] .colab-df-convert {\n",
              "      background-color: #3B4455;\n",
              "      fill: #D2E3FC;\n",
              "    }\n",
              "\n",
              "    [theme=dark] .colab-df-convert:hover {\n",
              "      background-color: #434B5C;\n",
              "      box-shadow: 0px 1px 3px 1px rgba(0, 0, 0, 0.15);\n",
              "      filter: drop-shadow(0px 1px 2px rgba(0, 0, 0, 0.3));\n",
              "      fill: #FFFFFF;\n",
              "    }\n",
              "  </style>\n",
              "\n",
              "      <script>\n",
              "        const buttonEl =\n",
              "          document.querySelector('#df-c2f0225a-f059-4be3-bd77-9730fcbe8eed button.colab-df-convert');\n",
              "        buttonEl.style.display =\n",
              "          google.colab.kernel.accessAllowed ? 'block' : 'none';\n",
              "\n",
              "        async function convertToInteractive(key) {\n",
              "          const element = document.querySelector('#df-c2f0225a-f059-4be3-bd77-9730fcbe8eed');\n",
              "          const dataTable =\n",
              "            await google.colab.kernel.invokeFunction('convertToInteractive',\n",
              "                                                     [key], {});\n",
              "          if (!dataTable) return;\n",
              "\n",
              "          const docLinkHtml = 'Like what you see? Visit the ' +\n",
              "            '<a target=\"_blank\" href=https://colab.research.google.com/notebooks/data_table.ipynb>data table notebook</a>'\n",
              "            + ' to learn more about interactive tables.';\n",
              "          element.innerHTML = '';\n",
              "          dataTable['output_type'] = 'display_data';\n",
              "          await google.colab.output.renderOutput(dataTable, element);\n",
              "          const docLink = document.createElement('div');\n",
              "          docLink.innerHTML = docLinkHtml;\n",
              "          element.appendChild(docLink);\n",
              "        }\n",
              "      </script>\n",
              "    </div>\n",
              "  </div>\n",
              "  "
            ]
          },
          "metadata": {},
          "execution_count": 36
        }
      ]
    },
    {
      "cell_type": "markdown",
      "source": [
        "Verificação dos dados de estatística descritiva sobre as médias mensais de carga transportada por voo."
      ],
      "metadata": {
        "id": "jIiC_A9wKeWW"
      }
    },
    {
      "cell_type": "code",
      "source": [
        "medias_carga_df[['kg_por_voo_a', 'kg_por_voo_b', 'kg_por_voo_c']].describe()"
      ],
      "metadata": {
        "colab": {
          "base_uri": "https://localhost:8080/",
          "height": 300
        },
        "id": "yiO-fGflpFIG",
        "outputId": "43597d0a-6475-4d26-c9ca-bc0ab6bb7d8d"
      },
      "execution_count": 37,
      "outputs": [
        {
          "output_type": "execute_result",
          "data": {
            "text/plain": [
              "       kg_por_voo_a  kg_por_voo_b  kg_por_voo_c\n",
              "count     10.000000     10.000000      10.00000\n",
              "mean     567.370000    338.340000    1805.17000\n",
              "std      123.553408     81.192107     469.12425\n",
              "min      432.500000    200.900000     980.20000\n",
              "25%      503.625000    310.575000    1571.45000\n",
              "50%      522.100000    323.350000    1702.65000\n",
              "75%      588.775000    375.650000    2082.67500\n",
              "max      830.600000    474.400000    2651.30000"
            ],
            "text/html": [
              "\n",
              "  <div id=\"df-697bd043-31f2-4d62-99ae-b79eb25ccb50\">\n",
              "    <div class=\"colab-df-container\">\n",
              "      <div>\n",
              "<style scoped>\n",
              "    .dataframe tbody tr th:only-of-type {\n",
              "        vertical-align: middle;\n",
              "    }\n",
              "\n",
              "    .dataframe tbody tr th {\n",
              "        vertical-align: top;\n",
              "    }\n",
              "\n",
              "    .dataframe thead th {\n",
              "        text-align: right;\n",
              "    }\n",
              "</style>\n",
              "<table border=\"1\" class=\"dataframe\">\n",
              "  <thead>\n",
              "    <tr style=\"text-align: right;\">\n",
              "      <th></th>\n",
              "      <th>kg_por_voo_a</th>\n",
              "      <th>kg_por_voo_b</th>\n",
              "      <th>kg_por_voo_c</th>\n",
              "    </tr>\n",
              "  </thead>\n",
              "  <tbody>\n",
              "    <tr>\n",
              "      <th>count</th>\n",
              "      <td>10.000000</td>\n",
              "      <td>10.000000</td>\n",
              "      <td>10.00000</td>\n",
              "    </tr>\n",
              "    <tr>\n",
              "      <th>mean</th>\n",
              "      <td>567.370000</td>\n",
              "      <td>338.340000</td>\n",
              "      <td>1805.17000</td>\n",
              "    </tr>\n",
              "    <tr>\n",
              "      <th>std</th>\n",
              "      <td>123.553408</td>\n",
              "      <td>81.192107</td>\n",
              "      <td>469.12425</td>\n",
              "    </tr>\n",
              "    <tr>\n",
              "      <th>min</th>\n",
              "      <td>432.500000</td>\n",
              "      <td>200.900000</td>\n",
              "      <td>980.20000</td>\n",
              "    </tr>\n",
              "    <tr>\n",
              "      <th>25%</th>\n",
              "      <td>503.625000</td>\n",
              "      <td>310.575000</td>\n",
              "      <td>1571.45000</td>\n",
              "    </tr>\n",
              "    <tr>\n",
              "      <th>50%</th>\n",
              "      <td>522.100000</td>\n",
              "      <td>323.350000</td>\n",
              "      <td>1702.65000</td>\n",
              "    </tr>\n",
              "    <tr>\n",
              "      <th>75%</th>\n",
              "      <td>588.775000</td>\n",
              "      <td>375.650000</td>\n",
              "      <td>2082.67500</td>\n",
              "    </tr>\n",
              "    <tr>\n",
              "      <th>max</th>\n",
              "      <td>830.600000</td>\n",
              "      <td>474.400000</td>\n",
              "      <td>2651.30000</td>\n",
              "    </tr>\n",
              "  </tbody>\n",
              "</table>\n",
              "</div>\n",
              "      <button class=\"colab-df-convert\" onclick=\"convertToInteractive('df-697bd043-31f2-4d62-99ae-b79eb25ccb50')\"\n",
              "              title=\"Convert this dataframe to an interactive table.\"\n",
              "              style=\"display:none;\">\n",
              "        \n",
              "  <svg xmlns=\"http://www.w3.org/2000/svg\" height=\"24px\"viewBox=\"0 0 24 24\"\n",
              "       width=\"24px\">\n",
              "    <path d=\"M0 0h24v24H0V0z\" fill=\"none\"/>\n",
              "    <path d=\"M18.56 5.44l.94 2.06.94-2.06 2.06-.94-2.06-.94-.94-2.06-.94 2.06-2.06.94zm-11 1L8.5 8.5l.94-2.06 2.06-.94-2.06-.94L8.5 2.5l-.94 2.06-2.06.94zm10 10l.94 2.06.94-2.06 2.06-.94-2.06-.94-.94-2.06-.94 2.06-2.06.94z\"/><path d=\"M17.41 7.96l-1.37-1.37c-.4-.4-.92-.59-1.43-.59-.52 0-1.04.2-1.43.59L10.3 9.45l-7.72 7.72c-.78.78-.78 2.05 0 2.83L4 21.41c.39.39.9.59 1.41.59.51 0 1.02-.2 1.41-.59l7.78-7.78 2.81-2.81c.8-.78.8-2.07 0-2.86zM5.41 20L4 18.59l7.72-7.72 1.47 1.35L5.41 20z\"/>\n",
              "  </svg>\n",
              "      </button>\n",
              "      \n",
              "  <style>\n",
              "    .colab-df-container {\n",
              "      display:flex;\n",
              "      flex-wrap:wrap;\n",
              "      gap: 12px;\n",
              "    }\n",
              "\n",
              "    .colab-df-convert {\n",
              "      background-color: #E8F0FE;\n",
              "      border: none;\n",
              "      border-radius: 50%;\n",
              "      cursor: pointer;\n",
              "      display: none;\n",
              "      fill: #1967D2;\n",
              "      height: 32px;\n",
              "      padding: 0 0 0 0;\n",
              "      width: 32px;\n",
              "    }\n",
              "\n",
              "    .colab-df-convert:hover {\n",
              "      background-color: #E2EBFA;\n",
              "      box-shadow: 0px 1px 2px rgba(60, 64, 67, 0.3), 0px 1px 3px 1px rgba(60, 64, 67, 0.15);\n",
              "      fill: #174EA6;\n",
              "    }\n",
              "\n",
              "    [theme=dark] .colab-df-convert {\n",
              "      background-color: #3B4455;\n",
              "      fill: #D2E3FC;\n",
              "    }\n",
              "\n",
              "    [theme=dark] .colab-df-convert:hover {\n",
              "      background-color: #434B5C;\n",
              "      box-shadow: 0px 1px 3px 1px rgba(0, 0, 0, 0.15);\n",
              "      filter: drop-shadow(0px 1px 2px rgba(0, 0, 0, 0.3));\n",
              "      fill: #FFFFFF;\n",
              "    }\n",
              "  </style>\n",
              "\n",
              "      <script>\n",
              "        const buttonEl =\n",
              "          document.querySelector('#df-697bd043-31f2-4d62-99ae-b79eb25ccb50 button.colab-df-convert');\n",
              "        buttonEl.style.display =\n",
              "          google.colab.kernel.accessAllowed ? 'block' : 'none';\n",
              "\n",
              "        async function convertToInteractive(key) {\n",
              "          const element = document.querySelector('#df-697bd043-31f2-4d62-99ae-b79eb25ccb50');\n",
              "          const dataTable =\n",
              "            await google.colab.kernel.invokeFunction('convertToInteractive',\n",
              "                                                     [key], {});\n",
              "          if (!dataTable) return;\n",
              "\n",
              "          const docLinkHtml = 'Like what you see? Visit the ' +\n",
              "            '<a target=\"_blank\" href=https://colab.research.google.com/notebooks/data_table.ipynb>data table notebook</a>'\n",
              "            + ' to learn more about interactive tables.';\n",
              "          element.innerHTML = '';\n",
              "          dataTable['output_type'] = 'display_data';\n",
              "          await google.colab.output.renderOutput(dataTable, element);\n",
              "          const docLink = document.createElement('div');\n",
              "          docLink.innerHTML = docLinkHtml;\n",
              "          element.appendChild(docLink);\n",
              "        }\n",
              "      </script>\n",
              "    </div>\n",
              "  </div>\n",
              "  "
            ]
          },
          "metadata": {},
          "execution_count": 37
        }
      ]
    },
    {
      "cell_type": "markdown",
      "source": [
        "Visualização dos histogramas:"
      ],
      "metadata": {
        "id": "fvk9KN_q-GXw"
      }
    },
    {
      "cell_type": "code",
      "source": [
        "# Empresa A\n",
        "fig, ax = plt.subplots(2, 5, figsize=(20, 8))\n",
        "plt.subplots_adjust(hspace=0.2)\n",
        "fig.suptitle('Distribuição de carga paga por decolagens - Empresa A')\n",
        "x_axis = ['jan', 'fev', 'mar', 'abr', 'mai', 'jun', 'jul', 'ago', 'set', 'out']\n",
        "ax = ax.ravel()\n",
        "for i, axi in enumerate(ax):\n",
        "    axi.hist(carga_por_decolagem_a[i])\n",
        "    axi.set_xlabel(x_axis[i])\n",
        "\n",
        "ax[0].set_ylabel('frequência')\n",
        "ax[5].set_ylabel('frequência')\n",
        "plt.show()"
      ],
      "metadata": {
        "colab": {
          "base_uri": "https://localhost:8080/",
          "height": 410
        },
        "id": "f139i1xynwCN",
        "outputId": "f957ef8e-387d-46c6-81db-e4838d1278b7"
      },
      "execution_count": 38,
      "outputs": [
        {
          "output_type": "display_data",
          "data": {
            "text/plain": [
              "<Figure size 1440x576 with 10 Axes>"
            ],
            "image/png": "[encoded data removed]"
          },
          "metadata": {
            "needs_background": "light"
          }
        }
      ]
    },
    {
      "cell_type": "code",
      "source": [
        "# Empresa B\n",
        "fig, ax = plt.subplots(2, 5, figsize=(20, 8))\n",
        "plt.subplots_adjust(hspace=0.2)\n",
        "fig.suptitle('Distribuição de carga paga por decolagens - Empresa B')\n",
        "# x_axis = ['jan', 'fev', 'mar', 'abr', 'mai', 'jun', 'jul', 'ago', 'set', 'out']\n",
        "ax = ax.ravel()\n",
        "for i, axi in enumerate(ax):\n",
        "    axi.hist(carga_por_decolagem_b[i])\n",
        "    axi.set_xlabel(x_axis[i])\n",
        "\n",
        "ax[0].set_ylabel('frequência')\n",
        "ax[5].set_ylabel('frequência')\n",
        "plt.show()"
      ],
      "metadata": {
        "colab": {
          "base_uri": "https://localhost:8080/",
          "height": 409
        },
        "id": "9kfHkTfx8Ru-",
        "outputId": "4056eb46-7fd1-47bc-d4ee-abc349310fab"
      },
      "execution_count": 39,
      "outputs": [
        {
          "output_type": "display_data",
          "data": {
            "text/plain": [
              "<Figure size 1440x576 with 10 Axes>"
            ],
            "image/png": "[encoded data removed]"
          },
          "metadata": {
            "needs_background": "light"
          }
        }
      ]
    },
    {
      "cell_type": "code",
      "source": [
        "# Empresa C\n",
        "fig, ax = plt.subplots(2, 5, figsize=(20, 8))\n",
        "plt.subplots_adjust(hspace=0.2)\n",
        "fig.suptitle('Distribuição de carga paga por decolagens - Empresa C')\n",
        "# x_axis = ['jan', 'fev', 'mar', 'abr', 'mai', 'jun', 'jul', 'ago', 'set', 'out']\n",
        "ax = ax.ravel()\n",
        "for i, axi in enumerate(ax):\n",
        "    axi.hist(carga_por_decolagem_c[i])\n",
        "    axi.set_xlabel(x_axis[i])\n",
        "\n",
        "ax[0].set_ylabel('frequência')\n",
        "ax[5].set_ylabel('frequência')\n",
        "plt.show()"
      ],
      "metadata": {
        "colab": {
          "base_uri": "https://localhost:8080/",
          "height": 409
        },
        "id": "bN3B3_eu8u7M",
        "outputId": "67702c97-aba4-44f4-f48e-d96cfa6d6bdc"
      },
      "execution_count": 40,
      "outputs": [
        {
          "output_type": "display_data",
          "data": {
            "text/plain": [
              "<Figure size 1440x576 with 10 Axes>"
            ],
            "image/png": "[encoded data removed]"
          },
          "metadata": {
            "needs_background": "light"
          }
        }
      ]
    },
    {
      "cell_type": "markdown",
      "source": [
        "## Insights\n",
        "\n",
        "Com base nos dados, podemos identificar as seguintes variáveis estratégicas:\n",
        "- Aeroportos principais para cargas (GRU, MAO, VCP).\n",
        "- Frequência de voos entre os aeroportos (GRU, MAO e VCP).\n",
        "- Taxa de carga transportada por voo."
      ],
      "metadata": {
        "id": "zEI6aErfsosw"
      }
    },
    {
      "cell_type": "markdown",
      "source": [
        "## Plano de ação para a empresa B\n",
        "Aumentar disponibilidade de voos para Manaus (MAO)\n",
        "\n",
        "**Rotas recomendadas:**\n",
        "- GRU-MAO\n",
        "- MAO-GRU\n",
        "- BSB-MAO\n",
        "- MAO-BSB\n",
        "\n",
        "\n",
        "**Complementar:**\n",
        "\n",
        "Estabelecer parceria com empresas de logística para aumentar a taxa de carga por voo."
      ],
      "metadata": {
        "id": "XsWMpLN1tsdg"
      }
    }
  ]
}