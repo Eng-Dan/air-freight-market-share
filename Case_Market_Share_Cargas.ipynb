{
  "nbformat": 4,
  "nbformat_minor": 0,
  "metadata": {
    "colab": {
      "name": "Case Market Share Cargas",
      "provenance": [],
      "collapsed_sections": [],
      "include_colab_link": true
    },
    "kernelspec": {
      "name": "python3",
      "display_name": "Python 3"
    },
    "language_info": {
      "name": "python"
    }
  },
  "cells": [
    {
      "cell_type": "markdown",
      "metadata": {
        "id": "view-in-github",
        "colab_type": "text"
      },
      "source": [
        "<a href=\"https://colab.research.google.com/github/Eng-Dan/air-freight-market-share/blob/master/Case_Market_Share_Cargas.ipynb\" target=\"_parent\"><img src=\"https://colab.research.google.com/assets/colab-badge.svg\" alt=\"Open In Colab\"/></a>"
      ]
    },
    {
      "cell_type": "markdown",
      "source": [
        "# Introdução"
      ],
      "metadata": {
        "id": "wBtKkC9-DVbb"
      }
    },
    {
      "cell_type": "markdown",
      "source": [
        "...bla bla bla..."
      ],
      "metadata": {
        "id": "z-giMID3Dcxu"
      }
    },
    {
      "cell_type": "markdown",
      "source": [
        "# Link de fontes de dados públicos"
      ],
      "metadata": {
        "id": "l-jywGfG8KxF"
      }
    },
    {
      "cell_type": "markdown",
      "source": [
        "[DADOS ESTATÍSTICOS DO TRANSPORTE AÉREO](https://www.anac.gov.br/acesso-a-informacao/dados-abertos/areas-de-atuacao/voos-e-operacoes-aereas/dados-estatisticos-do-transporte-aereo)\n",
        "\n",
        "* [Metadados do conjunto de dados: Dados Estatísticos do Transporte Aéreo](https://www.anac.gov.br/acesso-a-informacao/dados-abertos/areas-de-atuacao/voos-e-operacoes-aereas/dados-estatisticos-do-transporte-aereo/48-dados-estatisticos-do-transporte-aereo)\n",
        "\n",
        "* [Voos e operações aéreas - Dados Estatísticos do Transporte Aéreo - Formato CSV](https://sistemas.anac.gov.br/dadosabertos/Voos%20e%20opera%C3%A7%C3%B5es%20a%C3%A9reas/Dados%20Estat%C3%ADsticos%20do%20Transporte%20A%C3%A9reo/)"
      ],
      "metadata": {
        "id": "3h7YZqTODo0h"
      }
    },
    {
      "cell_type": "markdown",
      "source": [
        "# Configurações e bibliotecas utilizadas"
      ],
      "metadata": {
        "id": "fGp-MXxWDLH8"
      }
    },
    {
      "cell_type": "code",
      "source": [
        "import pandas as pd\n",
        "import numpy as np\n",
        "import matplotlib.pyplot as plt\n",
        "import seaborn as sns\n",
        "import plotly.express as px"
      ],
      "metadata": {
        "id": "invFBl6z2oLp"
      },
      "execution_count": 1,
      "outputs": []
    },
    {
      "cell_type": "code",
      "source": [
        "from google.colab import drive\n",
        "drive.mount('/content/drive')"
      ],
      "metadata": {
        "colab": {
          "base_uri": "https://localhost:8080/"
        },
        "id": "A0SlJP7LCB7F",
        "outputId": "23e83af7-a3a3-4b02-cb51-49e1c537bc28"
      },
      "execution_count": 2,
      "outputs": [
        {
          "output_type": "stream",
          "name": "stdout",
          "text": [
            "Drive already mounted at /content/drive; to attempt to forcibly remount, call drive.mount(\"/content/drive\", force_remount=True).\n"
          ]
        }
      ]
    },
    {
      "cell_type": "markdown",
      "source": [
        "# Dicionário de dados\n",
        "\n",
        "\n",
        "* `passageiros_pagos`: Refere-se aos passageiros que ocupam assentos comercializados ao público e que geram receita, com a compra de assentos, para a empresa de transporte aéreo. Incluem-se nesta definição as pessoas que viajam em virtude de ofertas promocionais, as que se valem dos programas de fidelização de clientes, as que se valem dos descontos concedidos pelas empresas, as que viajam com tarifas preferenciais, as pessoas que compram passagem no balcão ou através do site de empresa de transporte aéreo e as pessoas que compram passagem em agências de viagem.\n",
        "\n",
        "* `carga_paga_km`: Refere-se ao volume de Carga Paga (kg) em cada quilômetro, ou seja, a soma do produto entre a quantia (kg) de carga paga e a distâncias das etapas.\n",
        "\n",
        "$$\n",
        "carga\\ paga_{km} = \\sum_{etapa=1}^{etapa=n}(Peso\\ carga_{kg} × Distância_{km})_{etapa}\n",
        "$$\n",
        "\n",
        "* `carga_paga_kg`: Refere-se à quantidade total, expressa em quilogramas, de todos os bens que tenham sido transportados na aeronave, exceto correio e bagagem, e tenham gerado receitas direta ou indireta para a empresa aérea.\n",
        "\n",
        "* `decolagens`: Refere-se ao número de decolagens que ocorreram entre os aeródromos de origem e destino da etapa."
      ],
      "metadata": {
        "id": "o4OrnIUY6KPN"
      }
    },
    {
      "cell_type": "markdown",
      "source": [
        "# Dataset e qualidade dos dados"
      ],
      "metadata": {
        "id": "kail_ZZmDyr0"
      }
    },
    {
      "cell_type": "code",
      "execution_count": 3,
      "metadata": {
        "id": "hau6HOpo2PG3"
      },
      "outputs": [],
      "source": [
        "arquivo_csv = '/content/drive/MyDrive/Colab Notebooks/Datasets/case_market_share.csv'"
      ]
    },
    {
      "cell_type": "markdown",
      "source": [
        "Para a análise e manipulação dos dados, será utilizado um dataframe em Pandas.\n",
        "Atribuindo `df` como o nome do dataframe, o seguinte método carrega os dados do arquivo \".csv\"."
      ],
      "metadata": {
        "id": "Rop09CBMI3Xf"
      }
    },
    {
      "cell_type": "code",
      "source": [
        "df = pd.read_csv(arquivo_csv, sep=';', encoding='windows-1252')"
      ],
      "metadata": {
        "id": "wV93VkFR20tY"
      },
      "execution_count": 4,
      "outputs": []
    },
    {
      "cell_type": "code",
      "source": [
        "df.shape"
      ],
      "metadata": {
        "colab": {
          "base_uri": "https://localhost:8080/"
        },
        "id": "9YEC_lh2Lifl",
        "outputId": "9f66f493-fe38-4288-e8ed-9684435caf20"
      },
      "execution_count": 5,
      "outputs": [
        {
          "output_type": "execute_result",
          "data": {
            "text/plain": [
              "(13272, 11)"
            ]
          },
          "metadata": {},
          "execution_count": 5
        }
      ]
    },
    {
      "cell_type": "markdown",
      "source": [
        "Primeiramente vamos visualizar o conteúdo dos dados com base nos 10 primeiras registros."
      ],
      "metadata": {
        "id": "V1GtjnckA4FQ"
      }
    },
    {
      "cell_type": "code",
      "source": [
        "df.head(10)"
      ],
      "metadata": {
        "colab": {
          "base_uri": "https://localhost:8080/",
          "height": 363
        },
        "id": "8ceIxBUFAydj",
        "outputId": "2c3f79bc-9acc-4814-c6f2-796033481a75"
      },
      "execution_count": 6,
      "outputs": [
        {
          "output_type": "execute_result",
          "data": {
            "text/plain": [
              "  empresa   ano  mês origem aeroporto_origem destion aeroporto_destino  \\\n",
              "0       A  2021   10    BEL            BELÉM     BEL             BELÉM   \n",
              "1       A  2021   10    BEL            BELÉM     BEL             BELÉM   \n",
              "2       A  2021   10    BEL            BELÉM     MAB            MARABÁ   \n",
              "3       A  2021   10    BEL            BELÉM     MEU          ALMEIRIM   \n",
              "4       A  2021   10    BEL            BELÉM     BVS            BREVES   \n",
              "5       A  2021   10    BEL            BELÉM     GGF          ALMEIRIM   \n",
              "6       A  2021   10    BPG  BARRA DO GARÇAS     CGB     VÁRZEA GRANDE   \n",
              "7       A  2021   10    BPG  BARRA DO GARÇAS     GYN           GOIÂNIA   \n",
              "8       A  2021   10    BPG  BARRA DO GARÇAS     QDV           JUNDIAÍ   \n",
              "9       A  2021   10    CNF          CONFINS     CNF           CONFINS   \n",
              "\n",
              "    tipo_voo  passageiros_pagos  carga_paga_kg  decolagens  \n",
              "0  DOMÉSTICA                6.0           27.0         1.0  \n",
              "1  DOMÉSTICA                0.0            0.0         NaN  \n",
              "2  DOMÉSTICA                0.0            0.0         1.0  \n",
              "3  DOMÉSTICA              128.0         2237.0        23.0  \n",
              "4  DOMÉSTICA              171.0         2218.0        33.0  \n",
              "5  DOMÉSTICA                0.0            0.0         NaN  \n",
              "6  DOMÉSTICA              119.0         1573.0        21.0  \n",
              "7  DOMÉSTICA               16.0          115.0         3.0  \n",
              "8  DOMÉSTICA                0.0            0.0         1.0  \n",
              "9  DOMÉSTICA                0.0            0.0         1.0  "
            ],
            "text/html": [
              "\n",
              "  <div id=\"df-f946a3c5-f9a3-4545-81e7-f8b97780c4cb\">\n",
              "    <div class=\"colab-df-container\">\n",
              "      <div>\n",
              "<style scoped>\n",
              "    .dataframe tbody tr th:only-of-type {\n",
              "        vertical-align: middle;\n",
              "    }\n",
              "\n",
              "    .dataframe tbody tr th {\n",
              "        vertical-align: top;\n",
              "    }\n",
              "\n",
              "    .dataframe thead th {\n",
              "        text-align: right;\n",
              "    }\n",
              "</style>\n",
              "<table border=\"1\" class=\"dataframe\">\n",
              "  <thead>\n",
              "    <tr style=\"text-align: right;\">\n",
              "      <th></th>\n",
              "      <th>empresa</th>\n",
              "      <th>ano</th>\n",
              "      <th>mês</th>\n",
              "      <th>origem</th>\n",
              "      <th>aeroporto_origem</th>\n",
              "      <th>destion</th>\n",
              "      <th>aeroporto_destino</th>\n",
              "      <th>tipo_voo</th>\n",
              "      <th>passageiros_pagos</th>\n",
              "      <th>carga_paga_kg</th>\n",
              "      <th>decolagens</th>\n",
              "    </tr>\n",
              "  </thead>\n",
              "  <tbody>\n",
              "    <tr>\n",
              "      <th>0</th>\n",
              "      <td>A</td>\n",
              "      <td>2021</td>\n",
              "      <td>10</td>\n",
              "      <td>BEL</td>\n",
              "      <td>BELÉM</td>\n",
              "      <td>BEL</td>\n",
              "      <td>BELÉM</td>\n",
              "      <td>DOMÉSTICA</td>\n",
              "      <td>6.0</td>\n",
              "      <td>27.0</td>\n",
              "      <td>1.0</td>\n",
              "    </tr>\n",
              "    <tr>\n",
              "      <th>1</th>\n",
              "      <td>A</td>\n",
              "      <td>2021</td>\n",
              "      <td>10</td>\n",
              "      <td>BEL</td>\n",
              "      <td>BELÉM</td>\n",
              "      <td>BEL</td>\n",
              "      <td>BELÉM</td>\n",
              "      <td>DOMÉSTICA</td>\n",
              "      <td>0.0</td>\n",
              "      <td>0.0</td>\n",
              "      <td>NaN</td>\n",
              "    </tr>\n",
              "    <tr>\n",
              "      <th>2</th>\n",
              "      <td>A</td>\n",
              "      <td>2021</td>\n",
              "      <td>10</td>\n",
              "      <td>BEL</td>\n",
              "      <td>BELÉM</td>\n",
              "      <td>MAB</td>\n",
              "      <td>MARABÁ</td>\n",
              "      <td>DOMÉSTICA</td>\n",
              "      <td>0.0</td>\n",
              "      <td>0.0</td>\n",
              "      <td>1.0</td>\n",
              "    </tr>\n",
              "    <tr>\n",
              "      <th>3</th>\n",
              "      <td>A</td>\n",
              "      <td>2021</td>\n",
              "      <td>10</td>\n",
              "      <td>BEL</td>\n",
              "      <td>BELÉM</td>\n",
              "      <td>MEU</td>\n",
              "      <td>ALMEIRIM</td>\n",
              "      <td>DOMÉSTICA</td>\n",
              "      <td>128.0</td>\n",
              "      <td>2237.0</td>\n",
              "      <td>23.0</td>\n",
              "    </tr>\n",
              "    <tr>\n",
              "      <th>4</th>\n",
              "      <td>A</td>\n",
              "      <td>2021</td>\n",
              "      <td>10</td>\n",
              "      <td>BEL</td>\n",
              "      <td>BELÉM</td>\n",
              "      <td>BVS</td>\n",
              "      <td>BREVES</td>\n",
              "      <td>DOMÉSTICA</td>\n",
              "      <td>171.0</td>\n",
              "      <td>2218.0</td>\n",
              "      <td>33.0</td>\n",
              "    </tr>\n",
              "    <tr>\n",
              "      <th>5</th>\n",
              "      <td>A</td>\n",
              "      <td>2021</td>\n",
              "      <td>10</td>\n",
              "      <td>BEL</td>\n",
              "      <td>BELÉM</td>\n",
              "      <td>GGF</td>\n",
              "      <td>ALMEIRIM</td>\n",
              "      <td>DOMÉSTICA</td>\n",
              "      <td>0.0</td>\n",
              "      <td>0.0</td>\n",
              "      <td>NaN</td>\n",
              "    </tr>\n",
              "    <tr>\n",
              "      <th>6</th>\n",
              "      <td>A</td>\n",
              "      <td>2021</td>\n",
              "      <td>10</td>\n",
              "      <td>BPG</td>\n",
              "      <td>BARRA DO GARÇAS</td>\n",
              "      <td>CGB</td>\n",
              "      <td>VÁRZEA GRANDE</td>\n",
              "      <td>DOMÉSTICA</td>\n",
              "      <td>119.0</td>\n",
              "      <td>1573.0</td>\n",
              "      <td>21.0</td>\n",
              "    </tr>\n",
              "    <tr>\n",
              "      <th>7</th>\n",
              "      <td>A</td>\n",
              "      <td>2021</td>\n",
              "      <td>10</td>\n",
              "      <td>BPG</td>\n",
              "      <td>BARRA DO GARÇAS</td>\n",
              "      <td>GYN</td>\n",
              "      <td>GOIÂNIA</td>\n",
              "      <td>DOMÉSTICA</td>\n",
              "      <td>16.0</td>\n",
              "      <td>115.0</td>\n",
              "      <td>3.0</td>\n",
              "    </tr>\n",
              "    <tr>\n",
              "      <th>8</th>\n",
              "      <td>A</td>\n",
              "      <td>2021</td>\n",
              "      <td>10</td>\n",
              "      <td>BPG</td>\n",
              "      <td>BARRA DO GARÇAS</td>\n",
              "      <td>QDV</td>\n",
              "      <td>JUNDIAÍ</td>\n",
              "      <td>DOMÉSTICA</td>\n",
              "      <td>0.0</td>\n",
              "      <td>0.0</td>\n",
              "      <td>1.0</td>\n",
              "    </tr>\n",
              "    <tr>\n",
              "      <th>9</th>\n",
              "      <td>A</td>\n",
              "      <td>2021</td>\n",
              "      <td>10</td>\n",
              "      <td>CNF</td>\n",
              "      <td>CONFINS</td>\n",
              "      <td>CNF</td>\n",
              "      <td>CONFINS</td>\n",
              "      <td>DOMÉSTICA</td>\n",
              "      <td>0.0</td>\n",
              "      <td>0.0</td>\n",
              "      <td>1.0</td>\n",
              "    </tr>\n",
              "  </tbody>\n",
              "</table>\n",
              "</div>\n",
              "      <button class=\"colab-df-convert\" onclick=\"convertToInteractive('df-f946a3c5-f9a3-4545-81e7-f8b97780c4cb')\"\n",
              "              title=\"Convert this dataframe to an interactive table.\"\n",
              "              style=\"display:none;\">\n",
              "        \n",
              "  <svg xmlns=\"http://www.w3.org/2000/svg\" height=\"24px\"viewBox=\"0 0 24 24\"\n",
              "       width=\"24px\">\n",
              "    <path d=\"M0 0h24v24H0V0z\" fill=\"none\"/>\n",
              "    <path d=\"M18.56 5.44l.94 2.06.94-2.06 2.06-.94-2.06-.94-.94-2.06-.94 2.06-2.06.94zm-11 1L8.5 8.5l.94-2.06 2.06-.94-2.06-.94L8.5 2.5l-.94 2.06-2.06.94zm10 10l.94 2.06.94-2.06 2.06-.94-2.06-.94-.94-2.06-.94 2.06-2.06.94z\"/><path d=\"M17.41 7.96l-1.37-1.37c-.4-.4-.92-.59-1.43-.59-.52 0-1.04.2-1.43.59L10.3 9.45l-7.72 7.72c-.78.78-.78 2.05 0 2.83L4 21.41c.39.39.9.59 1.41.59.51 0 1.02-.2 1.41-.59l7.78-7.78 2.81-2.81c.8-.78.8-2.07 0-2.86zM5.41 20L4 18.59l7.72-7.72 1.47 1.35L5.41 20z\"/>\n",
              "  </svg>\n",
              "      </button>\n",
              "      \n",
              "  <style>\n",
              "    .colab-df-container {\n",
              "      display:flex;\n",
              "      flex-wrap:wrap;\n",
              "      gap: 12px;\n",
              "    }\n",
              "\n",
              "    .colab-df-convert {\n",
              "      background-color: #E8F0FE;\n",
              "      border: none;\n",
              "      border-radius: 50%;\n",
              "      cursor: pointer;\n",
              "      display: none;\n",
              "      fill: #1967D2;\n",
              "      height: 32px;\n",
              "      padding: 0 0 0 0;\n",
              "      width: 32px;\n",
              "    }\n",
              "\n",
              "    .colab-df-convert:hover {\n",
              "      background-color: #E2EBFA;\n",
              "      box-shadow: 0px 1px 2px rgba(60, 64, 67, 0.3), 0px 1px 3px 1px rgba(60, 64, 67, 0.15);\n",
              "      fill: #174EA6;\n",
              "    }\n",
              "\n",
              "    [theme=dark] .colab-df-convert {\n",
              "      background-color: #3B4455;\n",
              "      fill: #D2E3FC;\n",
              "    }\n",
              "\n",
              "    [theme=dark] .colab-df-convert:hover {\n",
              "      background-color: #434B5C;\n",
              "      box-shadow: 0px 1px 3px 1px rgba(0, 0, 0, 0.15);\n",
              "      filter: drop-shadow(0px 1px 2px rgba(0, 0, 0, 0.3));\n",
              "      fill: #FFFFFF;\n",
              "    }\n",
              "  </style>\n",
              "\n",
              "      <script>\n",
              "        const buttonEl =\n",
              "          document.querySelector('#df-f946a3c5-f9a3-4545-81e7-f8b97780c4cb button.colab-df-convert');\n",
              "        buttonEl.style.display =\n",
              "          google.colab.kernel.accessAllowed ? 'block' : 'none';\n",
              "\n",
              "        async function convertToInteractive(key) {\n",
              "          const element = document.querySelector('#df-f946a3c5-f9a3-4545-81e7-f8b97780c4cb');\n",
              "          const dataTable =\n",
              "            await google.colab.kernel.invokeFunction('convertToInteractive',\n",
              "                                                     [key], {});\n",
              "          if (!dataTable) return;\n",
              "\n",
              "          const docLinkHtml = 'Like what you see? Visit the ' +\n",
              "            '<a target=\"_blank\" href=https://colab.research.google.com/notebooks/data_table.ipynb>data table notebook</a>'\n",
              "            + ' to learn more about interactive tables.';\n",
              "          element.innerHTML = '';\n",
              "          dataTable['output_type'] = 'display_data';\n",
              "          await google.colab.output.renderOutput(dataTable, element);\n",
              "          const docLink = document.createElement('div');\n",
              "          docLink.innerHTML = docLinkHtml;\n",
              "          element.appendChild(docLink);\n",
              "        }\n",
              "      </script>\n",
              "    </div>\n",
              "  </div>\n",
              "  "
            ]
          },
          "metadata": {},
          "execution_count": 6
        }
      ]
    },
    {
      "cell_type": "markdown",
      "source": [
        "Podemos observar alguns pontos a serem trabalhados no dataset:\n",
        "\n",
        "1. Para efeitos desse estudo, serão desconsideradas as linhas em que o número de passageiros pagos e carga paga for igual a 0.\n",
        "\n",
        "2. Existem registros em que o aeroporto de destino é o mesmo de origem:\n",
        "\n",
        "    Esse registros devem ser desconsiderados. \n",
        "\n",
        "2. Dados contêm valores ausentes:\n",
        "    \n",
        "    Podemos ver que na culuna `decolagens` há valores do tipo \"NaN\" (**N**ot **a** **N**umber) ou nulos (*null*). Nesse caso, segue necessário uma melhor avaliação da qualidade dos registros de cada linha em relação à valores ausentes em todas as colunas.\n",
        "\n"
      ],
      "metadata": {
        "id": "RpcIanXPGNcn"
      }
    },
    {
      "cell_type": "markdown",
      "source": [
        "## Tratamento de registros inválidos e valores ausentes"
      ],
      "metadata": {
        "id": "lnRK5IMdJ6Ra"
      }
    },
    {
      "cell_type": "markdown",
      "source": [
        "Método para remover registros em que `passageiros_pagos` e `carga_paga` são iguais a 0:"
      ],
      "metadata": {
        "id": "OmLyrwyBtt-3"
      }
    },
    {
      "cell_type": "code",
      "source": [
        "df = df[(df.passageiros_pagos > 0) | (df.carga_paga_kg > 0)]"
      ],
      "metadata": {
        "id": "X69az95VsOui"
      },
      "execution_count": 7,
      "outputs": []
    },
    {
      "cell_type": "code",
      "source": [
        "df.shape"
      ],
      "metadata": {
        "colab": {
          "base_uri": "https://localhost:8080/"
        },
        "id": "cnSEvrxd0n0d",
        "outputId": "bdbee500-c693-4bb4-bf59-80f5b02c8f4c"
      },
      "execution_count": 8,
      "outputs": [
        {
          "output_type": "execute_result",
          "data": {
            "text/plain": [
              "(10738, 11)"
            ]
          },
          "metadata": {},
          "execution_count": 8
        }
      ]
    },
    {
      "cell_type": "markdown",
      "source": [
        "Método para remover registros em que `origem` e `destino` são iguais:"
      ],
      "metadata": {
        "id": "OZo-wLebuAR8"
      }
    },
    {
      "cell_type": "code",
      "source": [
        "df.drop(df[df.origem == df.destion].index, inplace=True)"
      ],
      "metadata": {
        "id": "Soc1d7xYJ_uB"
      },
      "execution_count": 9,
      "outputs": []
    },
    {
      "cell_type": "code",
      "source": [
        "df.shape"
      ],
      "metadata": {
        "colab": {
          "base_uri": "https://localhost:8080/"
        },
        "id": "b0poQ17O0ss0",
        "outputId": "0fd9a77d-b4a4-43fc-e6e7-ce2fb4873351"
      },
      "execution_count": 10,
      "outputs": [
        {
          "output_type": "execute_result",
          "data": {
            "text/plain": [
              "(10710, 11)"
            ]
          },
          "metadata": {},
          "execution_count": 10
        }
      ]
    },
    {
      "cell_type": "markdown",
      "source": [
        "Método para verificar quantidade de valores ausentes em cada coluna:"
      ],
      "metadata": {
        "id": "NYnGQbiALUhH"
      }
    },
    {
      "cell_type": "code",
      "source": [
        "df.info()"
      ],
      "metadata": {
        "colab": {
          "base_uri": "https://localhost:8080/"
        },
        "id": "7Qx9MqxjTuGL",
        "outputId": "e90fab46-84a5-4173-9482-6c8c6fae2de1"
      },
      "execution_count": 11,
      "outputs": [
        {
          "output_type": "stream",
          "name": "stdout",
          "text": [
            "<class 'pandas.core.frame.DataFrame'>\n",
            "Int64Index: 10710 entries, 3 to 13267\n",
            "Data columns (total 11 columns):\n",
            " #   Column             Non-Null Count  Dtype  \n",
            "---  ------             --------------  -----  \n",
            " 0   empresa            10710 non-null  object \n",
            " 1   ano                10710 non-null  int64  \n",
            " 2   mês                10710 non-null  int64  \n",
            " 3   origem             10710 non-null  object \n",
            " 4   aeroporto_origem   10710 non-null  object \n",
            " 5   destion            10710 non-null  object \n",
            " 6   aeroporto_destino  10710 non-null  object \n",
            " 7   tipo_voo           10710 non-null  object \n",
            " 8   passageiros_pagos  10710 non-null  float64\n",
            " 9   carga_paga_kg      10710 non-null  float64\n",
            " 10  decolagens         10467 non-null  float64\n",
            "dtypes: float64(3), int64(2), object(6)\n",
            "memory usage: 1004.1+ KB\n"
          ]
        }
      ]
    },
    {
      "cell_type": "markdown",
      "source": [
        "Podemos confirmar que o dataset agora tem um total de 10710 registros, contudo a coluna `decolagens`é a única que possui valores ausentes.\n",
        "\n",
        "* O que há nesses registros em que existem valores ausentes?\n",
        "\n",
        "Vamos filtrar e visualizar essas linhas para ter uma ideia melhor do que pode ser."
      ],
      "metadata": {
        "id": "RhsSQGBiEtYp"
      }
    },
    {
      "cell_type": "code",
      "source": [
        "df[df.decolagens.isnull()]"
      ],
      "metadata": {
        "colab": {
          "base_uri": "https://localhost:8080/",
          "height": 424
        },
        "id": "Bmts26sXOjKK",
        "outputId": "8a5f6b04-ed55-451b-b08a-176874528bb0"
      },
      "execution_count": 12,
      "outputs": [
        {
          "output_type": "execute_result",
          "data": {
            "text/plain": [
              "      empresa   ano  mês origem aeroporto_origem destion aeroporto_destino  \\\n",
              "92          A  2021    1    BEL            BELÉM     GYN           GOIÂNIA   \n",
              "100         A  2021    1    BEL            BELÉM     POA      PORTO ALEGRE   \n",
              "103         A  2021    1    BEL            BELÉM     PVH       PORTO VELHO   \n",
              "172         A  2021    1    CNF          CONFINS     PMW            PALMAS   \n",
              "177         A  2021    1    CNF          CONFINS     SDU    RIO DE JANEIRO   \n",
              "...       ...   ...  ...    ...              ...     ...               ...   \n",
              "13043       C  2021   10    FOR        FORTALEZA     MCP            MACAPÁ   \n",
              "13044       C  2021   10    FOR        FORTALEZA     PVH       PORTO VELHO   \n",
              "13151       C  2021   10    MCP           MACAPÁ     FOR         FORTALEZA   \n",
              "13168       C  2021   10    PVH      PORTO VELHO     FOR         FORTALEZA   \n",
              "13231       C  2021   10    CGH        SÃO PAULO     UNA               UNA   \n",
              "\n",
              "        tipo_voo  passageiros_pagos  carga_paga_kg  decolagens  \n",
              "92     DOMÉSTICA               20.0            0.0         NaN  \n",
              "100    DOMÉSTICA              125.0            0.0         NaN  \n",
              "103    DOMÉSTICA              449.0            0.0         NaN  \n",
              "172    DOMÉSTICA              287.0            0.0         NaN  \n",
              "177    DOMÉSTICA              225.0            0.0         NaN  \n",
              "...          ...                ...            ...         ...  \n",
              "13043  DOMÉSTICA               18.0          142.0         NaN  \n",
              "13044  DOMÉSTICA               18.0          103.0         NaN  \n",
              "13151  DOMÉSTICA               14.0            0.0         NaN  \n",
              "13168  DOMÉSTICA               27.0            0.0         NaN  \n",
              "13231  DOMÉSTICA              121.0            0.0         NaN  \n",
              "\n",
              "[243 rows x 11 columns]"
            ],
            "text/html": [
              "\n",
              "  <div id=\"df-f46ee1c7-eb05-45a4-8777-2a602a7a1970\">\n",
              "    <div class=\"colab-df-container\">\n",
              "      <div>\n",
              "<style scoped>\n",
              "    .dataframe tbody tr th:only-of-type {\n",
              "        vertical-align: middle;\n",
              "    }\n",
              "\n",
              "    .dataframe tbody tr th {\n",
              "        vertical-align: top;\n",
              "    }\n",
              "\n",
              "    .dataframe thead th {\n",
              "        text-align: right;\n",
              "    }\n",
              "</style>\n",
              "<table border=\"1\" class=\"dataframe\">\n",
              "  <thead>\n",
              "    <tr style=\"text-align: right;\">\n",
              "      <th></th>\n",
              "      <th>empresa</th>\n",
              "      <th>ano</th>\n",
              "      <th>mês</th>\n",
              "      <th>origem</th>\n",
              "      <th>aeroporto_origem</th>\n",
              "      <th>destion</th>\n",
              "      <th>aeroporto_destino</th>\n",
              "      <th>tipo_voo</th>\n",
              "      <th>passageiros_pagos</th>\n",
              "      <th>carga_paga_kg</th>\n",
              "      <th>decolagens</th>\n",
              "    </tr>\n",
              "  </thead>\n",
              "  <tbody>\n",
              "    <tr>\n",
              "      <th>92</th>\n",
              "      <td>A</td>\n",
              "      <td>2021</td>\n",
              "      <td>1</td>\n",
              "      <td>BEL</td>\n",
              "      <td>BELÉM</td>\n",
              "      <td>GYN</td>\n",
              "      <td>GOIÂNIA</td>\n",
              "      <td>DOMÉSTICA</td>\n",
              "      <td>20.0</td>\n",
              "      <td>0.0</td>\n",
              "      <td>NaN</td>\n",
              "    </tr>\n",
              "    <tr>\n",
              "      <th>100</th>\n",
              "      <td>A</td>\n",
              "      <td>2021</td>\n",
              "      <td>1</td>\n",
              "      <td>BEL</td>\n",
              "      <td>BELÉM</td>\n",
              "      <td>POA</td>\n",
              "      <td>PORTO ALEGRE</td>\n",
              "      <td>DOMÉSTICA</td>\n",
              "      <td>125.0</td>\n",
              "      <td>0.0</td>\n",
              "      <td>NaN</td>\n",
              "    </tr>\n",
              "    <tr>\n",
              "      <th>103</th>\n",
              "      <td>A</td>\n",
              "      <td>2021</td>\n",
              "      <td>1</td>\n",
              "      <td>BEL</td>\n",
              "      <td>BELÉM</td>\n",
              "      <td>PVH</td>\n",
              "      <td>PORTO VELHO</td>\n",
              "      <td>DOMÉSTICA</td>\n",
              "      <td>449.0</td>\n",
              "      <td>0.0</td>\n",
              "      <td>NaN</td>\n",
              "    </tr>\n",
              "    <tr>\n",
              "      <th>172</th>\n",
              "      <td>A</td>\n",
              "      <td>2021</td>\n",
              "      <td>1</td>\n",
              "      <td>CNF</td>\n",
              "      <td>CONFINS</td>\n",
              "      <td>PMW</td>\n",
              "      <td>PALMAS</td>\n",
              "      <td>DOMÉSTICA</td>\n",
              "      <td>287.0</td>\n",
              "      <td>0.0</td>\n",
              "      <td>NaN</td>\n",
              "    </tr>\n",
              "    <tr>\n",
              "      <th>177</th>\n",
              "      <td>A</td>\n",
              "      <td>2021</td>\n",
              "      <td>1</td>\n",
              "      <td>CNF</td>\n",
              "      <td>CONFINS</td>\n",
              "      <td>SDU</td>\n",
              "      <td>RIO DE JANEIRO</td>\n",
              "      <td>DOMÉSTICA</td>\n",
              "      <td>225.0</td>\n",
              "      <td>0.0</td>\n",
              "      <td>NaN</td>\n",
              "    </tr>\n",
              "    <tr>\n",
              "      <th>...</th>\n",
              "      <td>...</td>\n",
              "      <td>...</td>\n",
              "      <td>...</td>\n",
              "      <td>...</td>\n",
              "      <td>...</td>\n",
              "      <td>...</td>\n",
              "      <td>...</td>\n",
              "      <td>...</td>\n",
              "      <td>...</td>\n",
              "      <td>...</td>\n",
              "      <td>...</td>\n",
              "    </tr>\n",
              "    <tr>\n",
              "      <th>13043</th>\n",
              "      <td>C</td>\n",
              "      <td>2021</td>\n",
              "      <td>10</td>\n",
              "      <td>FOR</td>\n",
              "      <td>FORTALEZA</td>\n",
              "      <td>MCP</td>\n",
              "      <td>MACAPÁ</td>\n",
              "      <td>DOMÉSTICA</td>\n",
              "      <td>18.0</td>\n",
              "      <td>142.0</td>\n",
              "      <td>NaN</td>\n",
              "    </tr>\n",
              "    <tr>\n",
              "      <th>13044</th>\n",
              "      <td>C</td>\n",
              "      <td>2021</td>\n",
              "      <td>10</td>\n",
              "      <td>FOR</td>\n",
              "      <td>FORTALEZA</td>\n",
              "      <td>PVH</td>\n",
              "      <td>PORTO VELHO</td>\n",
              "      <td>DOMÉSTICA</td>\n",
              "      <td>18.0</td>\n",
              "      <td>103.0</td>\n",
              "      <td>NaN</td>\n",
              "    </tr>\n",
              "    <tr>\n",
              "      <th>13151</th>\n",
              "      <td>C</td>\n",
              "      <td>2021</td>\n",
              "      <td>10</td>\n",
              "      <td>MCP</td>\n",
              "      <td>MACAPÁ</td>\n",
              "      <td>FOR</td>\n",
              "      <td>FORTALEZA</td>\n",
              "      <td>DOMÉSTICA</td>\n",
              "      <td>14.0</td>\n",
              "      <td>0.0</td>\n",
              "      <td>NaN</td>\n",
              "    </tr>\n",
              "    <tr>\n",
              "      <th>13168</th>\n",
              "      <td>C</td>\n",
              "      <td>2021</td>\n",
              "      <td>10</td>\n",
              "      <td>PVH</td>\n",
              "      <td>PORTO VELHO</td>\n",
              "      <td>FOR</td>\n",
              "      <td>FORTALEZA</td>\n",
              "      <td>DOMÉSTICA</td>\n",
              "      <td>27.0</td>\n",
              "      <td>0.0</td>\n",
              "      <td>NaN</td>\n",
              "    </tr>\n",
              "    <tr>\n",
              "      <th>13231</th>\n",
              "      <td>C</td>\n",
              "      <td>2021</td>\n",
              "      <td>10</td>\n",
              "      <td>CGH</td>\n",
              "      <td>SÃO PAULO</td>\n",
              "      <td>UNA</td>\n",
              "      <td>UNA</td>\n",
              "      <td>DOMÉSTICA</td>\n",
              "      <td>121.0</td>\n",
              "      <td>0.0</td>\n",
              "      <td>NaN</td>\n",
              "    </tr>\n",
              "  </tbody>\n",
              "</table>\n",
              "<p>243 rows × 11 columns</p>\n",
              "</div>\n",
              "      <button class=\"colab-df-convert\" onclick=\"convertToInteractive('df-f46ee1c7-eb05-45a4-8777-2a602a7a1970')\"\n",
              "              title=\"Convert this dataframe to an interactive table.\"\n",
              "              style=\"display:none;\">\n",
              "        \n",
              "  <svg xmlns=\"http://www.w3.org/2000/svg\" height=\"24px\"viewBox=\"0 0 24 24\"\n",
              "       width=\"24px\">\n",
              "    <path d=\"M0 0h24v24H0V0z\" fill=\"none\"/>\n",
              "    <path d=\"M18.56 5.44l.94 2.06.94-2.06 2.06-.94-2.06-.94-.94-2.06-.94 2.06-2.06.94zm-11 1L8.5 8.5l.94-2.06 2.06-.94-2.06-.94L8.5 2.5l-.94 2.06-2.06.94zm10 10l.94 2.06.94-2.06 2.06-.94-2.06-.94-.94-2.06-.94 2.06-2.06.94z\"/><path d=\"M17.41 7.96l-1.37-1.37c-.4-.4-.92-.59-1.43-.59-.52 0-1.04.2-1.43.59L10.3 9.45l-7.72 7.72c-.78.78-.78 2.05 0 2.83L4 21.41c.39.39.9.59 1.41.59.51 0 1.02-.2 1.41-.59l7.78-7.78 2.81-2.81c.8-.78.8-2.07 0-2.86zM5.41 20L4 18.59l7.72-7.72 1.47 1.35L5.41 20z\"/>\n",
              "  </svg>\n",
              "      </button>\n",
              "      \n",
              "  <style>\n",
              "    .colab-df-container {\n",
              "      display:flex;\n",
              "      flex-wrap:wrap;\n",
              "      gap: 12px;\n",
              "    }\n",
              "\n",
              "    .colab-df-convert {\n",
              "      background-color: #E8F0FE;\n",
              "      border: none;\n",
              "      border-radius: 50%;\n",
              "      cursor: pointer;\n",
              "      display: none;\n",
              "      fill: #1967D2;\n",
              "      height: 32px;\n",
              "      padding: 0 0 0 0;\n",
              "      width: 32px;\n",
              "    }\n",
              "\n",
              "    .colab-df-convert:hover {\n",
              "      background-color: #E2EBFA;\n",
              "      box-shadow: 0px 1px 2px rgba(60, 64, 67, 0.3), 0px 1px 3px 1px rgba(60, 64, 67, 0.15);\n",
              "      fill: #174EA6;\n",
              "    }\n",
              "\n",
              "    [theme=dark] .colab-df-convert {\n",
              "      background-color: #3B4455;\n",
              "      fill: #D2E3FC;\n",
              "    }\n",
              "\n",
              "    [theme=dark] .colab-df-convert:hover {\n",
              "      background-color: #434B5C;\n",
              "      box-shadow: 0px 1px 3px 1px rgba(0, 0, 0, 0.15);\n",
              "      filter: drop-shadow(0px 1px 2px rgba(0, 0, 0, 0.3));\n",
              "      fill: #FFFFFF;\n",
              "    }\n",
              "  </style>\n",
              "\n",
              "      <script>\n",
              "        const buttonEl =\n",
              "          document.querySelector('#df-f46ee1c7-eb05-45a4-8777-2a602a7a1970 button.colab-df-convert');\n",
              "        buttonEl.style.display =\n",
              "          google.colab.kernel.accessAllowed ? 'block' : 'none';\n",
              "\n",
              "        async function convertToInteractive(key) {\n",
              "          const element = document.querySelector('#df-f46ee1c7-eb05-45a4-8777-2a602a7a1970');\n",
              "          const dataTable =\n",
              "            await google.colab.kernel.invokeFunction('convertToInteractive',\n",
              "                                                     [key], {});\n",
              "          if (!dataTable) return;\n",
              "\n",
              "          const docLinkHtml = 'Like what you see? Visit the ' +\n",
              "            '<a target=\"_blank\" href=https://colab.research.google.com/notebooks/data_table.ipynb>data table notebook</a>'\n",
              "            + ' to learn more about interactive tables.';\n",
              "          element.innerHTML = '';\n",
              "          dataTable['output_type'] = 'display_data';\n",
              "          await google.colab.output.renderOutput(dataTable, element);\n",
              "          const docLink = document.createElement('div');\n",
              "          docLink.innerHTML = docLinkHtml;\n",
              "          element.appendChild(docLink);\n",
              "        }\n",
              "      </script>\n",
              "    </div>\n",
              "  </div>\n",
              "  "
            ]
          },
          "metadata": {},
          "execution_count": 12
        }
      ]
    },
    {
      "cell_type": "markdown",
      "source": [
        "A principio, não foi possível estabelecer uma correlação de causa para valores ausentes entre as colunas `passageiros_pagos`, `carga_paga_kg` e `decolagens`.\n",
        "\n",
        "Sendo assim, vamos avaliar de forma quantitativa baseado em percentual de registros com valores ausentes, para cada uma das três colunas citadas acima, em relação ao total de linhas do dataset."
      ],
      "metadata": {
        "id": "uERclhxcbD1b"
      }
    },
    {
      "cell_type": "code",
      "source": [
        "# pax_null = round((1 - (df.passageiros_pagos.count() / df.shape[0])) * 100, 2)\n",
        "# carga_null = round((1 - (df.carga_paga_kg.count() / df.shape[0])) * 100, 2)\n",
        "\n",
        "decolagens_null = round(df[df.decolagens.isnull()].shape[0] / df.shape[0] * 100, 2)\n",
        "\n",
        "# print('Coluna passageiros_pagos: ' + str(pax_null) + '% de valores ausentes')\n",
        "# print('Coluna carga_paga_kg: ' + str(carga_null) + '% de valores ausentes')\n",
        "\n",
        "print('Coluna decolagens: ' + str(decolagens_null) + '% de valores ausentes')"
      ],
      "metadata": {
        "colab": {
          "base_uri": "https://localhost:8080/"
        },
        "id": "EGt_134zLZad",
        "outputId": "b81b23b8-8130-43b8-f3b8-3ad9fda5e229"
      },
      "execution_count": 13,
      "outputs": [
        {
          "output_type": "stream",
          "name": "stdout",
          "text": [
            "Coluna decolagens: 2.27% de valores ausentes\n"
          ]
        }
      ]
    },
    {
      "cell_type": "markdown",
      "source": [
        "Método para descartar os registros que contém valores ausentes:"
      ],
      "metadata": {
        "id": "YBq4LNqBcDrg"
      }
    },
    {
      "cell_type": "code",
      "source": [
        "df = df.dropna()"
      ],
      "metadata": {
        "id": "Oy1COtVCdu9I"
      },
      "execution_count": 14,
      "outputs": []
    },
    {
      "cell_type": "code",
      "source": [
        "df"
      ],
      "metadata": {
        "colab": {
          "base_uri": "https://localhost:8080/",
          "height": 424
        },
        "id": "IOWtWQ34r7kD",
        "outputId": "821ea006-4a7e-42a6-ebb0-d3d8c4d4b26d"
      },
      "execution_count": 15,
      "outputs": [
        {
          "output_type": "execute_result",
          "data": {
            "text/plain": [
              "      empresa   ano  mês origem aeroporto_origem destion aeroporto_destino  \\\n",
              "3           A  2021   10    BEL            BELÉM     MEU          ALMEIRIM   \n",
              "4           A  2021   10    BEL            BELÉM     BVS            BREVES   \n",
              "6           A  2021   10    BPG  BARRA DO GARÇAS     CGB     VÁRZEA GRANDE   \n",
              "7           A  2021   10    BPG  BARRA DO GARÇAS     GYN           GOIÂNIA   \n",
              "11          A  2021   10    CNF          CONFINS     QDV           JUNDIAÍ   \n",
              "...       ...   ...  ...    ...              ...     ...               ...   \n",
              "13262       C  2021   10    VIX          VITÓRIA     BSB          BRASÍLIA   \n",
              "13264       C  2021   10    VIX          VITÓRIA     GRU         GUARULHOS   \n",
              "13265       C  2021   10    VIX          VITÓRIA     GRU         GUARULHOS   \n",
              "13266       C  2021   10    VIX          VITÓRIA     SDU    RIO DE JANEIRO   \n",
              "13267       C  2021   10    VIX          VITÓRIA     CGH         SÃO PAULO   \n",
              "\n",
              "        tipo_voo  passageiros_pagos  carga_paga_kg  decolagens  \n",
              "3      DOMÉSTICA              128.0         2237.0        23.0  \n",
              "4      DOMÉSTICA              171.0         2218.0        33.0  \n",
              "6      DOMÉSTICA              119.0         1573.0        21.0  \n",
              "7      DOMÉSTICA               16.0          115.0         3.0  \n",
              "11     DOMÉSTICA                0.0         1376.0        14.0  \n",
              "...          ...                ...            ...         ...  \n",
              "13262  DOMÉSTICA             5882.0        47320.0        41.0  \n",
              "13264  DOMÉSTICA               96.0            0.0         1.0  \n",
              "13265  DOMÉSTICA            17351.0       159666.0       122.0  \n",
              "13266  DOMÉSTICA             8479.0        31409.0        74.0  \n",
              "13267  DOMÉSTICA            11843.0        47013.0        85.0  \n",
              "\n",
              "[10467 rows x 11 columns]"
            ],
            "text/html": [
              "\n",
              "  <div id=\"df-01378773-abc1-4a3f-b9df-f79895a44e85\">\n",
              "    <div class=\"colab-df-container\">\n",
              "      <div>\n",
              "<style scoped>\n",
              "    .dataframe tbody tr th:only-of-type {\n",
              "        vertical-align: middle;\n",
              "    }\n",
              "\n",
              "    .dataframe tbody tr th {\n",
              "        vertical-align: top;\n",
              "    }\n",
              "\n",
              "    .dataframe thead th {\n",
              "        text-align: right;\n",
              "    }\n",
              "</style>\n",
              "<table border=\"1\" class=\"dataframe\">\n",
              "  <thead>\n",
              "    <tr style=\"text-align: right;\">\n",
              "      <th></th>\n",
              "      <th>empresa</th>\n",
              "      <th>ano</th>\n",
              "      <th>mês</th>\n",
              "      <th>origem</th>\n",
              "      <th>aeroporto_origem</th>\n",
              "      <th>destion</th>\n",
              "      <th>aeroporto_destino</th>\n",
              "      <th>tipo_voo</th>\n",
              "      <th>passageiros_pagos</th>\n",
              "      <th>carga_paga_kg</th>\n",
              "      <th>decolagens</th>\n",
              "    </tr>\n",
              "  </thead>\n",
              "  <tbody>\n",
              "    <tr>\n",
              "      <th>3</th>\n",
              "      <td>A</td>\n",
              "      <td>2021</td>\n",
              "      <td>10</td>\n",
              "      <td>BEL</td>\n",
              "      <td>BELÉM</td>\n",
              "      <td>MEU</td>\n",
              "      <td>ALMEIRIM</td>\n",
              "      <td>DOMÉSTICA</td>\n",
              "      <td>128.0</td>\n",
              "      <td>2237.0</td>\n",
              "      <td>23.0</td>\n",
              "    </tr>\n",
              "    <tr>\n",
              "      <th>4</th>\n",
              "      <td>A</td>\n",
              "      <td>2021</td>\n",
              "      <td>10</td>\n",
              "      <td>BEL</td>\n",
              "      <td>BELÉM</td>\n",
              "      <td>BVS</td>\n",
              "      <td>BREVES</td>\n",
              "      <td>DOMÉSTICA</td>\n",
              "      <td>171.0</td>\n",
              "      <td>2218.0</td>\n",
              "      <td>33.0</td>\n",
              "    </tr>\n",
              "    <tr>\n",
              "      <th>6</th>\n",
              "      <td>A</td>\n",
              "      <td>2021</td>\n",
              "      <td>10</td>\n",
              "      <td>BPG</td>\n",
              "      <td>BARRA DO GARÇAS</td>\n",
              "      <td>CGB</td>\n",
              "      <td>VÁRZEA GRANDE</td>\n",
              "      <td>DOMÉSTICA</td>\n",
              "      <td>119.0</td>\n",
              "      <td>1573.0</td>\n",
              "      <td>21.0</td>\n",
              "    </tr>\n",
              "    <tr>\n",
              "      <th>7</th>\n",
              "      <td>A</td>\n",
              "      <td>2021</td>\n",
              "      <td>10</td>\n",
              "      <td>BPG</td>\n",
              "      <td>BARRA DO GARÇAS</td>\n",
              "      <td>GYN</td>\n",
              "      <td>GOIÂNIA</td>\n",
              "      <td>DOMÉSTICA</td>\n",
              "      <td>16.0</td>\n",
              "      <td>115.0</td>\n",
              "      <td>3.0</td>\n",
              "    </tr>\n",
              "    <tr>\n",
              "      <th>11</th>\n",
              "      <td>A</td>\n",
              "      <td>2021</td>\n",
              "      <td>10</td>\n",
              "      <td>CNF</td>\n",
              "      <td>CONFINS</td>\n",
              "      <td>QDV</td>\n",
              "      <td>JUNDIAÍ</td>\n",
              "      <td>DOMÉSTICA</td>\n",
              "      <td>0.0</td>\n",
              "      <td>1376.0</td>\n",
              "      <td>14.0</td>\n",
              "    </tr>\n",
              "    <tr>\n",
              "      <th>...</th>\n",
              "      <td>...</td>\n",
              "      <td>...</td>\n",
              "      <td>...</td>\n",
              "      <td>...</td>\n",
              "      <td>...</td>\n",
              "      <td>...</td>\n",
              "      <td>...</td>\n",
              "      <td>...</td>\n",
              "      <td>...</td>\n",
              "      <td>...</td>\n",
              "      <td>...</td>\n",
              "    </tr>\n",
              "    <tr>\n",
              "      <th>13262</th>\n",
              "      <td>C</td>\n",
              "      <td>2021</td>\n",
              "      <td>10</td>\n",
              "      <td>VIX</td>\n",
              "      <td>VITÓRIA</td>\n",
              "      <td>BSB</td>\n",
              "      <td>BRASÍLIA</td>\n",
              "      <td>DOMÉSTICA</td>\n",
              "      <td>5882.0</td>\n",
              "      <td>47320.0</td>\n",
              "      <td>41.0</td>\n",
              "    </tr>\n",
              "    <tr>\n",
              "      <th>13264</th>\n",
              "      <td>C</td>\n",
              "      <td>2021</td>\n",
              "      <td>10</td>\n",
              "      <td>VIX</td>\n",
              "      <td>VITÓRIA</td>\n",
              "      <td>GRU</td>\n",
              "      <td>GUARULHOS</td>\n",
              "      <td>DOMÉSTICA</td>\n",
              "      <td>96.0</td>\n",
              "      <td>0.0</td>\n",
              "      <td>1.0</td>\n",
              "    </tr>\n",
              "    <tr>\n",
              "      <th>13265</th>\n",
              "      <td>C</td>\n",
              "      <td>2021</td>\n",
              "      <td>10</td>\n",
              "      <td>VIX</td>\n",
              "      <td>VITÓRIA</td>\n",
              "      <td>GRU</td>\n",
              "      <td>GUARULHOS</td>\n",
              "      <td>DOMÉSTICA</td>\n",
              "      <td>17351.0</td>\n",
              "      <td>159666.0</td>\n",
              "      <td>122.0</td>\n",
              "    </tr>\n",
              "    <tr>\n",
              "      <th>13266</th>\n",
              "      <td>C</td>\n",
              "      <td>2021</td>\n",
              "      <td>10</td>\n",
              "      <td>VIX</td>\n",
              "      <td>VITÓRIA</td>\n",
              "      <td>SDU</td>\n",
              "      <td>RIO DE JANEIRO</td>\n",
              "      <td>DOMÉSTICA</td>\n",
              "      <td>8479.0</td>\n",
              "      <td>31409.0</td>\n",
              "      <td>74.0</td>\n",
              "    </tr>\n",
              "    <tr>\n",
              "      <th>13267</th>\n",
              "      <td>C</td>\n",
              "      <td>2021</td>\n",
              "      <td>10</td>\n",
              "      <td>VIX</td>\n",
              "      <td>VITÓRIA</td>\n",
              "      <td>CGH</td>\n",
              "      <td>SÃO PAULO</td>\n",
              "      <td>DOMÉSTICA</td>\n",
              "      <td>11843.0</td>\n",
              "      <td>47013.0</td>\n",
              "      <td>85.0</td>\n",
              "    </tr>\n",
              "  </tbody>\n",
              "</table>\n",
              "<p>10467 rows × 11 columns</p>\n",
              "</div>\n",
              "      <button class=\"colab-df-convert\" onclick=\"convertToInteractive('df-01378773-abc1-4a3f-b9df-f79895a44e85')\"\n",
              "              title=\"Convert this dataframe to an interactive table.\"\n",
              "              style=\"display:none;\">\n",
              "        \n",
              "  <svg xmlns=\"http://www.w3.org/2000/svg\" height=\"24px\"viewBox=\"0 0 24 24\"\n",
              "       width=\"24px\">\n",
              "    <path d=\"M0 0h24v24H0V0z\" fill=\"none\"/>\n",
              "    <path d=\"M18.56 5.44l.94 2.06.94-2.06 2.06-.94-2.06-.94-.94-2.06-.94 2.06-2.06.94zm-11 1L8.5 8.5l.94-2.06 2.06-.94-2.06-.94L8.5 2.5l-.94 2.06-2.06.94zm10 10l.94 2.06.94-2.06 2.06-.94-2.06-.94-.94-2.06-.94 2.06-2.06.94z\"/><path d=\"M17.41 7.96l-1.37-1.37c-.4-.4-.92-.59-1.43-.59-.52 0-1.04.2-1.43.59L10.3 9.45l-7.72 7.72c-.78.78-.78 2.05 0 2.83L4 21.41c.39.39.9.59 1.41.59.51 0 1.02-.2 1.41-.59l7.78-7.78 2.81-2.81c.8-.78.8-2.07 0-2.86zM5.41 20L4 18.59l7.72-7.72 1.47 1.35L5.41 20z\"/>\n",
              "  </svg>\n",
              "      </button>\n",
              "      \n",
              "  <style>\n",
              "    .colab-df-container {\n",
              "      display:flex;\n",
              "      flex-wrap:wrap;\n",
              "      gap: 12px;\n",
              "    }\n",
              "\n",
              "    .colab-df-convert {\n",
              "      background-color: #E8F0FE;\n",
              "      border: none;\n",
              "      border-radius: 50%;\n",
              "      cursor: pointer;\n",
              "      display: none;\n",
              "      fill: #1967D2;\n",
              "      height: 32px;\n",
              "      padding: 0 0 0 0;\n",
              "      width: 32px;\n",
              "    }\n",
              "\n",
              "    .colab-df-convert:hover {\n",
              "      background-color: #E2EBFA;\n",
              "      box-shadow: 0px 1px 2px rgba(60, 64, 67, 0.3), 0px 1px 3px 1px rgba(60, 64, 67, 0.15);\n",
              "      fill: #174EA6;\n",
              "    }\n",
              "\n",
              "    [theme=dark] .colab-df-convert {\n",
              "      background-color: #3B4455;\n",
              "      fill: #D2E3FC;\n",
              "    }\n",
              "\n",
              "    [theme=dark] .colab-df-convert:hover {\n",
              "      background-color: #434B5C;\n",
              "      box-shadow: 0px 1px 3px 1px rgba(0, 0, 0, 0.15);\n",
              "      filter: drop-shadow(0px 1px 2px rgba(0, 0, 0, 0.3));\n",
              "      fill: #FFFFFF;\n",
              "    }\n",
              "  </style>\n",
              "\n",
              "      <script>\n",
              "        const buttonEl =\n",
              "          document.querySelector('#df-01378773-abc1-4a3f-b9df-f79895a44e85 button.colab-df-convert');\n",
              "        buttonEl.style.display =\n",
              "          google.colab.kernel.accessAllowed ? 'block' : 'none';\n",
              "\n",
              "        async function convertToInteractive(key) {\n",
              "          const element = document.querySelector('#df-01378773-abc1-4a3f-b9df-f79895a44e85');\n",
              "          const dataTable =\n",
              "            await google.colab.kernel.invokeFunction('convertToInteractive',\n",
              "                                                     [key], {});\n",
              "          if (!dataTable) return;\n",
              "\n",
              "          const docLinkHtml = 'Like what you see? Visit the ' +\n",
              "            '<a target=\"_blank\" href=https://colab.research.google.com/notebooks/data_table.ipynb>data table notebook</a>'\n",
              "            + ' to learn more about interactive tables.';\n",
              "          element.innerHTML = '';\n",
              "          dataTable['output_type'] = 'display_data';\n",
              "          await google.colab.output.renderOutput(dataTable, element);\n",
              "          const docLink = document.createElement('div');\n",
              "          docLink.innerHTML = docLinkHtml;\n",
              "          element.appendChild(docLink);\n",
              "        }\n",
              "      </script>\n",
              "    </div>\n",
              "  </div>\n",
              "  "
            ]
          },
          "metadata": {},
          "execution_count": 15
        }
      ]
    },
    {
      "cell_type": "markdown",
      "source": [
        "## Diferença de valores acumulados entre os datasets com e sem valores ausentes"
      ],
      "metadata": {
        "id": "sQDbojCudxOr"
      }
    },
    {
      "cell_type": "markdown",
      "source": [
        "As tabelas abaixo, apresentam as somas de valores de cada empresa para o periodo de janeiro à outubro de 2021."
      ],
      "metadata": {
        "id": "ZXiUJw4zkopY"
      }
    },
    {
      "cell_type": "code",
      "source": [
        "# table_a = df[['empresa', 'passageiros_pagos', 'carga_paga_kg', 'decolagens']]\\\n",
        "#             .groupby(by=['empresa'])\\\n",
        "#             .sum()\\\n",
        "#             .sort_values(by=['empresa'], ascending=True)\\\n",
        "#             .reset_index()"
      ],
      "metadata": {
        "id": "sJbfhv53Ti1s"
      },
      "execution_count": 16,
      "outputs": []
    },
    {
      "cell_type": "code",
      "source": [
        "# table_b = df1[['empresa', 'passageiros_pagos', 'carga_paga_kg', 'decolagens']]\\\n",
        "#             .groupby(by=['empresa'])\\\n",
        "#             .sum()\\\n",
        "#             .sort_values(by=['empresa'], ascending=True)\\\n",
        "#             .reset_index()"
      ],
      "metadata": {
        "id": "Ppt7x8eYd4Dp"
      },
      "execution_count": 17,
      "outputs": []
    },
    {
      "cell_type": "code",
      "source": [
        "# table_a # <-- com base no dataset que contem valores ausentes."
      ],
      "metadata": {
        "id": "TghD99prevk7"
      },
      "execution_count": 18,
      "outputs": []
    },
    {
      "cell_type": "code",
      "source": [
        "# table_b # <-- com base no dataset que não contem valores ausentes."
      ],
      "metadata": {
        "id": "4sKMKHNqe2d_"
      },
      "execution_count": 19,
      "outputs": []
    },
    {
      "cell_type": "markdown",
      "source": [
        "Validação por diferença percentual na soma total de `carga_paga_kg` para cada empresa."
      ],
      "metadata": {
        "id": "I2rp4n6Y7_dv"
      }
    },
    {
      "cell_type": "code",
      "source": [
        "# diff_empresa_a = round(((table_a.carga_paga_kg[0] - table_b.carga_paga_kg[0]) / table_a.carga_paga_kg[0]) * 100, 1)\n",
        "# diff_empresa_b = round(((table_a.carga_paga_kg[1] - table_b.carga_paga_kg[1]) / table_a.carga_paga_kg[1]) * 100, 1)\n",
        "# diff_empresa_c = round(((table_a.carga_paga_kg[2] - table_b.carga_paga_kg[2]) / table_a.carga_paga_kg[2]) * 100, 1)\n",
        "\n",
        "# print('Empresa A: ' + str(diff_empresa_a) + '% de perda de representatividade')\n",
        "# print('Empresa B: ' + str(diff_empresa_b) + '% de perda de representatividade')\n",
        "# print('Empresa C: ' + str(diff_empresa_c) + '% de perda de representatividade')"
      ],
      "metadata": {
        "id": "QBewrK5gejbt"
      },
      "execution_count": 20,
      "outputs": []
    },
    {
      "cell_type": "markdown",
      "source": [
        "Os valores acima mostram que após eliminar as linhas que continham valores nulos, não houve perda significativa na representatividade dos dados de `carga_paga_kg`. "
      ],
      "metadata": {
        "id": "foSA9jYM-DJ5"
      }
    },
    {
      "cell_type": "markdown",
      "source": [
        "# Análise - Parte 1"
      ],
      "metadata": {
        "id": "1vq575R1_SKh"
      }
    },
    {
      "cell_type": "markdown",
      "source": [
        "1. Qual é o market share carga paga acumulado período em cada empresa?"
      ],
      "metadata": {
        "id": "HO6SyqZe_F1G"
      }
    },
    {
      "cell_type": "markdown",
      "source": [
        "Antes de prosseguir, vamos enriquecer os dados adicionando novas colunas para análise.\n",
        "\n",
        "Coluna `rota`:\n",
        "* Voo de GRU a MAO: rota GRUMAO\n",
        "* Voo de MAO a GRU: rota MAOGRU\n",
        "\n",
        "Coluna `carga_por_decolagem`:\n",
        "$$\n",
        "carga\\_por\\_decolagem = \\frac{carga\\_paga\\_kg}{decolagens}\n",
        "$$\n",
        "\n",
        "Coluna `pax_por_decolagem`:\n",
        "$$\n",
        "pax\\_por\\_decolagem = \\frac{passageiros\\_pagos}{decolagens}\n",
        "$$\n",
        "\n"
      ],
      "metadata": {
        "id": "SPVl3mZtXSkw"
      }
    },
    {
      "cell_type": "code",
      "source": [
        "# Adiciona a coluna \"rota\"\n",
        "df['rota'] = df.origem + df.destion"
      ],
      "metadata": {
        "id": "SGWkRhpl8BqS"
      },
      "execution_count": 21,
      "outputs": []
    },
    {
      "cell_type": "code",
      "source": [
        "# Adiciona a coluna \"carga_por_decolagem\"\n",
        "df['carga_por_decolagem'] = df.carga_paga_kg / df.decolagens"
      ],
      "metadata": {
        "id": "H0MbFwp_bzyw"
      },
      "execution_count": 22,
      "outputs": []
    },
    {
      "cell_type": "code",
      "source": [
        "# Adiciona a coluna \"pax_por_decolagem\"\n",
        "df['pax_por_decolagem'] = df.passageiros_pagos / df.decolagens"
      ],
      "metadata": {
        "id": "ONpc1yFHc5cD"
      },
      "execution_count": 23,
      "outputs": []
    },
    {
      "cell_type": "markdown",
      "source": [
        "## Market Share"
      ],
      "metadata": {
        "id": "mXeYf8K8m5CK"
      }
    },
    {
      "cell_type": "markdown",
      "source": [
        "A tabela a seguir, resume os dados market share acumulados no periodo."
      ],
      "metadata": {
        "id": "YliyPUtpX5e2"
      }
    },
    {
      "cell_type": "code",
      "source": [
        "market_share = df[['empresa', 'passageiros_pagos', 'carga_paga_kg', 'decolagens']]\\\n",
        "                .groupby(by=['empresa'])\\\n",
        "                .sum()\\\n",
        "                .sort_values(by=['empresa'], ascending=True)\\\n",
        "\n",
        "market_share['percentual_pax'] = market_share.passageiros_pagos / market_share.passageiros_pagos.sum() * 100\n",
        "market_share['percentual_carga'] = market_share.carga_paga_kg / market_share.carga_paga_kg.sum() * 100\n",
        "market_share['percentual_decolagens'] = market_share.decolagens / market_share.decolagens.sum() * 100\n",
        "market_share"
      ],
      "metadata": {
        "colab": {
          "base_uri": "https://localhost:8080/",
          "height": 175
        },
        "id": "6hJQtLJcQoiL",
        "outputId": "e58c9e38-efb2-43af-9dfd-fb92005c72ce"
      },
      "execution_count": 24,
      "outputs": [
        {
          "output_type": "execute_result",
          "data": {
            "text/plain": [
              "         passageiros_pagos  carga_paga_kg  decolagens  percentual_pax  \\\n",
              "empresa                                                                 \n",
              "A               17957627.0    113763076.0    186827.0       38.105851   \n",
              "B               14297679.0     31035704.0    101555.0       30.339489   \n",
              "C               14870336.0    105562737.0    108658.0       31.554660   \n",
              "\n",
              "         percentual_carga  percentual_decolagens  \n",
              "empresa                                           \n",
              "A               45.439522              47.054957  \n",
              "B               12.396356              25.578027  \n",
              "C               42.164123              27.367016  "
            ],
            "text/html": [
              "\n",
              "  <div id=\"df-351f1c98-4ae3-423d-82ce-c3d23271bf20\">\n",
              "    <div class=\"colab-df-container\">\n",
              "      <div>\n",
              "<style scoped>\n",
              "    .dataframe tbody tr th:only-of-type {\n",
              "        vertical-align: middle;\n",
              "    }\n",
              "\n",
              "    .dataframe tbody tr th {\n",
              "        vertical-align: top;\n",
              "    }\n",
              "\n",
              "    .dataframe thead th {\n",
              "        text-align: right;\n",
              "    }\n",
              "</style>\n",
              "<table border=\"1\" class=\"dataframe\">\n",
              "  <thead>\n",
              "    <tr style=\"text-align: right;\">\n",
              "      <th></th>\n",
              "      <th>passageiros_pagos</th>\n",
              "      <th>carga_paga_kg</th>\n",
              "      <th>decolagens</th>\n",
              "      <th>percentual_pax</th>\n",
              "      <th>percentual_carga</th>\n",
              "      <th>percentual_decolagens</th>\n",
              "    </tr>\n",
              "    <tr>\n",
              "      <th>empresa</th>\n",
              "      <th></th>\n",
              "      <th></th>\n",
              "      <th></th>\n",
              "      <th></th>\n",
              "      <th></th>\n",
              "      <th></th>\n",
              "    </tr>\n",
              "  </thead>\n",
              "  <tbody>\n",
              "    <tr>\n",
              "      <th>A</th>\n",
              "      <td>17957627.0</td>\n",
              "      <td>113763076.0</td>\n",
              "      <td>186827.0</td>\n",
              "      <td>38.105851</td>\n",
              "      <td>45.439522</td>\n",
              "      <td>47.054957</td>\n",
              "    </tr>\n",
              "    <tr>\n",
              "      <th>B</th>\n",
              "      <td>14297679.0</td>\n",
              "      <td>31035704.0</td>\n",
              "      <td>101555.0</td>\n",
              "      <td>30.339489</td>\n",
              "      <td>12.396356</td>\n",
              "      <td>25.578027</td>\n",
              "    </tr>\n",
              "    <tr>\n",
              "      <th>C</th>\n",
              "      <td>14870336.0</td>\n",
              "      <td>105562737.0</td>\n",
              "      <td>108658.0</td>\n",
              "      <td>31.554660</td>\n",
              "      <td>42.164123</td>\n",
              "      <td>27.367016</td>\n",
              "    </tr>\n",
              "  </tbody>\n",
              "</table>\n",
              "</div>\n",
              "      <button class=\"colab-df-convert\" onclick=\"convertToInteractive('df-351f1c98-4ae3-423d-82ce-c3d23271bf20')\"\n",
              "              title=\"Convert this dataframe to an interactive table.\"\n",
              "              style=\"display:none;\">\n",
              "        \n",
              "  <svg xmlns=\"http://www.w3.org/2000/svg\" height=\"24px\"viewBox=\"0 0 24 24\"\n",
              "       width=\"24px\">\n",
              "    <path d=\"M0 0h24v24H0V0z\" fill=\"none\"/>\n",
              "    <path d=\"M18.56 5.44l.94 2.06.94-2.06 2.06-.94-2.06-.94-.94-2.06-.94 2.06-2.06.94zm-11 1L8.5 8.5l.94-2.06 2.06-.94-2.06-.94L8.5 2.5l-.94 2.06-2.06.94zm10 10l.94 2.06.94-2.06 2.06-.94-2.06-.94-.94-2.06-.94 2.06-2.06.94z\"/><path d=\"M17.41 7.96l-1.37-1.37c-.4-.4-.92-.59-1.43-.59-.52 0-1.04.2-1.43.59L10.3 9.45l-7.72 7.72c-.78.78-.78 2.05 0 2.83L4 21.41c.39.39.9.59 1.41.59.51 0 1.02-.2 1.41-.59l7.78-7.78 2.81-2.81c.8-.78.8-2.07 0-2.86zM5.41 20L4 18.59l7.72-7.72 1.47 1.35L5.41 20z\"/>\n",
              "  </svg>\n",
              "      </button>\n",
              "      \n",
              "  <style>\n",
              "    .colab-df-container {\n",
              "      display:flex;\n",
              "      flex-wrap:wrap;\n",
              "      gap: 12px;\n",
              "    }\n",
              "\n",
              "    .colab-df-convert {\n",
              "      background-color: #E8F0FE;\n",
              "      border: none;\n",
              "      border-radius: 50%;\n",
              "      cursor: pointer;\n",
              "      display: none;\n",
              "      fill: #1967D2;\n",
              "      height: 32px;\n",
              "      padding: 0 0 0 0;\n",
              "      width: 32px;\n",
              "    }\n",
              "\n",
              "    .colab-df-convert:hover {\n",
              "      background-color: #E2EBFA;\n",
              "      box-shadow: 0px 1px 2px rgba(60, 64, 67, 0.3), 0px 1px 3px 1px rgba(60, 64, 67, 0.15);\n",
              "      fill: #174EA6;\n",
              "    }\n",
              "\n",
              "    [theme=dark] .colab-df-convert {\n",
              "      background-color: #3B4455;\n",
              "      fill: #D2E3FC;\n",
              "    }\n",
              "\n",
              "    [theme=dark] .colab-df-convert:hover {\n",
              "      background-color: #434B5C;\n",
              "      box-shadow: 0px 1px 3px 1px rgba(0, 0, 0, 0.15);\n",
              "      filter: drop-shadow(0px 1px 2px rgba(0, 0, 0, 0.3));\n",
              "      fill: #FFFFFF;\n",
              "    }\n",
              "  </style>\n",
              "\n",
              "      <script>\n",
              "        const buttonEl =\n",
              "          document.querySelector('#df-351f1c98-4ae3-423d-82ce-c3d23271bf20 button.colab-df-convert');\n",
              "        buttonEl.style.display =\n",
              "          google.colab.kernel.accessAllowed ? 'block' : 'none';\n",
              "\n",
              "        async function convertToInteractive(key) {\n",
              "          const element = document.querySelector('#df-351f1c98-4ae3-423d-82ce-c3d23271bf20');\n",
              "          const dataTable =\n",
              "            await google.colab.kernel.invokeFunction('convertToInteractive',\n",
              "                                                     [key], {});\n",
              "          if (!dataTable) return;\n",
              "\n",
              "          const docLinkHtml = 'Like what you see? Visit the ' +\n",
              "            '<a target=\"_blank\" href=https://colab.research.google.com/notebooks/data_table.ipynb>data table notebook</a>'\n",
              "            + ' to learn more about interactive tables.';\n",
              "          element.innerHTML = '';\n",
              "          dataTable['output_type'] = 'display_data';\n",
              "          await google.colab.output.renderOutput(dataTable, element);\n",
              "          const docLink = document.createElement('div');\n",
              "          docLink.innerHTML = docLinkHtml;\n",
              "          element.appendChild(docLink);\n",
              "        }\n",
              "      </script>\n",
              "    </div>\n",
              "  </div>\n",
              "  "
            ]
          },
          "metadata": {},
          "execution_count": 24
        }
      ]
    },
    {
      "cell_type": "code",
      "source": [
        "market_share.plot.pie(y='percentual_carga');"
      ],
      "metadata": {
        "colab": {
          "base_uri": "https://localhost:8080/",
          "height": 248
        },
        "id": "stZgr-tmRQdI",
        "outputId": "c27f8c54-1623-4ee2-fa70-37bf08a28720"
      },
      "execution_count": 25,
      "outputs": [
        {
          "output_type": "display_data",
          "data": {
            "text/plain": [
              "<Figure size 432x288 with 1 Axes>"
            ],
            "image/png": "[encoded data removed]"
          },
          "metadata": {}
        }
      ]
    },
    {
      "cell_type": "code",
      "source": [
        "market_share.plot.pie(y='percentual_decolagens');"
      ],
      "metadata": {
        "colab": {
          "base_uri": "https://localhost:8080/",
          "height": 248
        },
        "id": "sy1O6WAJXUAW",
        "outputId": "4b6c9c1d-a8cf-4606-c47d-3ebc99663d4c"
      },
      "execution_count": 26,
      "outputs": [
        {
          "output_type": "display_data",
          "data": {
            "text/plain": [
              "<Figure size 432x288 with 1 Axes>"
            ],
            "image/png": "[encoded data removed]"
          },
          "metadata": {}
        }
      ]
    },
    {
      "cell_type": "code",
      "source": [
        "market_share.plot.pie(y='percentual_pax');"
      ],
      "metadata": {
        "colab": {
          "base_uri": "https://localhost:8080/",
          "height": 248
        },
        "id": "1U2T-bCdXVR2",
        "outputId": "db64958b-01cb-4d35-cca0-e2923312f44e"
      },
      "execution_count": 27,
      "outputs": [
        {
          "output_type": "display_data",
          "data": {
            "text/plain": [
              "<Figure size 432x288 with 1 Axes>"
            ],
            "image/png": "[encoded data removed]"
          },
          "metadata": {}
        }
      ]
    },
    {
      "cell_type": "markdown",
      "source": [
        "Com base nos dados e gráficos acime, podemos verificar que a empresa **B** teve menor market share das operções de cargas no período de janeiro a outubro de 2021."
      ],
      "metadata": {
        "id": "xwCj9N2Ndr2Y"
      }
    },
    {
      "cell_type": "markdown",
      "source": [
        "# Análise - Parte 2"
      ],
      "metadata": {
        "id": "kwVW8gqioIV8"
      }
    },
    {
      "cell_type": "markdown",
      "source": [
        "1. Como foi a evolução do total de carga transportada por mês por cada empresa?\n",
        "\n",
        "2. Quais foram as rotas operadas por cada empresa?\n",
        "\n",
        "2. Quais são as rotas com maior fluxo de carga paga?\n",
        "\n",
        "2. Qual é a média de carga paga transportada por voo? E como é a distribuição estatística?\n",
        "\n",
        "3. Há alguma relação entre a quantidade de carga paga e frequencia de voos? E com relação a número de passageiros pagos?"
      ],
      "metadata": {
        "id": "tWXAntq5to7Y"
      }
    },
    {
      "cell_type": "markdown",
      "source": [
        "## Série histórica"
      ],
      "metadata": {
        "id": "mgBs4hRr2os9"
      }
    },
    {
      "cell_type": "markdown",
      "source": [
        "Definição de dataframes para análise da série histórica de cada empresa."
      ],
      "metadata": {
        "id": "p3JY9XyTjDW_"
      }
    },
    {
      "cell_type": "code",
      "source": [
        "serie_hist_a = df[df.empresa == 'A'].groupby(by='mês').sum().sort_values('mês').reset_index()\n",
        "serie_hist_b = df[df.empresa == 'B'].groupby(by='mês').sum().sort_values('mês').reset_index()\n",
        "serie_hist_c = df[df.empresa == 'C'].groupby(by='mês').sum().sort_values('mês').reset_index()"
      ],
      "metadata": {
        "id": "dec9PMq8U9QK"
      },
      "execution_count": 28,
      "outputs": []
    },
    {
      "cell_type": "markdown",
      "source": [
        "Gráficos das séries históricas de `carga_paga_kg`, `decolagens` e `passageiros_pagos`:"
      ],
      "metadata": {
        "id": "iaxX_Ce8jIQY"
      }
    },
    {
      "cell_type": "code",
      "source": [
        "plt.plot(serie_hist_a['mês'], serie_hist_a['carga_paga_kg'], marker='.', label='A')\n",
        "plt.plot(serie_hist_b['mês'], serie_hist_b['carga_paga_kg'], marker='.', label='B')\n",
        "plt.plot(serie_hist_c['mês'], serie_hist_c['carga_paga_kg'], marker='.', label='C')\n",
        "plt.xlabel('Mês')\n",
        "plt.ylabel('Carga paga [x10^7]')\n",
        "plt.title('Carga: Acumulado jan-out de 2021')\n",
        "plt.legend()\n",
        "plt.show()"
      ],
      "metadata": {
        "colab": {
          "base_uri": "https://localhost:8080/",
          "height": 295
        },
        "id": "fIU0qV37tHlp",
        "outputId": "26fae006-b0aa-4722-fd18-401a7bfa4b55"
      },
      "execution_count": 29,
      "outputs": [
        {
          "output_type": "display_data",
          "data": {
            "text/plain": [
              "<Figure size 432x288 with 1 Axes>"
            ],
            "image/png": "[encoded data removed]"
          },
          "metadata": {
            "needs_background": "light"
          }
        }
      ]
    },
    {
      "cell_type": "code",
      "source": [
        "plt.plot(serie_hist_a['mês'], serie_hist_a['decolagens'], marker='.', label='A')\n",
        "plt.plot(serie_hist_b['mês'], serie_hist_b['decolagens'], marker='.', label='B')\n",
        "plt.plot(serie_hist_c['mês'], serie_hist_c['decolagens'], marker='.', label='C')\n",
        "plt.xlabel('Mês')\n",
        "plt.ylabel('Decolagens')\n",
        "plt.title('Decolagens: Acumulado jan-out de 2021')\n",
        "plt.legend()\n",
        "plt.show()"
      ],
      "metadata": {
        "colab": {
          "base_uri": "https://localhost:8080/",
          "height": 295
        },
        "id": "s1rjygQu3tii",
        "outputId": "cde2dd6e-87de-4f20-988b-be4805d8a3b8"
      },
      "execution_count": 30,
      "outputs": [
        {
          "output_type": "display_data",
          "data": {
            "text/plain": [
              "<Figure size 432x288 with 1 Axes>"
            ],
            "image/png": "[encoded data removed]"
          },
          "metadata": {
            "needs_background": "light"
          }
        }
      ]
    },
    {
      "cell_type": "code",
      "source": [
        "plt.plot(serie_hist_a['mês'], serie_hist_a['passageiros_pagos'], marker='.', label='A')\n",
        "plt.plot(serie_hist_b['mês'], serie_hist_b['passageiros_pagos'], marker='.', label='B')\n",
        "plt.plot(serie_hist_c['mês'], serie_hist_c['passageiros_pagos'], marker='.', label='C')\n",
        "plt.xlabel('Mês')\n",
        "plt.ylabel('PAX pagos [milhões]')\n",
        "plt.title('PAX: Acumulado jan-out de 2021')\n",
        "plt.legend()\n",
        "plt.show()"
      ],
      "metadata": {
        "colab": {
          "base_uri": "https://localhost:8080/",
          "height": 295
        },
        "id": "urEkSRF94Sqq",
        "outputId": "ed357e50-0250-4d39-fd79-e877d1a0f1cd"
      },
      "execution_count": 31,
      "outputs": [
        {
          "output_type": "display_data",
          "data": {
            "text/plain": [
              "<Figure size 432x288 with 1 Axes>"
            ],
            "image/png": "[encoded data removed]"
          },
          "metadata": {
            "needs_background": "light"
          }
        }
      ]
    },
    {
      "cell_type": "markdown",
      "source": [
        "## Rotas voadas"
      ],
      "metadata": {
        "id": "M9bLQXcQA5sn"
      }
    },
    {
      "cell_type": "code",
      "source": [
        "# Rotas únicas\n",
        "rotas_a = df[df.empresa == 'A'].rota.unique()\n",
        "rotas_b = df[df.empresa == 'B'].rota.unique()\n",
        "rotas_c = df[df.empresa == 'C'].rota.unique()\n",
        "\n",
        "# Número de rotas únicas\n",
        "num_rotas_a = rotas_a.size\n",
        "num_rotas_b = rotas_b.size\n",
        "num_rotas_c = rotas_c.size\n",
        "\n",
        "print('Empresa A: ' + str(num_rotas_a) + ' rotas')\n",
        "print('Empresa B: ' + str(num_rotas_b) + ' rotas')\n",
        "print('Empresa C: ' + str(num_rotas_c) + ' rotas')"
      ],
      "metadata": {
        "colab": {
          "base_uri": "https://localhost:8080/"
        },
        "id": "GWq1a-QxMoU2",
        "outputId": "1cd2bbbd-bf13-4f7a-fe0f-0001d981b649"
      },
      "execution_count": 32,
      "outputs": [
        {
          "output_type": "stream",
          "name": "stdout",
          "text": [
            "Empresa A: 783 rotas\n",
            "Empresa B: 381 rotas\n",
            "Empresa C: 297 rotas\n"
          ]
        }
      ]
    },
    {
      "cell_type": "markdown",
      "source": [
        "## Fluxo de carga por rota"
      ],
      "metadata": {
        "id": "gqG5_Kc_8oou"
      }
    },
    {
      "cell_type": "markdown",
      "source": [
        "Método (query) para consolidar os dados para avaliação do fluxo de carga paga:"
      ],
      "metadata": {
        "id": "x3ruJO8Nfx5y"
      }
    },
    {
      "cell_type": "code",
      "source": [
        "fluxo_carga_a = df[df.empresa == 'A'].groupby(by='rota').sum().sort_values('carga_paga_kg', ascending=False).reset_index()\n",
        "fluxo_carga_b = df[df.empresa == 'B'].groupby(by='rota').sum().sort_values('carga_paga_kg', ascending=False).reset_index()\n",
        "fluxo_carga_c = df[df.empresa == 'C'].groupby(by='rota').sum().sort_values('carga_paga_kg', ascending=False).reset_index()\n",
        "\n",
        "fluxo_carga_a['fluxo_carga_percentual'] = round(fluxo_carga_a.carga_paga_kg / fluxo_carga_a.carga_paga_kg.sum() * 100, 1)\n",
        "fluxo_carga_b['fluxo_carga_percentual'] = round(fluxo_carga_b.carga_paga_kg / fluxo_carga_b.carga_paga_kg.sum() * 100, 1)\n",
        "fluxo_carga_c['fluxo_carga_percentual'] = round(fluxo_carga_c.carga_paga_kg / fluxo_carga_c.carga_paga_kg.sum() * 100, 1)"
      ],
      "metadata": {
        "id": "iU56Ldaw71_w"
      },
      "execution_count": 33,
      "outputs": []
    },
    {
      "cell_type": "markdown",
      "source": [
        "Nessa parte da análise, será considerado apenas as rotas em que houve carga paga transportada."
      ],
      "metadata": {
        "id": "sAL1uMMfgLXP"
      }
    },
    {
      "cell_type": "code",
      "source": [
        "fluxo_carga_a = fluxo_carga_a[fluxo_carga_a.carga_paga_kg > 0]"
      ],
      "metadata": {
        "id": "VY2GAf4OCwz0"
      },
      "execution_count": 34,
      "outputs": []
    },
    {
      "cell_type": "code",
      "source": [
        "fluxo_carga_b = fluxo_carga_b[fluxo_carga_b.carga_paga_kg > 0]"
      ],
      "metadata": {
        "id": "k2avvQ0GVfSV"
      },
      "execution_count": 35,
      "outputs": []
    },
    {
      "cell_type": "code",
      "source": [
        "fluxo_carga_c = fluxo_carga_c[fluxo_carga_c.carga_paga_kg > 0]"
      ],
      "metadata": {
        "id": "1qxDEBjRVnG4"
      },
      "execution_count": 36,
      "outputs": []
    },
    {
      "cell_type": "markdown",
      "source": [
        "Vamos avaliar as 10 rotas com maior fluxo de carga paga."
      ],
      "metadata": {
        "id": "xFeeDvmUYdQ4"
      }
    },
    {
      "cell_type": "code",
      "source": [
        "# Empresa A\n",
        "fluxo_carga_a[['rota', 'passageiros_pagos', 'carga_paga_kg', 'decolagens', 'fluxo_carga_percentual']].head(10)                                                                                                         \n"
      ],
      "metadata": {
        "colab": {
          "base_uri": "https://localhost:8080/",
          "height": 363
        },
        "id": "qyssSUVlIiAZ",
        "outputId": "12b7c7d4-d8d4-46b4-88c9-5a363af5b189"
      },
      "execution_count": 50,
      "outputs": [
        {
          "output_type": "execute_result",
          "data": {
            "text/plain": [
              "     rota  passageiros_pagos  carga_paga_kg  decolagens  \\\n",
              "0  MAOVCP           166285.0     16211778.0      1279.0   \n",
              "1  VCPMAO           150758.0     14434231.0      1106.0   \n",
              "2  VCPREC           236349.0      8345222.0      1275.0   \n",
              "3  VCPBEL            96093.0      3058698.0       730.0   \n",
              "4  RECVCP           246021.0      2641721.0      1239.0   \n",
              "5  POAVCP           262697.0      2530391.0      2198.0   \n",
              "6  VIXVCP           122115.0      2242683.0      1475.0   \n",
              "7  BELMAO            54233.0      2142069.0       507.0   \n",
              "8  VCPVIX           118512.0      2114304.0      1482.0   \n",
              "9  GRUREC           205388.0      2042882.0      1403.0   \n",
              "\n",
              "   fluxo_carga_percentual  \n",
              "0                    14.3  \n",
              "1                    12.7  \n",
              "2                     7.3  \n",
              "3                     2.7  \n",
              "4                     2.3  \n",
              "5                     2.2  \n",
              "6                     2.0  \n",
              "7                     1.9  \n",
              "8                     1.9  \n",
              "9                     1.8  "
            ],
            "text/html": [
              "\n",
              "  <div id=\"df-0c366c8e-314c-414d-953f-0d585b084fa3\">\n",
              "    <div class=\"colab-df-container\">\n",
              "      <div>\n",
              "<style scoped>\n",
              "    .dataframe tbody tr th:only-of-type {\n",
              "        vertical-align: middle;\n",
              "    }\n",
              "\n",
              "    .dataframe tbody tr th {\n",
              "        vertical-align: top;\n",
              "    }\n",
              "\n",
              "    .dataframe thead th {\n",
              "        text-align: right;\n",
              "    }\n",
              "</style>\n",
              "<table border=\"1\" class=\"dataframe\">\n",
              "  <thead>\n",
              "    <tr style=\"text-align: right;\">\n",
              "      <th></th>\n",
              "      <th>rota</th>\n",
              "      <th>passageiros_pagos</th>\n",
              "      <th>carga_paga_kg</th>\n",
              "      <th>decolagens</th>\n",
              "      <th>fluxo_carga_percentual</th>\n",
              "    </tr>\n",
              "  </thead>\n",
              "  <tbody>\n",
              "    <tr>\n",
              "      <th>0</th>\n",
              "      <td>MAOVCP</td>\n",
              "      <td>166285.0</td>\n",
              "      <td>16211778.0</td>\n",
              "      <td>1279.0</td>\n",
              "      <td>14.3</td>\n",
              "    </tr>\n",
              "    <tr>\n",
              "      <th>1</th>\n",
              "      <td>VCPMAO</td>\n",
              "      <td>150758.0</td>\n",
              "      <td>14434231.0</td>\n",
              "      <td>1106.0</td>\n",
              "      <td>12.7</td>\n",
              "    </tr>\n",
              "    <tr>\n",
              "      <th>2</th>\n",
              "      <td>VCPREC</td>\n",
              "      <td>236349.0</td>\n",
              "      <td>8345222.0</td>\n",
              "      <td>1275.0</td>\n",
              "      <td>7.3</td>\n",
              "    </tr>\n",
              "    <tr>\n",
              "      <th>3</th>\n",
              "      <td>VCPBEL</td>\n",
              "      <td>96093.0</td>\n",
              "      <td>3058698.0</td>\n",
              "      <td>730.0</td>\n",
              "      <td>2.7</td>\n",
              "    </tr>\n",
              "    <tr>\n",
              "      <th>4</th>\n",
              "      <td>RECVCP</td>\n",
              "      <td>246021.0</td>\n",
              "      <td>2641721.0</td>\n",
              "      <td>1239.0</td>\n",
              "      <td>2.3</td>\n",
              "    </tr>\n",
              "    <tr>\n",
              "      <th>5</th>\n",
              "      <td>POAVCP</td>\n",
              "      <td>262697.0</td>\n",
              "      <td>2530391.0</td>\n",
              "      <td>2198.0</td>\n",
              "      <td>2.2</td>\n",
              "    </tr>\n",
              "    <tr>\n",
              "      <th>6</th>\n",
              "      <td>VIXVCP</td>\n",
              "      <td>122115.0</td>\n",
              "      <td>2242683.0</td>\n",
              "      <td>1475.0</td>\n",
              "      <td>2.0</td>\n",
              "    </tr>\n",
              "    <tr>\n",
              "      <th>7</th>\n",
              "      <td>BELMAO</td>\n",
              "      <td>54233.0</td>\n",
              "      <td>2142069.0</td>\n",
              "      <td>507.0</td>\n",
              "      <td>1.9</td>\n",
              "    </tr>\n",
              "    <tr>\n",
              "      <th>8</th>\n",
              "      <td>VCPVIX</td>\n",
              "      <td>118512.0</td>\n",
              "      <td>2114304.0</td>\n",
              "      <td>1482.0</td>\n",
              "      <td>1.9</td>\n",
              "    </tr>\n",
              "    <tr>\n",
              "      <th>9</th>\n",
              "      <td>GRUREC</td>\n",
              "      <td>205388.0</td>\n",
              "      <td>2042882.0</td>\n",
              "      <td>1403.0</td>\n",
              "      <td>1.8</td>\n",
              "    </tr>\n",
              "  </tbody>\n",
              "</table>\n",
              "</div>\n",
              "      <button class=\"colab-df-convert\" onclick=\"convertToInteractive('df-0c366c8e-314c-414d-953f-0d585b084fa3')\"\n",
              "              title=\"Convert this dataframe to an interactive table.\"\n",
              "              style=\"display:none;\">\n",
              "        \n",
              "  <svg xmlns=\"http://www.w3.org/2000/svg\" height=\"24px\"viewBox=\"0 0 24 24\"\n",
              "       width=\"24px\">\n",
              "    <path d=\"M0 0h24v24H0V0z\" fill=\"none\"/>\n",
              "    <path d=\"M18.56 5.44l.94 2.06.94-2.06 2.06-.94-2.06-.94-.94-2.06-.94 2.06-2.06.94zm-11 1L8.5 8.5l.94-2.06 2.06-.94-2.06-.94L8.5 2.5l-.94 2.06-2.06.94zm10 10l.94 2.06.94-2.06 2.06-.94-2.06-.94-.94-2.06-.94 2.06-2.06.94z\"/><path d=\"M17.41 7.96l-1.37-1.37c-.4-.4-.92-.59-1.43-.59-.52 0-1.04.2-1.43.59L10.3 9.45l-7.72 7.72c-.78.78-.78 2.05 0 2.83L4 21.41c.39.39.9.59 1.41.59.51 0 1.02-.2 1.41-.59l7.78-7.78 2.81-2.81c.8-.78.8-2.07 0-2.86zM5.41 20L4 18.59l7.72-7.72 1.47 1.35L5.41 20z\"/>\n",
              "  </svg>\n",
              "      </button>\n",
              "      \n",
              "  <style>\n",
              "    .colab-df-container {\n",
              "      display:flex;\n",
              "      flex-wrap:wrap;\n",
              "      gap: 12px;\n",
              "    }\n",
              "\n",
              "    .colab-df-convert {\n",
              "      background-color: #E8F0FE;\n",
              "      border: none;\n",
              "      border-radius: 50%;\n",
              "      cursor: pointer;\n",
              "      display: none;\n",
              "      fill: #1967D2;\n",
              "      height: 32px;\n",
              "      padding: 0 0 0 0;\n",
              "      width: 32px;\n",
              "    }\n",
              "\n",
              "    .colab-df-convert:hover {\n",
              "      background-color: #E2EBFA;\n",
              "      box-shadow: 0px 1px 2px rgba(60, 64, 67, 0.3), 0px 1px 3px 1px rgba(60, 64, 67, 0.15);\n",
              "      fill: #174EA6;\n",
              "    }\n",
              "\n",
              "    [theme=dark] .colab-df-convert {\n",
              "      background-color: #3B4455;\n",
              "      fill: #D2E3FC;\n",
              "    }\n",
              "\n",
              "    [theme=dark] .colab-df-convert:hover {\n",
              "      background-color: #434B5C;\n",
              "      box-shadow: 0px 1px 3px 1px rgba(0, 0, 0, 0.15);\n",
              "      filter: drop-shadow(0px 1px 2px rgba(0, 0, 0, 0.3));\n",
              "      fill: #FFFFFF;\n",
              "    }\n",
              "  </style>\n",
              "\n",
              "      <script>\n",
              "        const buttonEl =\n",
              "          document.querySelector('#df-0c366c8e-314c-414d-953f-0d585b084fa3 button.colab-df-convert');\n",
              "        buttonEl.style.display =\n",
              "          google.colab.kernel.accessAllowed ? 'block' : 'none';\n",
              "\n",
              "        async function convertToInteractive(key) {\n",
              "          const element = document.querySelector('#df-0c366c8e-314c-414d-953f-0d585b084fa3');\n",
              "          const dataTable =\n",
              "            await google.colab.kernel.invokeFunction('convertToInteractive',\n",
              "                                                     [key], {});\n",
              "          if (!dataTable) return;\n",
              "\n",
              "          const docLinkHtml = 'Like what you see? Visit the ' +\n",
              "            '<a target=\"_blank\" href=https://colab.research.google.com/notebooks/data_table.ipynb>data table notebook</a>'\n",
              "            + ' to learn more about interactive tables.';\n",
              "          element.innerHTML = '';\n",
              "          dataTable['output_type'] = 'display_data';\n",
              "          await google.colab.output.renderOutput(dataTable, element);\n",
              "          const docLink = document.createElement('div');\n",
              "          docLink.innerHTML = docLinkHtml;\n",
              "          element.appendChild(docLink);\n",
              "        }\n",
              "      </script>\n",
              "    </div>\n",
              "  </div>\n",
              "  "
            ]
          },
          "metadata": {},
          "execution_count": 50
        }
      ]
    },
    {
      "cell_type": "code",
      "source": [
        "# Empresa B\n",
        "fluxo_carga_b[['rota', 'passageiros_pagos', 'carga_paga_kg', 'decolagens', 'fluxo_carga_percentual']].head(10)"
      ],
      "metadata": {
        "id": "bHYo5DdbDVEU",
        "outputId": "7442392a-9907-474c-9917-8c2a9852d525",
        "colab": {
          "base_uri": "https://localhost:8080/",
          "height": 363
        }
      },
      "execution_count": 51,
      "outputs": [
        {
          "output_type": "execute_result",
          "data": {
            "text/plain": [
              "     rota  passageiros_pagos  carga_paga_kg  decolagens  \\\n",
              "0  GRUBSB           163972.0      1082828.0      1189.0   \n",
              "1  CGHBSB           139755.0       928132.0      1088.0   \n",
              "2  GRUREC           166898.0       760252.0      1030.0   \n",
              "3  GRUFOR           153410.0       729613.0       977.0   \n",
              "4  GRUSSA           160543.0       715733.0      1076.0   \n",
              "5  BSBGRU           167116.0       510837.0      1183.0   \n",
              "6  BSBMAO            50952.0       500154.0       352.0   \n",
              "7  FORGRU           158904.0       469914.0       974.0   \n",
              "8  RECGRU           174106.0       450201.0      1033.0   \n",
              "9  FORMAO            52483.0       429344.0       348.0   \n",
              "\n",
              "   fluxo_carga_percentual  \n",
              "0                     3.5  \n",
              "1                     3.0  \n",
              "2                     2.4  \n",
              "3                     2.4  \n",
              "4                     2.3  \n",
              "5                     1.6  \n",
              "6                     1.6  \n",
              "7                     1.5  \n",
              "8                     1.5  \n",
              "9                     1.4  "
            ],
            "text/html": [
              "\n",
              "  <div id=\"df-01c3dbc5-1f86-4872-8d69-0450309cbae5\">\n",
              "    <div class=\"colab-df-container\">\n",
              "      <div>\n",
              "<style scoped>\n",
              "    .dataframe tbody tr th:only-of-type {\n",
              "        vertical-align: middle;\n",
              "    }\n",
              "\n",
              "    .dataframe tbody tr th {\n",
              "        vertical-align: top;\n",
              "    }\n",
              "\n",
              "    .dataframe thead th {\n",
              "        text-align: right;\n",
              "    }\n",
              "</style>\n",
              "<table border=\"1\" class=\"dataframe\">\n",
              "  <thead>\n",
              "    <tr style=\"text-align: right;\">\n",
              "      <th></th>\n",
              "      <th>rota</th>\n",
              "      <th>passageiros_pagos</th>\n",
              "      <th>carga_paga_kg</th>\n",
              "      <th>decolagens</th>\n",
              "      <th>fluxo_carga_percentual</th>\n",
              "    </tr>\n",
              "  </thead>\n",
              "  <tbody>\n",
              "    <tr>\n",
              "      <th>0</th>\n",
              "      <td>GRUBSB</td>\n",
              "      <td>163972.0</td>\n",
              "      <td>1082828.0</td>\n",
              "      <td>1189.0</td>\n",
              "      <td>3.5</td>\n",
              "    </tr>\n",
              "    <tr>\n",
              "      <th>1</th>\n",
              "      <td>CGHBSB</td>\n",
              "      <td>139755.0</td>\n",
              "      <td>928132.0</td>\n",
              "      <td>1088.0</td>\n",
              "      <td>3.0</td>\n",
              "    </tr>\n",
              "    <tr>\n",
              "      <th>2</th>\n",
              "      <td>GRUREC</td>\n",
              "      <td>166898.0</td>\n",
              "      <td>760252.0</td>\n",
              "      <td>1030.0</td>\n",
              "      <td>2.4</td>\n",
              "    </tr>\n",
              "    <tr>\n",
              "      <th>3</th>\n",
              "      <td>GRUFOR</td>\n",
              "      <td>153410.0</td>\n",
              "      <td>729613.0</td>\n",
              "      <td>977.0</td>\n",
              "      <td>2.4</td>\n",
              "    </tr>\n",
              "    <tr>\n",
              "      <th>4</th>\n",
              "      <td>GRUSSA</td>\n",
              "      <td>160543.0</td>\n",
              "      <td>715733.0</td>\n",
              "      <td>1076.0</td>\n",
              "      <td>2.3</td>\n",
              "    </tr>\n",
              "    <tr>\n",
              "      <th>5</th>\n",
              "      <td>BSBGRU</td>\n",
              "      <td>167116.0</td>\n",
              "      <td>510837.0</td>\n",
              "      <td>1183.0</td>\n",
              "      <td>1.6</td>\n",
              "    </tr>\n",
              "    <tr>\n",
              "      <th>6</th>\n",
              "      <td>BSBMAO</td>\n",
              "      <td>50952.0</td>\n",
              "      <td>500154.0</td>\n",
              "      <td>352.0</td>\n",
              "      <td>1.6</td>\n",
              "    </tr>\n",
              "    <tr>\n",
              "      <th>7</th>\n",
              "      <td>FORGRU</td>\n",
              "      <td>158904.0</td>\n",
              "      <td>469914.0</td>\n",
              "      <td>974.0</td>\n",
              "      <td>1.5</td>\n",
              "    </tr>\n",
              "    <tr>\n",
              "      <th>8</th>\n",
              "      <td>RECGRU</td>\n",
              "      <td>174106.0</td>\n",
              "      <td>450201.0</td>\n",
              "      <td>1033.0</td>\n",
              "      <td>1.5</td>\n",
              "    </tr>\n",
              "    <tr>\n",
              "      <th>9</th>\n",
              "      <td>FORMAO</td>\n",
              "      <td>52483.0</td>\n",
              "      <td>429344.0</td>\n",
              "      <td>348.0</td>\n",
              "      <td>1.4</td>\n",
              "    </tr>\n",
              "  </tbody>\n",
              "</table>\n",
              "</div>\n",
              "      <button class=\"colab-df-convert\" onclick=\"convertToInteractive('df-01c3dbc5-1f86-4872-8d69-0450309cbae5')\"\n",
              "              title=\"Convert this dataframe to an interactive table.\"\n",
              "              style=\"display:none;\">\n",
              "        \n",
              "  <svg xmlns=\"http://www.w3.org/2000/svg\" height=\"24px\"viewBox=\"0 0 24 24\"\n",
              "       width=\"24px\">\n",
              "    <path d=\"M0 0h24v24H0V0z\" fill=\"none\"/>\n",
              "    <path d=\"M18.56 5.44l.94 2.06.94-2.06 2.06-.94-2.06-.94-.94-2.06-.94 2.06-2.06.94zm-11 1L8.5 8.5l.94-2.06 2.06-.94-2.06-.94L8.5 2.5l-.94 2.06-2.06.94zm10 10l.94 2.06.94-2.06 2.06-.94-2.06-.94-.94-2.06-.94 2.06-2.06.94z\"/><path d=\"M17.41 7.96l-1.37-1.37c-.4-.4-.92-.59-1.43-.59-.52 0-1.04.2-1.43.59L10.3 9.45l-7.72 7.72c-.78.78-.78 2.05 0 2.83L4 21.41c.39.39.9.59 1.41.59.51 0 1.02-.2 1.41-.59l7.78-7.78 2.81-2.81c.8-.78.8-2.07 0-2.86zM5.41 20L4 18.59l7.72-7.72 1.47 1.35L5.41 20z\"/>\n",
              "  </svg>\n",
              "      </button>\n",
              "      \n",
              "  <style>\n",
              "    .colab-df-container {\n",
              "      display:flex;\n",
              "      flex-wrap:wrap;\n",
              "      gap: 12px;\n",
              "    }\n",
              "\n",
              "    .colab-df-convert {\n",
              "      background-color: #E8F0FE;\n",
              "      border: none;\n",
              "      border-radius: 50%;\n",
              "      cursor: pointer;\n",
              "      display: none;\n",
              "      fill: #1967D2;\n",
              "      height: 32px;\n",
              "      padding: 0 0 0 0;\n",
              "      width: 32px;\n",
              "    }\n",
              "\n",
              "    .colab-df-convert:hover {\n",
              "      background-color: #E2EBFA;\n",
              "      box-shadow: 0px 1px 2px rgba(60, 64, 67, 0.3), 0px 1px 3px 1px rgba(60, 64, 67, 0.15);\n",
              "      fill: #174EA6;\n",
              "    }\n",
              "\n",
              "    [theme=dark] .colab-df-convert {\n",
              "      background-color: #3B4455;\n",
              "      fill: #D2E3FC;\n",
              "    }\n",
              "\n",
              "    [theme=dark] .colab-df-convert:hover {\n",
              "      background-color: #434B5C;\n",
              "      box-shadow: 0px 1px 3px 1px rgba(0, 0, 0, 0.15);\n",
              "      filter: drop-shadow(0px 1px 2px rgba(0, 0, 0, 0.3));\n",
              "      fill: #FFFFFF;\n",
              "    }\n",
              "  </style>\n",
              "\n",
              "      <script>\n",
              "        const buttonEl =\n",
              "          document.querySelector('#df-01c3dbc5-1f86-4872-8d69-0450309cbae5 button.colab-df-convert');\n",
              "        buttonEl.style.display =\n",
              "          google.colab.kernel.accessAllowed ? 'block' : 'none';\n",
              "\n",
              "        async function convertToInteractive(key) {\n",
              "          const element = document.querySelector('#df-01c3dbc5-1f86-4872-8d69-0450309cbae5');\n",
              "          const dataTable =\n",
              "            await google.colab.kernel.invokeFunction('convertToInteractive',\n",
              "                                                     [key], {});\n",
              "          if (!dataTable) return;\n",
              "\n",
              "          const docLinkHtml = 'Like what you see? Visit the ' +\n",
              "            '<a target=\"_blank\" href=https://colab.research.google.com/notebooks/data_table.ipynb>data table notebook</a>'\n",
              "            + ' to learn more about interactive tables.';\n",
              "          element.innerHTML = '';\n",
              "          dataTable['output_type'] = 'display_data';\n",
              "          await google.colab.output.renderOutput(dataTable, element);\n",
              "          const docLink = document.createElement('div');\n",
              "          docLink.innerHTML = docLinkHtml;\n",
              "          element.appendChild(docLink);\n",
              "        }\n",
              "      </script>\n",
              "    </div>\n",
              "  </div>\n",
              "  "
            ]
          },
          "metadata": {},
          "execution_count": 51
        }
      ]
    },
    {
      "cell_type": "code",
      "source": [
        "# Empresa C\n",
        "fluxo_carga_c[['rota', 'passageiros_pagos', 'carga_paga_kg', 'decolagens', 'fluxo_carga_percentual']].head(10)"
      ],
      "metadata": {
        "colab": {
          "base_uri": "https://localhost:8080/",
          "height": 363
        },
        "id": "tqgK0a4hqFPi",
        "outputId": "ab1ede8f-b3a0-4d56-fdcb-13efc3721c85"
      },
      "execution_count": 52,
      "outputs": [
        {
          "output_type": "execute_result",
          "data": {
            "text/plain": [
              "     rota  passageiros_pagos  carga_paga_kg  decolagens  \\\n",
              "0  GRUMAO           133602.0     17256094.0      1168.0   \n",
              "1  MAOGRU           140302.0     16280701.0      1130.0   \n",
              "2  FORGRU           225953.0      3614836.0      1392.0   \n",
              "3  RECGRU           211268.0      2937169.0      1239.0   \n",
              "4  GRUSSA           223973.0      2477669.0      1464.0   \n",
              "5  GRUREC           206398.0      2451814.0      1236.0   \n",
              "6  GRUFOR           222341.0      2366190.0      1393.0   \n",
              "7  VCPMAO                0.0      1943914.0        48.0   \n",
              "8  GRUBSB           195689.0      1895946.0      1415.0   \n",
              "9  SSAGRU           229701.0      1658147.0      1444.0   \n",
              "\n",
              "   fluxo_carga_percentual  \n",
              "0                    16.3  \n",
              "1                    15.4  \n",
              "2                     3.4  \n",
              "3                     2.8  \n",
              "4                     2.3  \n",
              "5                     2.3  \n",
              "6                     2.2  \n",
              "7                     1.8  \n",
              "8                     1.8  \n",
              "9                     1.6  "
            ],
            "text/html": [
              "\n",
              "  <div id=\"df-4f18c019-131c-41d5-b4f8-1f730e981d43\">\n",
              "    <div class=\"colab-df-container\">\n",
              "      <div>\n",
              "<style scoped>\n",
              "    .dataframe tbody tr th:only-of-type {\n",
              "        vertical-align: middle;\n",
              "    }\n",
              "\n",
              "    .dataframe tbody tr th {\n",
              "        vertical-align: top;\n",
              "    }\n",
              "\n",
              "    .dataframe thead th {\n",
              "        text-align: right;\n",
              "    }\n",
              "</style>\n",
              "<table border=\"1\" class=\"dataframe\">\n",
              "  <thead>\n",
              "    <tr style=\"text-align: right;\">\n",
              "      <th></th>\n",
              "      <th>rota</th>\n",
              "      <th>passageiros_pagos</th>\n",
              "      <th>carga_paga_kg</th>\n",
              "      <th>decolagens</th>\n",
              "      <th>fluxo_carga_percentual</th>\n",
              "    </tr>\n",
              "  </thead>\n",
              "  <tbody>\n",
              "    <tr>\n",
              "      <th>0</th>\n",
              "      <td>GRUMAO</td>\n",
              "      <td>133602.0</td>\n",
              "      <td>17256094.0</td>\n",
              "      <td>1168.0</td>\n",
              "      <td>16.3</td>\n",
              "    </tr>\n",
              "    <tr>\n",
              "      <th>1</th>\n",
              "      <td>MAOGRU</td>\n",
              "      <td>140302.0</td>\n",
              "      <td>16280701.0</td>\n",
              "      <td>1130.0</td>\n",
              "      <td>15.4</td>\n",
              "    </tr>\n",
              "    <tr>\n",
              "      <th>2</th>\n",
              "      <td>FORGRU</td>\n",
              "      <td>225953.0</td>\n",
              "      <td>3614836.0</td>\n",
              "      <td>1392.0</td>\n",
              "      <td>3.4</td>\n",
              "    </tr>\n",
              "    <tr>\n",
              "      <th>3</th>\n",
              "      <td>RECGRU</td>\n",
              "      <td>211268.0</td>\n",
              "      <td>2937169.0</td>\n",
              "      <td>1239.0</td>\n",
              "      <td>2.8</td>\n",
              "    </tr>\n",
              "    <tr>\n",
              "      <th>4</th>\n",
              "      <td>GRUSSA</td>\n",
              "      <td>223973.0</td>\n",
              "      <td>2477669.0</td>\n",
              "      <td>1464.0</td>\n",
              "      <td>2.3</td>\n",
              "    </tr>\n",
              "    <tr>\n",
              "      <th>5</th>\n",
              "      <td>GRUREC</td>\n",
              "      <td>206398.0</td>\n",
              "      <td>2451814.0</td>\n",
              "      <td>1236.0</td>\n",
              "      <td>2.3</td>\n",
              "    </tr>\n",
              "    <tr>\n",
              "      <th>6</th>\n",
              "      <td>GRUFOR</td>\n",
              "      <td>222341.0</td>\n",
              "      <td>2366190.0</td>\n",
              "      <td>1393.0</td>\n",
              "      <td>2.2</td>\n",
              "    </tr>\n",
              "    <tr>\n",
              "      <th>7</th>\n",
              "      <td>VCPMAO</td>\n",
              "      <td>0.0</td>\n",
              "      <td>1943914.0</td>\n",
              "      <td>48.0</td>\n",
              "      <td>1.8</td>\n",
              "    </tr>\n",
              "    <tr>\n",
              "      <th>8</th>\n",
              "      <td>GRUBSB</td>\n",
              "      <td>195689.0</td>\n",
              "      <td>1895946.0</td>\n",
              "      <td>1415.0</td>\n",
              "      <td>1.8</td>\n",
              "    </tr>\n",
              "    <tr>\n",
              "      <th>9</th>\n",
              "      <td>SSAGRU</td>\n",
              "      <td>229701.0</td>\n",
              "      <td>1658147.0</td>\n",
              "      <td>1444.0</td>\n",
              "      <td>1.6</td>\n",
              "    </tr>\n",
              "  </tbody>\n",
              "</table>\n",
              "</div>\n",
              "      <button class=\"colab-df-convert\" onclick=\"convertToInteractive('df-4f18c019-131c-41d5-b4f8-1f730e981d43')\"\n",
              "              title=\"Convert this dataframe to an interactive table.\"\n",
              "              style=\"display:none;\">\n",
              "        \n",
              "  <svg xmlns=\"http://www.w3.org/2000/svg\" height=\"24px\"viewBox=\"0 0 24 24\"\n",
              "       width=\"24px\">\n",
              "    <path d=\"M0 0h24v24H0V0z\" fill=\"none\"/>\n",
              "    <path d=\"M18.56 5.44l.94 2.06.94-2.06 2.06-.94-2.06-.94-.94-2.06-.94 2.06-2.06.94zm-11 1L8.5 8.5l.94-2.06 2.06-.94-2.06-.94L8.5 2.5l-.94 2.06-2.06.94zm10 10l.94 2.06.94-2.06 2.06-.94-2.06-.94-.94-2.06-.94 2.06-2.06.94z\"/><path d=\"M17.41 7.96l-1.37-1.37c-.4-.4-.92-.59-1.43-.59-.52 0-1.04.2-1.43.59L10.3 9.45l-7.72 7.72c-.78.78-.78 2.05 0 2.83L4 21.41c.39.39.9.59 1.41.59.51 0 1.02-.2 1.41-.59l7.78-7.78 2.81-2.81c.8-.78.8-2.07 0-2.86zM5.41 20L4 18.59l7.72-7.72 1.47 1.35L5.41 20z\"/>\n",
              "  </svg>\n",
              "      </button>\n",
              "      \n",
              "  <style>\n",
              "    .colab-df-container {\n",
              "      display:flex;\n",
              "      flex-wrap:wrap;\n",
              "      gap: 12px;\n",
              "    }\n",
              "\n",
              "    .colab-df-convert {\n",
              "      background-color: #E8F0FE;\n",
              "      border: none;\n",
              "      border-radius: 50%;\n",
              "      cursor: pointer;\n",
              "      display: none;\n",
              "      fill: #1967D2;\n",
              "      height: 32px;\n",
              "      padding: 0 0 0 0;\n",
              "      width: 32px;\n",
              "    }\n",
              "\n",
              "    .colab-df-convert:hover {\n",
              "      background-color: #E2EBFA;\n",
              "      box-shadow: 0px 1px 2px rgba(60, 64, 67, 0.3), 0px 1px 3px 1px rgba(60, 64, 67, 0.15);\n",
              "      fill: #174EA6;\n",
              "    }\n",
              "\n",
              "    [theme=dark] .colab-df-convert {\n",
              "      background-color: #3B4455;\n",
              "      fill: #D2E3FC;\n",
              "    }\n",
              "\n",
              "    [theme=dark] .colab-df-convert:hover {\n",
              "      background-color: #434B5C;\n",
              "      box-shadow: 0px 1px 3px 1px rgba(0, 0, 0, 0.15);\n",
              "      filter: drop-shadow(0px 1px 2px rgba(0, 0, 0, 0.3));\n",
              "      fill: #FFFFFF;\n",
              "    }\n",
              "  </style>\n",
              "\n",
              "      <script>\n",
              "        const buttonEl =\n",
              "          document.querySelector('#df-4f18c019-131c-41d5-b4f8-1f730e981d43 button.colab-df-convert');\n",
              "        buttonEl.style.display =\n",
              "          google.colab.kernel.accessAllowed ? 'block' : 'none';\n",
              "\n",
              "        async function convertToInteractive(key) {\n",
              "          const element = document.querySelector('#df-4f18c019-131c-41d5-b4f8-1f730e981d43');\n",
              "          const dataTable =\n",
              "            await google.colab.kernel.invokeFunction('convertToInteractive',\n",
              "                                                     [key], {});\n",
              "          if (!dataTable) return;\n",
              "\n",
              "          const docLinkHtml = 'Like what you see? Visit the ' +\n",
              "            '<a target=\"_blank\" href=https://colab.research.google.com/notebooks/data_table.ipynb>data table notebook</a>'\n",
              "            + ' to learn more about interactive tables.';\n",
              "          element.innerHTML = '';\n",
              "          dataTable['output_type'] = 'display_data';\n",
              "          await google.colab.output.renderOutput(dataTable, element);\n",
              "          const docLink = document.createElement('div');\n",
              "          docLink.innerHTML = docLinkHtml;\n",
              "          element.appendChild(docLink);\n",
              "        }\n",
              "      </script>\n",
              "    </div>\n",
              "  </div>\n",
              "  "
            ]
          },
          "metadata": {},
          "execution_count": 52
        }
      ]
    },
    {
      "cell_type": "markdown",
      "source": [
        "Podemos observar que na operação da **empresa A**, as rotas **MAO-VCP** e **VCP-MAO** representam 27% do seu fluxo total de carga paga sendo as demais rotas menos do que 8%.\n",
        "\n",
        "A **empresa C** também opera de forma similar, com as rotas **GRU-MAO** e **MAO-GRU** representando 31,7% do seu fluxo total de carga paga e as demais rotas representando menos do que 4%.\n",
        "\n",
        "Outro ponto que pode ser observar é a repetição do aeroporto de VCP para a empresa A e o aeroporto de GRU para a empresa C. Isso é um indicativo de que essas duas empresas atuam em hubs distintos\n",
        "\n",
        "Já a **empresa B**, que é a que tem o menor market share de cargas, \n",
        "\n"
      ],
      "metadata": {
        "id": "eINnYcpMgm2h"
      }
    },
    {
      "cell_type": "code",
      "source": [
        "# plt.scatter(x=fluxo_carga_a['rota'], y=fluxo_carga_a['fluxo_carga_percentual'], label='A')\n",
        "# plt.plot(serie_hist_b['passageiros_pagos'], label='B')\n",
        "# plt.plot(serie_hist_c['passageiros_pagos'], label='C')\n",
        "# plt.legend()\n",
        "# plt.show()"
      ],
      "metadata": {
        "id": "4si3xFuvFneA"
      },
      "execution_count": 40,
      "outputs": []
    },
    {
      "cell_type": "code",
      "source": [
        "df.columns"
      ],
      "metadata": {
        "colab": {
          "base_uri": "https://localhost:8080/"
        },
        "id": "557df1P1z3Z0",
        "outputId": "a9c12a00-82bf-4fda-9dd4-1ca503340ea4"
      },
      "execution_count": 53,
      "outputs": [
        {
          "output_type": "execute_result",
          "data": {
            "text/plain": [
              "Index(['empresa', 'ano', 'mês', 'origem', 'aeroporto_origem', 'destion',\n",
              "       'aeroporto_destino', 'tipo_voo', 'passageiros_pagos', 'carga_paga_kg',\n",
              "       'decolagens', 'rota', 'carga_por_decolagem', 'pax_por_decolagem'],\n",
              "      dtype='object')"
            ]
          },
          "metadata": {},
          "execution_count": 53
        }
      ]
    },
    {
      "cell_type": "code",
      "source": [
        "df[(df.passageiros_pagos > 0) & (df.carga_paga_kg > 0) & (df['empresa'] == 'C')].sort_values('carga_por_decolagem', ascending=False)"
      ],
      "metadata": {
        "colab": {
          "base_uri": "https://localhost:8080/",
          "height": 488
        },
        "id": "XC6lcWwVY8__",
        "outputId": "b1565968-1fee-4240-ccfb-458371271d66"
      },
      "execution_count": 59,
      "outputs": [
        {
          "output_type": "execute_result",
          "data": {
            "text/plain": [
              "      empresa   ano  mês origem aeroporto_origem destion aeroporto_destino  \\\n",
              "11552       C  2021    4    MAO           MANAUS     GRU         GUARULHOS   \n",
              "11577       C  2021    4    GRU        GUARULHOS     MAO            MANAUS   \n",
              "11130       C  2021    2    MAO           MANAUS     GRU         GUARULHOS   \n",
              "11160       C  2021    2    GRU        GUARULHOS     MAO            MANAUS   \n",
              "12052       C  2021    6    BPS     PORTO SEGURO     GRU         GUARULHOS   \n",
              "...       ...   ...  ...    ...              ...     ...               ...   \n",
              "11818       C  2021    5    JJG        JAGUARUNA     CGH         SÃO PAULO   \n",
              "11612       C  2021    4    JJG        JAGUARUNA     CGH         SÃO PAULO   \n",
              "12894       C  2021    9    CGH        SÃO PAULO     LDB          LONDRINA   \n",
              "12302       C  2021    7    BPS     PORTO SEGURO     CGH         SÃO PAULO   \n",
              "12341       C  2021    7    CGH        SÃO PAULO     LDB          LONDRINA   \n",
              "\n",
              "        tipo_voo  passageiros_pagos  carga_paga_kg  decolagens    rota  \\\n",
              "11552  DOMÉSTICA             6304.0       610701.0        39.0  MAOGRU   \n",
              "11577  DOMÉSTICA             6429.0       492598.0        40.0  GRUMAO   \n",
              "11130  DOMÉSTICA             8403.0      1062821.0        88.0  MAOGRU   \n",
              "11160  DOMÉSTICA             8682.0       794685.0        86.0  GRUMAO   \n",
              "12052  DOMÉSTICA               40.0         9158.0         1.0  BPSGRU   \n",
              "...          ...                ...            ...         ...     ...   \n",
              "11818  DOMÉSTICA             1085.0           11.0        13.0  JJGCGH   \n",
              "11612  DOMÉSTICA              792.0            8.0        12.0  JJGCGH   \n",
              "12894  DOMÉSTICA             3260.0           16.0        25.0  CGHLDB   \n",
              "12302  DOMÉSTICA             3121.0           14.0        23.0  BPSCGH   \n",
              "12341  DOMÉSTICA              256.0            2.0         4.0  CGHLDB   \n",
              "\n",
              "       carga_por_decolagem  pax_por_decolagem  \n",
              "11552         15659.000000         161.641026  \n",
              "11577         12314.950000         160.725000  \n",
              "11130         12077.511364          95.488636  \n",
              "11160          9240.523256         100.953488  \n",
              "12052          9158.000000          40.000000  \n",
              "...                    ...                ...  \n",
              "11818             0.846154          83.461538  \n",
              "11612             0.666667          66.000000  \n",
              "12894             0.640000         130.400000  \n",
              "12302             0.608696         135.695652  \n",
              "12341             0.500000          64.000000  \n",
              "\n",
              "[1745 rows x 14 columns]"
            ],
            "text/html": [
              "\n",
              "  <div id=\"df-a002b380-935f-42a2-98d6-f449d6927d90\">\n",
              "    <div class=\"colab-df-container\">\n",
              "      <div>\n",
              "<style scoped>\n",
              "    .dataframe tbody tr th:only-of-type {\n",
              "        vertical-align: middle;\n",
              "    }\n",
              "\n",
              "    .dataframe tbody tr th {\n",
              "        vertical-align: top;\n",
              "    }\n",
              "\n",
              "    .dataframe thead th {\n",
              "        text-align: right;\n",
              "    }\n",
              "</style>\n",
              "<table border=\"1\" class=\"dataframe\">\n",
              "  <thead>\n",
              "    <tr style=\"text-align: right;\">\n",
              "      <th></th>\n",
              "      <th>empresa</th>\n",
              "      <th>ano</th>\n",
              "      <th>mês</th>\n",
              "      <th>origem</th>\n",
              "      <th>aeroporto_origem</th>\n",
              "      <th>destion</th>\n",
              "      <th>aeroporto_destino</th>\n",
              "      <th>tipo_voo</th>\n",
              "      <th>passageiros_pagos</th>\n",
              "      <th>carga_paga_kg</th>\n",
              "      <th>decolagens</th>\n",
              "      <th>rota</th>\n",
              "      <th>carga_por_decolagem</th>\n",
              "      <th>pax_por_decolagem</th>\n",
              "    </tr>\n",
              "  </thead>\n",
              "  <tbody>\n",
              "    <tr>\n",
              "      <th>11552</th>\n",
              "      <td>C</td>\n",
              "      <td>2021</td>\n",
              "      <td>4</td>\n",
              "      <td>MAO</td>\n",
              "      <td>MANAUS</td>\n",
              "      <td>GRU</td>\n",
              "      <td>GUARULHOS</td>\n",
              "      <td>DOMÉSTICA</td>\n",
              "      <td>6304.0</td>\n",
              "      <td>610701.0</td>\n",
              "      <td>39.0</td>\n",
              "      <td>MAOGRU</td>\n",
              "      <td>15659.000000</td>\n",
              "      <td>161.641026</td>\n",
              "    </tr>\n",
              "    <tr>\n",
              "      <th>11577</th>\n",
              "      <td>C</td>\n",
              "      <td>2021</td>\n",
              "      <td>4</td>\n",
              "      <td>GRU</td>\n",
              "      <td>GUARULHOS</td>\n",
              "      <td>MAO</td>\n",
              "      <td>MANAUS</td>\n",
              "      <td>DOMÉSTICA</td>\n",
              "      <td>6429.0</td>\n",
              "      <td>492598.0</td>\n",
              "      <td>40.0</td>\n",
              "      <td>GRUMAO</td>\n",
              "      <td>12314.950000</td>\n",
              "      <td>160.725000</td>\n",
              "    </tr>\n",
              "    <tr>\n",
              "      <th>11130</th>\n",
              "      <td>C</td>\n",
              "      <td>2021</td>\n",
              "      <td>2</td>\n",
              "      <td>MAO</td>\n",
              "      <td>MANAUS</td>\n",
              "      <td>GRU</td>\n",
              "      <td>GUARULHOS</td>\n",
              "      <td>DOMÉSTICA</td>\n",
              "      <td>8403.0</td>\n",
              "      <td>1062821.0</td>\n",
              "      <td>88.0</td>\n",
              "      <td>MAOGRU</td>\n",
              "      <td>12077.511364</td>\n",
              "      <td>95.488636</td>\n",
              "    </tr>\n",
              "    <tr>\n",
              "      <th>11160</th>\n",
              "      <td>C</td>\n",
              "      <td>2021</td>\n",
              "      <td>2</td>\n",
              "      <td>GRU</td>\n",
              "      <td>GUARULHOS</td>\n",
              "      <td>MAO</td>\n",
              "      <td>MANAUS</td>\n",
              "      <td>DOMÉSTICA</td>\n",
              "      <td>8682.0</td>\n",
              "      <td>794685.0</td>\n",
              "      <td>86.0</td>\n",
              "      <td>GRUMAO</td>\n",
              "      <td>9240.523256</td>\n",
              "      <td>100.953488</td>\n",
              "    </tr>\n",
              "    <tr>\n",
              "      <th>12052</th>\n",
              "      <td>C</td>\n",
              "      <td>2021</td>\n",
              "      <td>6</td>\n",
              "      <td>BPS</td>\n",
              "      <td>PORTO SEGURO</td>\n",
              "      <td>GRU</td>\n",
              "      <td>GUARULHOS</td>\n",
              "      <td>DOMÉSTICA</td>\n",
              "      <td>40.0</td>\n",
              "      <td>9158.0</td>\n",
              "      <td>1.0</td>\n",
              "      <td>BPSGRU</td>\n",
              "      <td>9158.000000</td>\n",
              "      <td>40.000000</td>\n",
              "    </tr>\n",
              "    <tr>\n",
              "      <th>...</th>\n",
              "      <td>...</td>\n",
              "      <td>...</td>\n",
              "      <td>...</td>\n",
              "      <td>...</td>\n",
              "      <td>...</td>\n",
              "      <td>...</td>\n",
              "      <td>...</td>\n",
              "      <td>...</td>\n",
              "      <td>...</td>\n",
              "      <td>...</td>\n",
              "      <td>...</td>\n",
              "      <td>...</td>\n",
              "      <td>...</td>\n",
              "      <td>...</td>\n",
              "    </tr>\n",
              "    <tr>\n",
              "      <th>11818</th>\n",
              "      <td>C</td>\n",
              "      <td>2021</td>\n",
              "      <td>5</td>\n",
              "      <td>JJG</td>\n",
              "      <td>JAGUARUNA</td>\n",
              "      <td>CGH</td>\n",
              "      <td>SÃO PAULO</td>\n",
              "      <td>DOMÉSTICA</td>\n",
              "      <td>1085.0</td>\n",
              "      <td>11.0</td>\n",
              "      <td>13.0</td>\n",
              "      <td>JJGCGH</td>\n",
              "      <td>0.846154</td>\n",
              "      <td>83.461538</td>\n",
              "    </tr>\n",
              "    <tr>\n",
              "      <th>11612</th>\n",
              "      <td>C</td>\n",
              "      <td>2021</td>\n",
              "      <td>4</td>\n",
              "      <td>JJG</td>\n",
              "      <td>JAGUARUNA</td>\n",
              "      <td>CGH</td>\n",
              "      <td>SÃO PAULO</td>\n",
              "      <td>DOMÉSTICA</td>\n",
              "      <td>792.0</td>\n",
              "      <td>8.0</td>\n",
              "      <td>12.0</td>\n",
              "      <td>JJGCGH</td>\n",
              "      <td>0.666667</td>\n",
              "      <td>66.000000</td>\n",
              "    </tr>\n",
              "    <tr>\n",
              "      <th>12894</th>\n",
              "      <td>C</td>\n",
              "      <td>2021</td>\n",
              "      <td>9</td>\n",
              "      <td>CGH</td>\n",
              "      <td>SÃO PAULO</td>\n",
              "      <td>LDB</td>\n",
              "      <td>LONDRINA</td>\n",
              "      <td>DOMÉSTICA</td>\n",
              "      <td>3260.0</td>\n",
              "      <td>16.0</td>\n",
              "      <td>25.0</td>\n",
              "      <td>CGHLDB</td>\n",
              "      <td>0.640000</td>\n",
              "      <td>130.400000</td>\n",
              "    </tr>\n",
              "    <tr>\n",
              "      <th>12302</th>\n",
              "      <td>C</td>\n",
              "      <td>2021</td>\n",
              "      <td>7</td>\n",
              "      <td>BPS</td>\n",
              "      <td>PORTO SEGURO</td>\n",
              "      <td>CGH</td>\n",
              "      <td>SÃO PAULO</td>\n",
              "      <td>DOMÉSTICA</td>\n",
              "      <td>3121.0</td>\n",
              "      <td>14.0</td>\n",
              "      <td>23.0</td>\n",
              "      <td>BPSCGH</td>\n",
              "      <td>0.608696</td>\n",
              "      <td>135.695652</td>\n",
              "    </tr>\n",
              "    <tr>\n",
              "      <th>12341</th>\n",
              "      <td>C</td>\n",
              "      <td>2021</td>\n",
              "      <td>7</td>\n",
              "      <td>CGH</td>\n",
              "      <td>SÃO PAULO</td>\n",
              "      <td>LDB</td>\n",
              "      <td>LONDRINA</td>\n",
              "      <td>DOMÉSTICA</td>\n",
              "      <td>256.0</td>\n",
              "      <td>2.0</td>\n",
              "      <td>4.0</td>\n",
              "      <td>CGHLDB</td>\n",
              "      <td>0.500000</td>\n",
              "      <td>64.000000</td>\n",
              "    </tr>\n",
              "  </tbody>\n",
              "</table>\n",
              "<p>1745 rows × 14 columns</p>\n",
              "</div>\n",
              "      <button class=\"colab-df-convert\" onclick=\"convertToInteractive('df-a002b380-935f-42a2-98d6-f449d6927d90')\"\n",
              "              title=\"Convert this dataframe to an interactive table.\"\n",
              "              style=\"display:none;\">\n",
              "        \n",
              "  <svg xmlns=\"http://www.w3.org/2000/svg\" height=\"24px\"viewBox=\"0 0 24 24\"\n",
              "       width=\"24px\">\n",
              "    <path d=\"M0 0h24v24H0V0z\" fill=\"none\"/>\n",
              "    <path d=\"M18.56 5.44l.94 2.06.94-2.06 2.06-.94-2.06-.94-.94-2.06-.94 2.06-2.06.94zm-11 1L8.5 8.5l.94-2.06 2.06-.94-2.06-.94L8.5 2.5l-.94 2.06-2.06.94zm10 10l.94 2.06.94-2.06 2.06-.94-2.06-.94-.94-2.06-.94 2.06-2.06.94z\"/><path d=\"M17.41 7.96l-1.37-1.37c-.4-.4-.92-.59-1.43-.59-.52 0-1.04.2-1.43.59L10.3 9.45l-7.72 7.72c-.78.78-.78 2.05 0 2.83L4 21.41c.39.39.9.59 1.41.59.51 0 1.02-.2 1.41-.59l7.78-7.78 2.81-2.81c.8-.78.8-2.07 0-2.86zM5.41 20L4 18.59l7.72-7.72 1.47 1.35L5.41 20z\"/>\n",
              "  </svg>\n",
              "      </button>\n",
              "      \n",
              "  <style>\n",
              "    .colab-df-container {\n",
              "      display:flex;\n",
              "      flex-wrap:wrap;\n",
              "      gap: 12px;\n",
              "    }\n",
              "\n",
              "    .colab-df-convert {\n",
              "      background-color: #E8F0FE;\n",
              "      border: none;\n",
              "      border-radius: 50%;\n",
              "      cursor: pointer;\n",
              "      display: none;\n",
              "      fill: #1967D2;\n",
              "      height: 32px;\n",
              "      padding: 0 0 0 0;\n",
              "      width: 32px;\n",
              "    }\n",
              "\n",
              "    .colab-df-convert:hover {\n",
              "      background-color: #E2EBFA;\n",
              "      box-shadow: 0px 1px 2px rgba(60, 64, 67, 0.3), 0px 1px 3px 1px rgba(60, 64, 67, 0.15);\n",
              "      fill: #174EA6;\n",
              "    }\n",
              "\n",
              "    [theme=dark] .colab-df-convert {\n",
              "      background-color: #3B4455;\n",
              "      fill: #D2E3FC;\n",
              "    }\n",
              "\n",
              "    [theme=dark] .colab-df-convert:hover {\n",
              "      background-color: #434B5C;\n",
              "      box-shadow: 0px 1px 3px 1px rgba(0, 0, 0, 0.15);\n",
              "      filter: drop-shadow(0px 1px 2px rgba(0, 0, 0, 0.3));\n",
              "      fill: #FFFFFF;\n",
              "    }\n",
              "  </style>\n",
              "\n",
              "      <script>\n",
              "        const buttonEl =\n",
              "          document.querySelector('#df-a002b380-935f-42a2-98d6-f449d6927d90 button.colab-df-convert');\n",
              "        buttonEl.style.display =\n",
              "          google.colab.kernel.accessAllowed ? 'block' : 'none';\n",
              "\n",
              "        async function convertToInteractive(key) {\n",
              "          const element = document.querySelector('#df-a002b380-935f-42a2-98d6-f449d6927d90');\n",
              "          const dataTable =\n",
              "            await google.colab.kernel.invokeFunction('convertToInteractive',\n",
              "                                                     [key], {});\n",
              "          if (!dataTable) return;\n",
              "\n",
              "          const docLinkHtml = 'Like what you see? Visit the ' +\n",
              "            '<a target=\"_blank\" href=https://colab.research.google.com/notebooks/data_table.ipynb>data table notebook</a>'\n",
              "            + ' to learn more about interactive tables.';\n",
              "          element.innerHTML = '';\n",
              "          dataTable['output_type'] = 'display_data';\n",
              "          await google.colab.output.renderOutput(dataTable, element);\n",
              "          const docLink = document.createElement('div');\n",
              "          docLink.innerHTML = docLinkHtml;\n",
              "          element.appendChild(docLink);\n",
              "        }\n",
              "      </script>\n",
              "    </div>\n",
              "  </div>\n",
              "  "
            ]
          },
          "metadata": {},
          "execution_count": 59
        }
      ]
    },
    {
      "cell_type": "code",
      "source": [
        "df[(df.passageiros_pagos > 0) & (df.carga_paga_kg > 0) & (df['empresa'] == 'A')].carga_por_decolagem.hist()"
      ],
      "metadata": {
        "colab": {
          "base_uri": "https://localhost:8080/",
          "height": 282
        },
        "id": "ZETy5F2vqTOa",
        "outputId": "69dae540-60ab-4d03-cb77-af31d0b4c26c"
      },
      "execution_count": 60,
      "outputs": [
        {
          "output_type": "execute_result",
          "data": {
            "text/plain": [
              "<matplotlib.axes._subplots.AxesSubplot at 0x7f8406c90990>"
            ]
          },
          "metadata": {},
          "execution_count": 60
        },
        {
          "output_type": "display_data",
          "data": {
            "text/plain": [
              "<Figure size 432x288 with 1 Axes>"
            ],
            "image/png": "[encoded data removed]"
          },
          "metadata": {
            "needs_background": "light"
          }
        }
      ]
    },
    {
      "cell_type": "code",
      "source": [
        "df[(df.passageiros_pagos > 0) & (df.carga_paga_kg > 0) & (df['empresa'] == 'B')].carga_por_decolagem.hist()"
      ],
      "metadata": {
        "colab": {
          "base_uri": "https://localhost:8080/",
          "height": 282
        },
        "id": "RUN4WU7f0_4R",
        "outputId": "6d0a9348-1213-4b2e-98a7-d84e8e6e54d8"
      },
      "execution_count": 61,
      "outputs": [
        {
          "output_type": "execute_result",
          "data": {
            "text/plain": [
              "<matplotlib.axes._subplots.AxesSubplot at 0x7f8406936dd0>"
            ]
          },
          "metadata": {},
          "execution_count": 61
        },
        {
          "output_type": "display_data",
          "data": {
            "text/plain": [
              "<Figure size 432x288 with 1 Axes>"
            ],
            "image/png": "[encoded data removed]"
          },
          "metadata": {
            "needs_background": "light"
          }
        }
      ]
    },
    {
      "cell_type": "code",
      "source": [
        "df[(df.passageiros_pagos > 0) & (df.carga_paga_kg > 0) & (df['empresa'] == 'C')].carga_por_decolagem.hist()"
      ],
      "metadata": {
        "colab": {
          "base_uri": "https://localhost:8080/",
          "height": 282
        },
        "id": "R85eIY391DXw",
        "outputId": "b49d6fc5-152d-4ab2-dbad-62dd014cdce4"
      },
      "execution_count": 62,
      "outputs": [
        {
          "output_type": "execute_result",
          "data": {
            "text/plain": [
              "<matplotlib.axes._subplots.AxesSubplot at 0x7f84068d3dd0>"
            ]
          },
          "metadata": {},
          "execution_count": 62
        },
        {
          "output_type": "display_data",
          "data": {
            "text/plain": [
              "<Figure size 432x288 with 1 Axes>"
            ],
            "image/png": "[encoded data removed]"
          },
          "metadata": {
            "needs_background": "light"
          }
        }
      ]
    },
    {
      "cell_type": "code",
      "source": [
        "df[(df.passageiros_pagos > 0) & (df.carga_paga_kg > 0) & (df['empresa'] == 'A')].carga_por_decolagem.plot.box()"
      ],
      "metadata": {
        "colab": {
          "base_uri": "https://localhost:8080/",
          "height": 283
        },
        "id": "wQdjhAxnX6mb",
        "outputId": "56469339-f91e-4682-bcd2-196d9119dbb6"
      },
      "execution_count": 63,
      "outputs": [
        {
          "output_type": "execute_result",
          "data": {
            "text/plain": [
              "<matplotlib.axes._subplots.AxesSubplot at 0x7f84068573d0>"
            ]
          },
          "metadata": {},
          "execution_count": 63
        },
        {
          "output_type": "display_data",
          "data": {
            "text/plain": [
              "<Figure size 432x288 with 1 Axes>"
            ],
            "image/png": "[encoded data removed]"
          },
          "metadata": {
            "needs_background": "light"
          }
        }
      ]
    },
    {
      "cell_type": "code",
      "source": [
        "df[(df.passageiros_pagos > 0) & (df.carga_paga_kg > 0) & (df['empresa'] == 'B')].carga_por_decolagem.plot.box()\n"
      ],
      "metadata": {
        "colab": {
          "base_uri": "https://localhost:8080/",
          "height": 283
        },
        "id": "Zw46mTPlaPe_",
        "outputId": "0456d5ad-c54f-4c5d-d5f4-0ef40f3b11de"
      },
      "execution_count": 64,
      "outputs": [
        {
          "output_type": "execute_result",
          "data": {
            "text/plain": [
              "<matplotlib.axes._subplots.AxesSubplot at 0x7f840675f890>"
            ]
          },
          "metadata": {},
          "execution_count": 64
        },
        {
          "output_type": "display_data",
          "data": {
            "text/plain": [
              "<Figure size 432x288 with 1 Axes>"
            ],
            "image/png": "[encoded data removed]"
          },
          "metadata": {
            "needs_background": "light"
          }
        }
      ]
    },
    {
      "cell_type": "code",
      "source": [
        "df[(df.passageiros_pagos > 0) & (df.carga_paga_kg > 0) & (df['empresa'] == 'C')].carga_por_decolagem.plot.box()"
      ],
      "metadata": {
        "colab": {
          "base_uri": "https://localhost:8080/",
          "height": 283
        },
        "id": "CDtjWLxAaenU",
        "outputId": "3553c901-5eff-41f0-d443-f446f0138dd1"
      },
      "execution_count": 65,
      "outputs": [
        {
          "output_type": "execute_result",
          "data": {
            "text/plain": [
              "<matplotlib.axes._subplots.AxesSubplot at 0x7f8406735ad0>"
            ]
          },
          "metadata": {},
          "execution_count": 65
        },
        {
          "output_type": "display_data",
          "data": {
            "text/plain": [
              "<Figure size 432x288 with 1 Axes>"
            ],
            "image/png": "[encoded data removed]"
          },
          "metadata": {
            "needs_background": "light"
          }
        }
      ]
    }
  ]
}